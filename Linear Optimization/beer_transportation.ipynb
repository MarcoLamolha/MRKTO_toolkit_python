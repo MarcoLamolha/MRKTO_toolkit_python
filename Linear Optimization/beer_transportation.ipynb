{
 "cells": [
  {
   "cell_type": "markdown",
   "metadata": {},
   "source": [
    "PuLP is an open-source linear programming (LP) solver that helps solve optimization problems. It's particularly useful for:\n",
    "Resource allocation problems\n",
    "Transportation problems\n",
    "Production planning\n",
    "Supply chain optimization"
   ]
  },
  {
   "cell_type": "code",
   "execution_count": 1,
   "metadata": {
    "colab": {
     "base_uri": "https://localhost:8080/"
    },
    "executionInfo": {
     "elapsed": 3019,
     "status": "ok",
     "timestamp": 1662926959470,
     "user": {
      "displayName": "Tiago Santana de Nazaré",
      "userId": "12156840176213681269"
     },
     "user_tz": 180
    },
    "id": "928DLQ4qC4b0",
    "outputId": "c0fab270-5f47-4171-ec04-4407cc735abc"
   },
   "outputs": [
    {
     "name": "stdout",
     "output_type": "stream",
     "text": [
      "Looking in indexes: https://pypi.org/simple, https://us-python.pkg.dev/colab-wheels/public/simple/\n",
      "Requirement already satisfied: pulp in /usr/local/lib/python3.7/dist-packages (2.6.0)\n"
     ]
    }
   ],
   "source": [
    "!pip install pulp "
   ]
  },
  {
   "cell_type": "code",
   "execution_count": 2,
   "metadata": {
    "executionInfo": {
     "elapsed": 12,
     "status": "ok",
     "timestamp": 1662926959471,
     "user": {
      "displayName": "Tiago Santana de Nazaré",
      "userId": "12156840176213681269"
     },
     "user_tz": 180
    },
    "id": "3YUHIo0YCeCz"
   },
   "outputs": [],
   "source": [
    "from pulp import *"
   ]
  },
  {
   "cell_type": "code",
   "execution_count": 3,
   "metadata": {
    "executionInfo": {
     "elapsed": 11,
     "status": "ok",
     "timestamp": 1662926959472,
     "user": {
      "displayName": "Tiago Santana de Nazaré",
      "userId": "12156840176213681269"
     },
     "user_tz": 180
    },
    "id": "VFHC4_TsDCnu"
   },
   "outputs": [],
   "source": [
    "# Passo 1: definir as variaveis\n",
    "\n",
    "# qtd. de caixas de cervejas enviadas do armazem A para cada bar (de 1 a 5)\n",
    "A1 = LpVariable('A1', 0, None, LpInteger) \n",
    "A2 = LpVariable('A2', 0, None, LpInteger)\n",
    "A3 = LpVariable('A3', 0, None, LpInteger)\n",
    "A4 = LpVariable('A4', 0, None, LpInteger)\n",
    "A5 = LpVariable('A5', 0, None, LpInteger) \n",
    "\n",
    "# qtd. de caixas de cervejas enviadas do armazem B para cada bar (de 1 a 5)\n",
    "B1 = LpVariable('B1', 0, None, LpInteger)\n",
    "B2 = LpVariable('B2', 0, None, LpInteger)\n",
    "B3 = LpVariable('B3', 0, None, LpInteger)\n",
    "B4 = LpVariable('B4', 0, None, LpInteger)\n",
    "B5 = LpVariable('B5', 0, None, LpInteger)"
   ]
  },
  {
   "cell_type": "code",
   "execution_count": 4,
   "metadata": {
    "executionInfo": {
     "elapsed": 11,
     "status": "ok",
     "timestamp": 1662926959473,
     "user": {
      "displayName": "Tiago Santana de Nazaré",
      "userId": "12156840176213681269"
     },
     "user_tz": 180
    },
    "id": "0a6gxIHwDj4g"
   },
   "outputs": [],
   "source": [
    "# Passo 2: definir o objeto\n",
    "# no nosso caso o objetivo consiste em minimizar o custo\n",
    "\n",
    "# cria o problema de otimizacao\n",
    "prob = LpProblem('min_custo_total_transporte', LpMinimize) # define que vamos minimizar\n",
    "\n",
    "# funcao de custo da racao, que vamos minimizar\n",
    "prob += (\n",
    "    2*A1 + 4*A2 + 5*A3 + 2*A4 + 1*A5 + \n",
    "    3*B1 + 1*B2 + 3*B3 + 2*B4 + 3*B5\n",
    ")"
   ]
  },
  {
   "cell_type": "code",
   "execution_count": 5,
   "metadata": {
    "executionInfo": {
     "elapsed": 29,
     "status": "ok",
     "timestamp": 1662926959885,
     "user": {
      "displayName": "Tiago Santana de Nazaré",
      "userId": "12156840176213681269"
     },
     "user_tz": 180
    },
    "id": "tUCk54BnEkxq"
   },
   "outputs": [],
   "source": [
    "# Passo 3: definir as restricoes (condicoes) do problema\n",
    "\n",
    "# atender a demanda de todos os bares\n",
    "prob += (A1 + B1 == 50 , 'demanda_bar1')\n",
    "prob += (A2 + B2 == 90 , 'demanda_bar2')\n",
    "prob += (A3 + B3 == 180, 'demanda_bar3')\n",
    "prob += (A4 + B4 == 20,  'demanda_bar4')\n",
    "prob += (A5 + B5 == 70,  'demanda_bar5')\n",
    "\n",
    "# respeitar o estoque dos armazens\n",
    "prob += (A1 + A2 + A3 + A4 + A5 <= 100, 'estoque_armazem_a')\n",
    "prob += (B1 + B2 + B3 + B4 + B5 <= 400, 'estoque_armazem_b')\n",
    "\n",
    "# Passo 3.5: definir os limites das variaveis\n",
    "# foi feito na criacao das variaveis"
   ]
  },
  {
   "cell_type": "code",
   "execution_count": 6,
   "metadata": {
    "colab": {
     "base_uri": "https://localhost:8080/"
    },
    "executionInfo": {
     "elapsed": 28,
     "status": "ok",
     "timestamp": 1662926959885,
     "user": {
      "displayName": "Tiago Santana de Nazaré",
      "userId": "12156840176213681269"
     },
     "user_tz": 180
    },
    "id": "8BE0yhliFzpf",
    "outputId": "4d8f8efa-1e44-41bc-a67c-255909adfffb"
   },
   "outputs": [
    {
     "name": "stdout",
     "output_type": "stream",
     "text": [
      "min_custo_total_transporte:\n",
      "MINIMIZE\n",
      "2*A1 + 4*A2 + 5*A3 + 2*A4 + 1*A5 + 3*B1 + 1*B2 + 3*B3 + 2*B4 + 3*B5 + 0\n",
      "SUBJECT TO\n",
      "demanda_bar1: A1 + B1 = 50\n",
      "\n",
      "demanda_bar2: A2 + B2 = 90\n",
      "\n",
      "demanda_bar3: A3 + B3 = 180\n",
      "\n",
      "demanda_bar4: A4 + B4 = 20\n",
      "\n",
      "demanda_bar5: A5 + B5 = 70\n",
      "\n",
      "estoque_armazem_a: A1 + A2 + A3 + A4 + A5 <= 100\n",
      "\n",
      "estoque_armazem_b: B1 + B2 + B3 + B4 + B5 <= 400\n",
      "\n",
      "VARIABLES\n",
      "0 <= A1 Integer\n",
      "0 <= A2 Integer\n",
      "0 <= A3 Integer\n",
      "0 <= A4 Integer\n",
      "0 <= A5 Integer\n",
      "0 <= B1 Integer\n",
      "0 <= B2 Integer\n",
      "0 <= B3 Integer\n",
      "0 <= B4 Integer\n",
      "0 <= B5 Integer\n",
      "\n"
     ]
    }
   ],
   "source": [
    "print(prob)"
   ]
  },
  {
   "cell_type": "code",
   "execution_count": 7,
   "metadata": {
    "colab": {
     "base_uri": "https://localhost:8080/"
    },
    "executionInfo": {
     "elapsed": 22,
     "status": "ok",
     "timestamp": 1662926959886,
     "user": {
      "displayName": "Tiago Santana de Nazaré",
      "userId": "12156840176213681269"
     },
     "user_tz": 180
    },
    "id": "7BqZgTBCFebd",
    "outputId": "5159ec2b-3316-4c66-8bf0-b3b1f7384db1"
   },
   "outputs": [
    {
     "name": "stdout",
     "output_type": "stream",
     "text": [
      "status: Optimal\n"
     ]
    }
   ],
   "source": [
    "prob.solve()\n",
    "\n",
    "print('status:', LpStatus[prob.status])"
   ]
  },
  {
   "cell_type": "code",
   "execution_count": 8,
   "metadata": {
    "colab": {
     "base_uri": "https://localhost:8080/"
    },
    "executionInfo": {
     "elapsed": 18,
     "status": "ok",
     "timestamp": 1662926959886,
     "user": {
      "displayName": "Tiago Santana de Nazaré",
      "userId": "12156840176213681269"
     },
     "user_tz": 180
    },
    "id": "eY3XwdyyFgoj",
    "outputId": "0a72b7ed-119b-4ae0-b339-0f69683574ac"
   },
   "outputs": [
    {
     "name": "stdout",
     "output_type": "stream",
     "text": [
      "A1 = 30.0\n",
      "A2 = 0.0\n",
      "A3 = 0.0\n",
      "A4 = 0.0\n",
      "A5 = 70.0\n",
      "B1 = 20.0\n",
      "B2 = 90.0\n",
      "B3 = 180.0\n",
      "B4 = 20.0\n",
      "B5 = 0.0\n"
     ]
    }
   ],
   "source": [
    "for v in prob.variables():\n",
    "    print(v.name, '=', v.varValue)"
   ]
  },
  {
   "cell_type": "code",
   "execution_count": 9,
   "metadata": {
    "colab": {
     "base_uri": "https://localhost:8080/"
    },
    "executionInfo": {
     "elapsed": 12,
     "status": "ok",
     "timestamp": 1662926959887,
     "user": {
      "displayName": "Tiago Santana de Nazaré",
      "userId": "12156840176213681269"
     },
     "user_tz": 180
    },
    "id": "bvstBTeXFhdW",
    "outputId": "59f7f482-707e-4ef7-c2f0-3bb3fff83ab3"
   },
   "outputs": [
    {
     "name": "stdout",
     "output_type": "stream",
     "text": [
      "Custo total de transporte = 860.0\n"
     ]
    }
   ],
   "source": [
    "print('Custo total de transporte =', prob.objective.value())"
   ]
  }
 ],
 "metadata": {
  "colab": {
   "authorship_tag": "ABX9TyNy0+dX3+LMjZX835Pk7XHj",
   "provenance": []
  },
  "kernelspec": {
   "display_name": "Python 3",
   "name": "python3"
  },
  "language_info": {
   "name": "python"
  }
 },
 "nbformat": 4,
 "nbformat_minor": 0
}
