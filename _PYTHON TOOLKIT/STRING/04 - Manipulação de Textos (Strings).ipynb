{
 "cells": [
  {
   "cell_type": "markdown",
   "metadata": {},
   "source": [
    "<h1 style=\"text-align: center;\"> DataMiner University</h1>\n",
    "\n",
    "<h3 style=\"text-align: center;\">Bem-vind@s ao seleto grupo de analistas do DataMiner!</h3>\n",
    "\n",
    "<img src='../Ilustracoes/wearetechlovers.png' />\n",
    "\n",
    "_______________________________________________"
   ]
  },
  {
   "cell_type": "markdown",
   "metadata": {},
   "source": [
    "<h1 style=\"text-align: center;\">Manipulação de Textos</h1>"
   ]
  },
  {
   "cell_type": "markdown",
   "metadata": {},
   "source": [
    "- Strings\n",
    "- Métodos de texto\n",
    "- Métodos de String:\n",
    "    - lower, upper\n",
    "    - split\n",
    "    - strip, lstrip, rstrip\n",
    "    - replace"
   ]
  },
  {
   "cell_type": "markdown",
   "metadata": {},
   "source": [
    "### Vamos recapitular:"
   ]
  },
  {
   "cell_type": "markdown",
   "metadata": {},
   "source": [
    "Strings são variáveis do tipo texto ou sequencia de caracteres. Podemos criar strings com aspas simples ou duplas, conforme os exemplos abaixo: "
   ]
  },
  {
   "cell_type": "code",
   "execution_count": 1,
   "metadata": {},
   "outputs": [
    {
     "data": {
      "text/plain": [
       "'aspas simples'"
      ]
     },
     "execution_count": 1,
     "metadata": {},
     "output_type": "execute_result"
    }
   ],
   "source": [
    "'aspas simples'"
   ]
  },
  {
   "cell_type": "code",
   "execution_count": 2,
   "metadata": {},
   "outputs": [
    {
     "data": {
      "text/plain": [
       "'aspas duplas'"
      ]
     },
     "execution_count": 2,
     "metadata": {},
     "output_type": "execute_result"
    }
   ],
   "source": [
    "\"aspas duplas\""
   ]
  },
  {
   "cell_type": "markdown",
   "metadata": {},
   "source": [
    "Mas não é tudo igual? Por qual motivo preciso de tudo isso?\n",
    "Resposta: Para quando as aspas fazem parte do texto. Ex:"
   ]
  },
  {
   "cell_type": "code",
   "execution_count": 3,
   "metadata": {},
   "outputs": [
    {
     "data": {
      "text/plain": [
       "'Aí o Dudu disse \"temos que investir na Fitcash\"'"
      ]
     },
     "execution_count": 3,
     "metadata": {},
     "output_type": "execute_result"
    }
   ],
   "source": [
    "'Aí o Dudu disse \"temos que investir na Fitcash\"'"
   ]
  },
  {
   "cell_type": "markdown",
   "metadata": {},
   "source": [
    "Podemos realizar operações com strings:"
   ]
  },
  {
   "cell_type": "code",
   "execution_count": 4,
   "metadata": {},
   "outputs": [
    {
     "data": {
      "text/plain": [
       "'vou checar: a base'"
      ]
     },
     "execution_count": 4,
     "metadata": {},
     "output_type": "execute_result"
    }
   ],
   "source": [
    "vou_fazer = \"vou checar: \"\n",
    "objeto = \"a base\"\n",
    "\n",
    "vou_fazer + objeto"
   ]
  },
  {
   "cell_type": "markdown",
   "metadata": {},
   "source": [
    "Strings são sequências de caracteres. Assim, cada caracter têm um índice específico dentro da string. \n",
    "Isso nos permite selecionar caracteres ou grupos de caracteres específicos:"
   ]
  },
  {
   "cell_type": "code",
   "execution_count": 5,
   "metadata": {},
   "outputs": [],
   "source": [
    "nossa_string = 'Já vimos isso'"
   ]
  },
  {
   "cell_type": "markdown",
   "metadata": {},
   "source": [
    "<table class=\"table table-bordered\">\n",
    "<tr>\n",
    "<th style=\"width:10%\">Caractere</th><th>J</th><th>á</th><th>' '</th><th>v</th><th>i</th><th>m</th><th>o</th><th>s</th><th>' '</th><th>i</th><th>s</th><th>s</th><th>o</th>\n",
    "</tr>\n",
    "<tr>\n",
    "<td> Índice </td>\n",
    "<td> 0 </td>\n",
    "<td> 1 </td>\n",
    "<td> 2 </td>\n",
    "<td> 3 </td>\n",
    "<td> 4 </td>    \n",
    "<td> 5 </td>\n",
    "<td> 6 </td>\n",
    "<td> 7 </td>\n",
    "<td> 8 </td>\n",
    "<td> 9 </td>\n",
    "<td> 10 </td>\n",
    "<td> 11 </td>\n",
    "<td> 12 </td>\n",
    "</tr>\n",
    "</table>"
   ]
  },
  {
   "cell_type": "code",
   "execution_count": 6,
   "metadata": {},
   "outputs": [
    {
     "data": {
      "text/plain": [
       "'J'"
      ]
     },
     "execution_count": 6,
     "metadata": {},
     "output_type": "execute_result"
    }
   ],
   "source": [
    "nossa_string[0]"
   ]
  },
  {
   "cell_type": "code",
   "execution_count": 7,
   "metadata": {},
   "outputs": [
    {
     "data": {
      "text/plain": [
       "'Já'"
      ]
     },
     "execution_count": 7,
     "metadata": {},
     "output_type": "execute_result"
    }
   ],
   "source": [
    "nossa_string[0:2] # estamos selecionando as letras de índice 0 até a de índice 2 (não incluso)"
   ]
  },
  {
   "cell_type": "code",
   "execution_count": 8,
   "metadata": {},
   "outputs": [
    {
     "data": {
      "text/plain": [
       "'mos i'"
      ]
     },
     "execution_count": 8,
     "metadata": {},
     "output_type": "execute_result"
    }
   ],
   "source": [
    "nossa_string[5:10]"
   ]
  },
  {
   "cell_type": "code",
   "execution_count": 9,
   "metadata": {},
   "outputs": [
    {
     "data": {
      "text/plain": [
       "'so'"
      ]
     },
     "execution_count": 9,
     "metadata": {},
     "output_type": "execute_result"
    }
   ],
   "source": [
    "nossa_string[-2:] # tembém conseguimos fazer a seleção de trás para frente"
   ]
  },
  {
   "cell_type": "code",
   "execution_count": 10,
   "metadata": {},
   "outputs": [
    {
     "data": {
      "text/plain": [
       "'vosso'"
      ]
     },
     "execution_count": 10,
     "metadata": {},
     "output_type": "execute_result"
    }
   ],
   "source": [
    "nossa_string[3] + nossa_string[6] + nossa_string[7] + nossa_string[10] + nossa_string[12]"
   ]
  },
  {
   "cell_type": "markdown",
   "metadata": {},
   "source": [
    "Isto que acabamos de ver recebe o nome de slicing e dicing, ou seja, cortar e fatiar. Estamos utilizando índices para selecionar apenas um pedaço da string."
   ]
  },
  {
   "cell_type": "markdown",
   "metadata": {},
   "source": [
    "### Métodos de String"
   ]
  },
  {
   "cell_type": "markdown",
   "metadata": {},
   "source": [
    "Parada para relembrar: o que é um método?"
   ]
  },
  {
   "cell_type": "markdown",
   "metadata": {},
   "source": [
    "Agora vamos aos métodos específicos de strings."
   ]
  },
  {
   "cell_type": "code",
   "execution_count": 2,
   "metadata": {},
   "outputs": [],
   "source": [
    "texto = 'Olá Mundo'"
   ]
  },
  {
   "cell_type": "markdown",
   "metadata": {},
   "source": [
    "### lower()"
   ]
  },
  {
   "cell_type": "code",
   "execution_count": 7,
   "metadata": {
    "scrolled": true
   },
   "outputs": [
    {
     "data": {
      "text/plain": [
       "'olá mundo'"
      ]
     },
     "execution_count": 7,
     "metadata": {},
     "output_type": "execute_result"
    }
   ],
   "source": [
    "texto.lower()"
   ]
  },
  {
   "cell_type": "markdown",
   "metadata": {},
   "source": [
    "### upper()"
   ]
  },
  {
   "cell_type": "code",
   "execution_count": 13,
   "metadata": {},
   "outputs": [
    {
     "data": {
      "text/plain": [
       "'OLÁ MUNDO'"
      ]
     },
     "execution_count": 13,
     "metadata": {},
     "output_type": "execute_result"
    }
   ],
   "source": [
    "texto.upper()"
   ]
  },
  {
   "cell_type": "markdown",
   "metadata": {},
   "source": [
    "### replace()"
   ]
  },
  {
   "cell_type": "code",
   "execution_count": 14,
   "metadata": {
    "scrolled": true
   },
   "outputs": [
    {
     "data": {
      "text/plain": [
       "'Olá Pessoal'"
      ]
     },
     "execution_count": 14,
     "metadata": {},
     "output_type": "execute_result"
    }
   ],
   "source": [
    "texto.replace('Mundo','Pessoal')"
   ]
  },
  {
   "cell_type": "code",
   "execution_count": 15,
   "metadata": {},
   "outputs": [
    {
     "data": {
      "text/plain": [
       "'Pessoal Pessoal Muito Louco'"
      ]
     },
     "execution_count": 15,
     "metadata": {},
     "output_type": "execute_result"
    }
   ],
   "source": [
    "'Mundo Mundo Muito Louco'.replace('Mundo','Pessoal')"
   ]
  },
  {
   "cell_type": "markdown",
   "metadata": {},
   "source": [
    "### split()"
   ]
  },
  {
   "cell_type": "code",
   "execution_count": 3,
   "metadata": {
    "scrolled": true
   },
   "outputs": [
    {
     "data": {
      "text/plain": [
       "['Olá', 'Mundo']"
      ]
     },
     "execution_count": 3,
     "metadata": {},
     "output_type": "execute_result"
    }
   ],
   "source": [
    "texto.split()"
   ]
  },
  {
   "cell_type": "code",
   "execution_count": 6,
   "metadata": {
    "scrolled": true
   },
   "outputs": [
    {
     "data": {
      "text/plain": [
       "['Olá M', 'ndo']"
      ]
     },
     "execution_count": 6,
     "metadata": {},
     "output_type": "execute_result"
    }
   ],
   "source": [
    "texto.split('u')"
   ]
  },
  {
   "cell_type": "markdown",
   "metadata": {},
   "source": [
    "### Outros métodos de String\n",
    "\n",
    "<a href=https://www.w3schools.com/python/python_ref_string.asp> Outros métodos de string</a>"
   ]
  },
  {
   "cell_type": "code",
   "execution_count": null,
   "metadata": {},
   "outputs": [],
   "source": []
  },
  {
   "cell_type": "code",
   "execution_count": null,
   "metadata": {},
   "outputs": [],
   "source": []
  },
  {
   "cell_type": "markdown",
   "metadata": {},
   "source": [
    "### join: Juntando Strings a partir de diversas strings:"
   ]
  },
  {
   "cell_type": "code",
   "execution_count": 13,
   "metadata": {},
   "outputs": [],
   "source": [
    "texto = 'Este é o melhor curso de Python que vocês já tiveram hoje'"
   ]
  },
  {
   "cell_type": "code",
   "execution_count": 14,
   "metadata": {},
   "outputs": [],
   "source": [
    "texto_picado = texto.split()"
   ]
  },
  {
   "cell_type": "code",
   "execution_count": 15,
   "metadata": {},
   "outputs": [
    {
     "data": {
      "text/plain": [
       "'Este-é-o-melhor-curso-de-Python-que-vocês-já-tiveram-hoje'"
      ]
     },
     "execution_count": 15,
     "metadata": {},
     "output_type": "execute_result"
    }
   ],
   "source": [
    "'-'.join(texto_picado)"
   ]
  },
  {
   "cell_type": "code",
   "execution_count": 16,
   "metadata": {},
   "outputs": [
    {
     "data": {
      "text/plain": [
       "'Este|é|o|melhor|curso|de|Python|que|vocês|já|tiveram|hoje'"
      ]
     },
     "execution_count": 16,
     "metadata": {},
     "output_type": "execute_result"
    }
   ],
   "source": [
    "'|'.join(texto_picado)"
   ]
  },
  {
   "cell_type": "code",
   "execution_count": 17,
   "metadata": {},
   "outputs": [
    {
     "data": {
      "text/plain": [
       "'Este lá lá lá é lá lá lá o lá lá lá melhor lá lá lá curso lá lá lá de lá lá lá Python lá lá lá que lá lá lá vocês lá lá lá já lá lá lá tiveram lá lá lá hoje'"
      ]
     },
     "execution_count": 17,
     "metadata": {},
     "output_type": "execute_result"
    }
   ],
   "source": [
    "' lá lá lá '.join(texto_picado)"
   ]
  },
  {
   "cell_type": "code",
   "execution_count": 18,
   "metadata": {},
   "outputs": [
    {
     "data": {
      "text/plain": [
       "'Este é o melhor curso de Python que vocês já tiveram hoje'"
      ]
     },
     "execution_count": 18,
     "metadata": {},
     "output_type": "execute_result"
    }
   ],
   "source": [
    "' '.join(texto_picado)"
   ]
  },
  {
   "cell_type": "markdown",
   "metadata": {},
   "source": [
    "### <a href=https://realpython.com/python-f-strings/>f-strings </a>\n",
    "\n",
    "Adicione um f minúsculo antes das aspas simples ou duplas. Isso permitirá que você insira qualquer valor entre chaves e este valor será parte da strig."
   ]
  },
  {
   "cell_type": "code",
   "execution_count": 19,
   "metadata": {},
   "outputs": [
    {
     "data": {
      "text/plain": [
       "'Olá Lucas!'"
      ]
     },
     "execution_count": 19,
     "metadata": {},
     "output_type": "execute_result"
    }
   ],
   "source": [
    "nome = 'Lucas'\n",
    "\n",
    "f'Olá {nome}!'"
   ]
  },
  {
   "cell_type": "code",
   "execution_count": 20,
   "metadata": {},
   "outputs": [
    {
     "data": {
      "text/plain": [
       "'Seu resultado é 1311'"
      ]
     },
     "execution_count": 20,
     "metadata": {},
     "output_type": "execute_result"
    }
   ],
   "source": [
    "f'Seu resultado é {19 * 69}'"
   ]
  },
  {
   "cell_type": "markdown",
   "metadata": {},
   "source": [
    "### Conteúdo Extra | Aplicação: Bag of Words\n",
    "\n",
    "(https://en.wikipedia.org/wiki/Bag-of-words_model)\n",
    "\n",
    "Vamos usar manipulação de texto, dicionários e outros elementos já estudados para criar um \"Bag of Words\" rudimentar. Vamos verificar a frequência com que certas palavras aparecem em um texto. Para este estudo, escolhi o poema Tabacaria de Fernando Pessoa."
   ]
  },
  {
   "cell_type": "code",
   "execution_count": 24,
   "metadata": {},
   "outputs": [],
   "source": [
    "fernando_pessoa = '''\n",
    "Não sou nada.\n",
    "Nunca serei nada.\n",
    "Não posso querer ser nada.\n",
    "À parte isso, tenho em mim todos os sonhos do mundo.\n",
    "Janelas do meu quarto,\n",
    "Do meu quarto de um dos milhões do mundo que ninguém sabe quem é\n",
    "(E se soubessem quem é, o que saberiam?),\n",
    "Dais para o mistério de uma rua cruzada constantemente por gente,\n",
    "Para uma rua inacessível a todos os pensamentos,\n",
    "Real, impossivelmente real, certa, desconhecidamente certa,\n",
    "Com o mistério das coisas por baixo das pedras e dos seres,\n",
    "Com a morte a pôr humidade nas paredes e cabelos brancos nos homens,\n",
    "Com o Destino a conduzir a carroça de tudo pela estrada de nada.\n",
    "Estou hoje vencido, como se soubesse a verdade.\n",
    "Estou hoje lúcido, como se estivesse para morrer,\n",
    "E não tivesse mais irmandade com as coisas\n",
    "Senão uma despedida, tornando-se esta casa e este lado da rua\n",
    "A fileira de carruagens de um comboio, e uma partida apitada\n",
    "De dentro da minha cabeça,\n",
    "E uma sacudidela dos meus nervos e um ranger de ossos na ida.\n",
    "Estou hoje perplexo como quem pensou e achou e esqueceu.\n",
    "Estou hoje dividido entre a lealdade que devo\n",
    "À Tabacaria do outro lado da rua, como coisa real por fora,\n",
    "E à sensação de que tudo é sonho, como coisa real por dentro.\n",
    "Falhei em tudo.\n",
    "Como não fiz propósito nenhum, talvez tudo fosse nada.\n",
    "A aprendizagem que me deram,\n",
    "Desci dela pela janela das traseiras da casa,\n",
    "Fui até ao campo com grandes propósitos.\n",
    "Mas lá encontrei só ervas e árvores,\n",
    "E quando havia gente era igual à outra.\n",
    "Saio da janela, sento-me numa cadeira. Em que hei-de pensar?\n",
    "Que sei eu do que serei, eu que não sei o que sou?\n",
    "Ser o que penso? Mas penso ser tanta coisa!\n",
    "E há tantos que pensam ser a mesma coisa que não pode haver tantos!\n",
    "Génio? Neste momento\n",
    "Cem mil cérebros se concebem em sonho génios como eu,\n",
    "E a história não marcará, quem sabe?, nem um,\n",
    "Nem haverá senão estrume de tantas conquistas futuras.\n",
    "Não, não creio em mim.\n",
    "Em todos os manicómios há doidos malucos com tantas certezas!\n",
    "Eu, que não tenho nenhuma certeza, sou mais certo ou menos certo?\n",
    "Não, nem em mim…\n",
    "Em quantas mansardas e não-mansardas do mundo\n",
    "Não estão nesta hora génios-para-si-mesmos sonhando?\n",
    "Quantas aspirações altas e nobres e lúcidas —\n",
    "Sim, verdadeiramente altas e nobres e lúcidas —,\n",
    "E quem sabe se realizáveis,\n",
    "Nunca verão a luz do sol real nem acharão ouvidos de gente?\n",
    "O mundo é para quem nasce para o conquistar\n",
    "E não para quem sonha que pode conquistá-lo, ainda que tenha razão.\n",
    "Tenho sonhado mais que o que Napoleão fez.\n",
    "Tenho apertado ao peito hipotético mais humanidades do que Cristo,\n",
    "Tenho feito filosofias em segredo que nenhum Kant escreveu.\n",
    "Mas sou, e talvez serei sempre, o da mansarda,\n",
    "Ainda que não more nela;\n",
    "Serei sempre o que não nasceu para isso;\n",
    "Serei sempre só o que tinha qualidades;\n",
    "Serei sempre o que esperou que lhe abrissem a porta ao pé de uma parede sem porta\n",
    "E cantou a cantiga do Infinito numa capoeira,\n",
    "E ouviu a voz de Deus num poço tapado.\n",
    "Crer em mim? Não, nem em nada.\n",
    "Derrame-me a Natureza sobre a cabeça ardente\n",
    "O seu sol, a sua chuva, o vento que me acha o cabelo,\n",
    "E o resto que venha se vier, ou tiver que vir, ou não venha.\n",
    "Escravos cardíacos das estrelas,\n",
    "Conquistámos todo o mundo antes de nos levantar da cama;\n",
    "Mas acordámos e ele é opaco,\n",
    "Levantamo-nos e ele é alheio,\n",
    "Saímos de casa e ele é a terra inteira,\n",
    "Mais o sistema solar e a Via Láctea e o Indefinido.\n",
    "(Come chocolates, pequena;\n",
    "Come chocolates!\n",
    "Olha que não há mais metafísica no mundo senão chocolates.\n",
    "Olha que as religiões todas não ensinam mais que a confeitaria.\n",
    "Come, pequena suja, come!\n",
    "Pudesse eu comer chocolates com a mesma verdade com que comes!\n",
    "Mas eu penso e, ao tirar o papel de prata, que é de folhas de estanho,\n",
    "Deito tudo para o chão, como tenho deitado a vida.)\n",
    "Mas ao menos fica da amargura do que nunca serei\n",
    "A caligrafia rápida destes versos,\n",
    "Pórtico partido para o Impossível.\n",
    "Mas ao menos consagro a mim mesmo um desprezo sem lágrimas,\n",
    "Nobre ao menos no gesto largo com que atiro\n",
    "A roupa suja que sou, sem rol, pra o decurso das coisas,\n",
    "E fico em casa sem camisa.\n",
    "(Tu, que consolas, que não existes e por isso consolas,\n",
    "Ou deusa grega, concebida como estátua que fosse viva,\n",
    "Ou patrícia romana, impossivelmente nobre e nefasta,\n",
    "Ou princesa de trovadores, gentilíssima e colorida,\n",
    "Ou marquesa do século dezoito, decotada e longínqua,\n",
    "Ou cocote célebre do tempo dos nossos pais,\n",
    "Ou não sei quê moderno — não concebo bem o quê —,\n",
    "Tudo isso, seja o que for, que sejas, se pode inspirar que inspire!\n",
    "Meu coração é um balde despejado.\n",
    "Como os que invocam espíritos invocam espíritos invoco\n",
    "A mim mesmo e não encontro nada.\n",
    "Chego à janela e vejo a rua com uma nitidez absoluta.\n",
    "Vejo as lojas, vejo os passeios, vejo os carros que passam,\n",
    "Vejo os entes vivos vestidos que se cruzam,\n",
    "Vejo os cães que também existem,\n",
    "E tudo isto me pesa como uma condenação ao degredo,\n",
    "E tudo isto é estrangeiro, como tudo.)\n",
    "Vivi, estudei, amei, e até cri,\n",
    "E hoje não há mendigo que eu não inveje só por não ser eu.\n",
    "Olho a cada um os andrajos e as chagas e a mentira,\n",
    "E penso: talvez nunca vivesses nem estudasses nem amasses nem cresses\n",
    "(Porque é possível fazer a realidade de tudo isso sem fazer nada disso);\n",
    "Talvez tenhas existido apenas, como um lagarto a quem cortam o rabo\n",
    "E que é rabo para aquém do lagarto remexidamente.\n",
    "Fiz de mim o que não soube,\n",
    "E o que podia fazer de mim não o fiz.\n",
    "O dominó que vesti era errado.\n",
    "Conheceram-me logo por quem não era e não desmenti, e perdi-me.\n",
    "Quando quis tirar a máscara,\n",
    "Estava pegada à cara.\n",
    "Quando a tirei e me vi ao espelho,\n",
    "Já tinha envelhecido.\n",
    "Estava bêbado, já não sabia vestir o dominó que não tinha tirado.\n",
    "Deitei fora a máscara e dormi no vestiário\n",
    "Como um cão tolerado pela gerência\n",
    "Por ser inofensivo\n",
    "E vou escrever esta história para provar que sou sublime.\n",
    "Essência musical dos meus versos inúteis,\n",
    "Quem me dera encontrar-te como coisa que eu fizesse,\n",
    "E não ficasse sempre defronte da Tabacaria de defronte,\n",
    "Calcando aos pés a consciência de estar existindo,\n",
    "Como um tapete em que um bêbado tropeça\n",
    "Ou um capacho que os ciganos roubaram e não valia nada.\n",
    "Mas o Dono da Tabacaria chegou à porta e ficou à porta.\n",
    "Olhou-o com o desconforto da cabeça mal voltada\n",
    "E com o desconforto da alma mal-entendendo.\n",
    "Ele morrerá e eu morrerei.\n",
    "Ele deixará a tabuleta, e eu deixarei versos.\n",
    "A certa altura morrerá a tabuleta também, e os versos também.\n",
    "Depois de certa altura morrerá a rua onde esteve a tabuleta,\n",
    "E a língua em que foram escritos os versos.\n",
    "Morrerá depois o planeta girante em que tudo isto se deu.\n",
    "Em outros satélites de outros sistemas qualquer coisa como gente\n",
    "Continuará fazendo coisas como versos e vivendo por baixo de coisas como tabuletas,\n",
    "Sempre uma coisa defronte da outra,\n",
    "Sempre uma coisa tão inútil como a outra,\n",
    "Sempre o impossível tão estúpido como o real,\n",
    "Sempre o mistério do fundo tão certo como o sono de mistério da superfície,\n",
    "Sempre isto ou sempre outra coisa ou nem uma coisa nem outra.\n",
    "Mas um homem entrou na Tabacaria (para comprar tabaco?),\n",
    "E a realidade plausível cai de repente em cima de mim.\n",
    "Semiergo-me enérgico, convencido, humano,\n",
    "E vou tencionar escrever estes versos em que digo o contrário.\n",
    "Acendo um cigarro ao pensar em escrevê-los\n",
    "E saboreio no cigarro a libertação de todos os pensamentos.\n",
    "Sigo o fumo como uma rota própria,\n",
    "E gozo, num momento sensitivo e competente,\n",
    "A libertação de todas as especulações\n",
    "E a consciência de que a metafísica é uma consequência de estar mal disposto.\n",
    "Depois deito-me para trás na cadeira\n",
    "E continuo fumando.\n",
    "Enquanto o Destino mo conceder, continuarei fumando.\n",
    "(Se eu casasse com a filha da minha lavadeira\n",
    "Talvez fosse feliz.)\n",
    "Visto isto, levanto-me da cadeira. Vou à janela.\n",
    "O homem saiu da Tabacaria (metendo troco na algibeira das calças?).\n",
    "Ah, conheço-o: é o Esteves sem metafísica.\n",
    "(O Dono da Tabacaria chegou à porta.)\n",
    "Como por um instinto divino o Esteves voltou-se e viu-me.\n",
    "Acenou-me adeus gritei-lhe Adeus ó Esteves!, e o universo\n",
    "Reconstruiu-se-me sem ideal nem esperança, e o Dono da Tabacaria sorriu.\n",
    "'''"
   ]
  },
  {
   "cell_type": "code",
   "execution_count": 63,
   "metadata": {},
   "outputs": [],
   "source": [
    "lista_de_palavras = fernando_pessoa.lower().split()"
   ]
  },
  {
   "cell_type": "code",
   "execution_count": 67,
   "metadata": {},
   "outputs": [],
   "source": [
    "bag_of_words = dict()\n",
    "for palavra in lista_de_palavras:\n",
    "    if  palavra not in bag_of_words.keys():\n",
    "        bag_of_words[palavra] = lista_de_palavras.count(palavra) "
   ]
  },
  {
   "cell_type": "code",
   "execution_count": 68,
   "metadata": {},
   "outputs": [
    {
     "data": {
      "text/plain": [
       "{'não': 31,\n",
       " 'sou': 3,\n",
       " 'nada.': 8,\n",
       " 'nunca': 4,\n",
       " 'serei': 6,\n",
       " 'posso': 1,\n",
       " 'querer': 1,\n",
       " 'ser': 6,\n",
       " 'à': 10,\n",
       " 'parte': 1,\n",
       " 'isso,': 2,\n",
       " 'tenho': 6,\n",
       " 'em': 19,\n",
       " 'mim': 5,\n",
       " 'todos': 4,\n",
       " 'os': 13,\n",
       " 'sonhos': 1,\n",
       " 'do': 15,\n",
       " 'mundo.': 1,\n",
       " 'janelas': 1,\n",
       " 'meu': 3,\n",
       " 'quarto,': 1,\n",
       " 'quarto': 1,\n",
       " 'de': 34,\n",
       " 'um': 14,\n",
       " 'dos': 5,\n",
       " 'milhões': 1,\n",
       " 'mundo': 5,\n",
       " 'que': 60,\n",
       " 'ninguém': 1,\n",
       " 'sabe': 2,\n",
       " 'quem': 10,\n",
       " 'é': 13,\n",
       " '(e': 1,\n",
       " 'se': 9,\n",
       " 'soubessem': 1,\n",
       " 'é,': 1,\n",
       " 'o': 48,\n",
       " 'saberiam?),': 1,\n",
       " 'dais': 1,\n",
       " 'para': 12,\n",
       " 'mistério': 4,\n",
       " 'uma': 13,\n",
       " 'rua': 5,\n",
       " 'cruzada': 1,\n",
       " 'constantemente': 1,\n",
       " 'por': 10,\n",
       " 'gente,': 1,\n",
       " 'inacessível': 1,\n",
       " 'a': 49,\n",
       " 'pensamentos,': 1,\n",
       " 'real,': 3,\n",
       " 'impossivelmente': 2,\n",
       " 'certa,': 2,\n",
       " 'desconhecidamente': 1,\n",
       " 'com': 13,\n",
       " 'das': 6,\n",
       " 'coisas': 4,\n",
       " 'baixo': 2,\n",
       " 'pedras': 1,\n",
       " 'e': 70,\n",
       " 'seres,': 1,\n",
       " 'morte': 1,\n",
       " 'pôr': 1,\n",
       " 'humidade': 1,\n",
       " 'nas': 1,\n",
       " 'paredes': 1,\n",
       " 'cabelos': 1,\n",
       " 'brancos': 1,\n",
       " 'nos': 2,\n",
       " 'homens,': 1,\n",
       " 'destino': 2,\n",
       " 'conduzir': 1,\n",
       " 'carroça': 1,\n",
       " 'tudo': 9,\n",
       " 'pela': 3,\n",
       " 'estrada': 1,\n",
       " 'estou': 4,\n",
       " 'hoje': 5,\n",
       " 'vencido,': 1,\n",
       " 'como': 24,\n",
       " 'soubesse': 1,\n",
       " 'verdade.': 1,\n",
       " 'lúcido,': 1,\n",
       " 'estivesse': 1,\n",
       " 'morrer,': 1,\n",
       " 'tivesse': 1,\n",
       " 'mais': 7,\n",
       " 'irmandade': 1,\n",
       " 'as': 5,\n",
       " 'senão': 3,\n",
       " 'despedida,': 1,\n",
       " 'tornando-se': 1,\n",
       " 'esta': 2,\n",
       " 'casa': 3,\n",
       " 'este': 1,\n",
       " 'lado': 2,\n",
       " 'da': 19,\n",
       " 'fileira': 1,\n",
       " 'carruagens': 1,\n",
       " 'comboio,': 1,\n",
       " 'partida': 1,\n",
       " 'apitada': 1,\n",
       " 'dentro': 1,\n",
       " 'minha': 2,\n",
       " 'cabeça,': 1,\n",
       " 'sacudidela': 1,\n",
       " 'meus': 2,\n",
       " 'nervos': 1,\n",
       " 'ranger': 1,\n",
       " 'ossos': 1,\n",
       " 'na': 4,\n",
       " 'ida.': 1,\n",
       " 'perplexo': 1,\n",
       " 'pensou': 1,\n",
       " 'achou': 1,\n",
       " 'esqueceu.': 1,\n",
       " 'dividido': 1,\n",
       " 'entre': 1,\n",
       " 'lealdade': 1,\n",
       " 'devo': 1,\n",
       " 'tabacaria': 7,\n",
       " 'outro': 1,\n",
       " 'rua,': 1,\n",
       " 'coisa': 9,\n",
       " 'real': 3,\n",
       " 'fora,': 1,\n",
       " 'sensação': 1,\n",
       " 'sonho,': 1,\n",
       " 'dentro.': 1,\n",
       " 'falhei': 1,\n",
       " 'tudo.': 1,\n",
       " 'fiz': 2,\n",
       " 'propósito': 1,\n",
       " 'nenhum,': 1,\n",
       " 'talvez': 5,\n",
       " 'fosse': 3,\n",
       " 'aprendizagem': 1,\n",
       " 'me': 5,\n",
       " 'deram,': 1,\n",
       " 'desci': 1,\n",
       " 'dela': 1,\n",
       " 'janela': 2,\n",
       " 'traseiras': 1,\n",
       " 'casa,': 1,\n",
       " 'fui': 1,\n",
       " 'até': 2,\n",
       " 'ao': 10,\n",
       " 'campo': 1,\n",
       " 'grandes': 1,\n",
       " 'propósitos.': 1,\n",
       " 'mas': 9,\n",
       " 'lá': 1,\n",
       " 'encontrei': 1,\n",
       " 'só': 3,\n",
       " 'ervas': 1,\n",
       " 'árvores,': 1,\n",
       " 'quando': 3,\n",
       " 'havia': 1,\n",
       " 'gente': 2,\n",
       " 'era': 3,\n",
       " 'igual': 1,\n",
       " 'outra.': 2,\n",
       " 'saio': 1,\n",
       " 'janela,': 1,\n",
       " 'sento-me': 1,\n",
       " 'numa': 2,\n",
       " 'cadeira.': 2,\n",
       " 'hei-de': 1,\n",
       " 'pensar?': 1,\n",
       " 'sei': 3,\n",
       " 'eu': 9,\n",
       " 'serei,': 1,\n",
       " 'sou?': 1,\n",
       " 'penso?': 1,\n",
       " 'penso': 2,\n",
       " 'tanta': 1,\n",
       " 'coisa!': 1,\n",
       " 'há': 4,\n",
       " 'tantos': 1,\n",
       " 'pensam': 1,\n",
       " 'mesma': 2,\n",
       " 'pode': 3,\n",
       " 'haver': 1,\n",
       " 'tantos!': 1,\n",
       " 'génio?': 1,\n",
       " 'neste': 1,\n",
       " 'momento': 2,\n",
       " 'cem': 1,\n",
       " 'mil': 1,\n",
       " 'cérebros': 1,\n",
       " 'concebem': 1,\n",
       " 'sonho': 1,\n",
       " 'génios': 1,\n",
       " 'eu,': 2,\n",
       " 'história': 2,\n",
       " 'marcará,': 1,\n",
       " 'sabe?,': 1,\n",
       " 'nem': 11,\n",
       " 'um,': 1,\n",
       " 'haverá': 1,\n",
       " 'estrume': 1,\n",
       " 'tantas': 2,\n",
       " 'conquistas': 1,\n",
       " 'futuras.': 1,\n",
       " 'não,': 3,\n",
       " 'creio': 1,\n",
       " 'mim.': 2,\n",
       " 'manicómios': 1,\n",
       " 'doidos': 1,\n",
       " 'malucos': 1,\n",
       " 'certezas!': 1,\n",
       " 'nenhuma': 1,\n",
       " 'certeza,': 1,\n",
       " 'certo': 2,\n",
       " 'ou': 12,\n",
       " 'menos': 4,\n",
       " 'certo?': 1,\n",
       " 'mim…': 1,\n",
       " 'quantas': 2,\n",
       " 'mansardas': 1,\n",
       " 'não-mansardas': 1,\n",
       " 'estão': 1,\n",
       " 'nesta': 1,\n",
       " 'hora': 1,\n",
       " 'génios-para-si-mesmos': 1,\n",
       " 'sonhando?': 1,\n",
       " 'aspirações': 1,\n",
       " 'altas': 2,\n",
       " 'nobres': 2,\n",
       " 'lúcidas': 2,\n",
       " '—': 2,\n",
       " 'sim,': 1,\n",
       " 'verdadeiramente': 1,\n",
       " '—,': 2,\n",
       " 'realizáveis,': 1,\n",
       " 'verão': 1,\n",
       " 'luz': 1,\n",
       " 'sol': 1,\n",
       " 'acharão': 1,\n",
       " 'ouvidos': 1,\n",
       " 'gente?': 1,\n",
       " 'nasce': 1,\n",
       " 'conquistar': 1,\n",
       " 'sonha': 1,\n",
       " 'conquistá-lo,': 1,\n",
       " 'ainda': 2,\n",
       " 'tenha': 1,\n",
       " 'razão.': 1,\n",
       " 'sonhado': 1,\n",
       " 'napoleão': 1,\n",
       " 'fez.': 1,\n",
       " 'apertado': 1,\n",
       " 'peito': 1,\n",
       " 'hipotético': 1,\n",
       " 'humanidades': 1,\n",
       " 'cristo,': 1,\n",
       " 'feito': 1,\n",
       " 'filosofias': 1,\n",
       " 'segredo': 1,\n",
       " 'nenhum': 1,\n",
       " 'kant': 1,\n",
       " 'escreveu.': 1,\n",
       " 'sou,': 2,\n",
       " 'sempre,': 1,\n",
       " 'mansarda,': 1,\n",
       " 'more': 1,\n",
       " 'nela;': 1,\n",
       " 'sempre': 10,\n",
       " 'nasceu': 1,\n",
       " 'isso;': 1,\n",
       " 'tinha': 3,\n",
       " 'qualidades;': 1,\n",
       " 'esperou': 1,\n",
       " 'lhe': 1,\n",
       " 'abrissem': 1,\n",
       " 'porta': 3,\n",
       " 'pé': 1,\n",
       " 'parede': 1,\n",
       " 'sem': 7,\n",
       " 'cantou': 1,\n",
       " 'cantiga': 1,\n",
       " 'infinito': 1,\n",
       " 'capoeira,': 1,\n",
       " 'ouviu': 1,\n",
       " 'voz': 1,\n",
       " 'deus': 1,\n",
       " 'num': 2,\n",
       " 'poço': 1,\n",
       " 'tapado.': 1,\n",
       " 'crer': 1,\n",
       " 'mim?': 1,\n",
       " 'derrame-me': 1,\n",
       " 'natureza': 1,\n",
       " 'sobre': 1,\n",
       " 'cabeça': 2,\n",
       " 'ardente': 1,\n",
       " 'seu': 1,\n",
       " 'sol,': 1,\n",
       " 'sua': 1,\n",
       " 'chuva,': 1,\n",
       " 'vento': 1,\n",
       " 'acha': 1,\n",
       " 'cabelo,': 1,\n",
       " 'resto': 1,\n",
       " 'venha': 1,\n",
       " 'vier,': 1,\n",
       " 'tiver': 1,\n",
       " 'vir,': 1,\n",
       " 'venha.': 1,\n",
       " 'escravos': 1,\n",
       " 'cardíacos': 1,\n",
       " 'estrelas,': 1,\n",
       " 'conquistámos': 1,\n",
       " 'todo': 1,\n",
       " 'antes': 1,\n",
       " 'levantar': 1,\n",
       " 'cama;': 1,\n",
       " 'acordámos': 1,\n",
       " 'ele': 5,\n",
       " 'opaco,': 1,\n",
       " 'levantamo-nos': 1,\n",
       " 'alheio,': 1,\n",
       " 'saímos': 1,\n",
       " 'terra': 1,\n",
       " 'inteira,': 1,\n",
       " 'sistema': 1,\n",
       " 'solar': 1,\n",
       " 'via': 1,\n",
       " 'láctea': 1,\n",
       " 'indefinido.': 1,\n",
       " '(come': 1,\n",
       " 'chocolates,': 1,\n",
       " 'pequena;': 1,\n",
       " 'come': 1,\n",
       " 'chocolates!': 1,\n",
       " 'olha': 2,\n",
       " 'metafísica': 2,\n",
       " 'no': 4,\n",
       " 'chocolates.': 1,\n",
       " 'religiões': 1,\n",
       " 'todas': 2,\n",
       " 'ensinam': 1,\n",
       " 'confeitaria.': 1,\n",
       " 'come,': 1,\n",
       " 'pequena': 1,\n",
       " 'suja,': 1,\n",
       " 'come!': 1,\n",
       " 'pudesse': 1,\n",
       " 'comer': 1,\n",
       " 'chocolates': 1,\n",
       " 'verdade': 1,\n",
       " 'comes!': 1,\n",
       " 'e,': 1,\n",
       " 'tirar': 2,\n",
       " 'papel': 1,\n",
       " 'prata,': 1,\n",
       " 'folhas': 1,\n",
       " 'estanho,': 1,\n",
       " 'deito': 1,\n",
       " 'chão,': 1,\n",
       " 'deitado': 1,\n",
       " 'vida.)': 1,\n",
       " 'fica': 1,\n",
       " 'amargura': 1,\n",
       " 'caligrafia': 1,\n",
       " 'rápida': 1,\n",
       " 'destes': 1,\n",
       " 'versos,': 1,\n",
       " 'pórtico': 1,\n",
       " 'partido': 1,\n",
       " 'impossível.': 1,\n",
       " 'consagro': 1,\n",
       " 'mesmo': 2,\n",
       " 'desprezo': 1,\n",
       " 'lágrimas,': 1,\n",
       " 'nobre': 2,\n",
       " 'gesto': 1,\n",
       " 'largo': 1,\n",
       " 'atiro': 1,\n",
       " 'roupa': 1,\n",
       " 'suja': 1,\n",
       " 'rol,': 1,\n",
       " 'pra': 1,\n",
       " 'decurso': 1,\n",
       " 'coisas,': 1,\n",
       " 'fico': 1,\n",
       " 'camisa.': 1,\n",
       " '(tu,': 1,\n",
       " 'consolas,': 2,\n",
       " 'existes': 1,\n",
       " 'isso': 2,\n",
       " 'deusa': 1,\n",
       " 'grega,': 1,\n",
       " 'concebida': 1,\n",
       " 'estátua': 1,\n",
       " 'viva,': 1,\n",
       " 'patrícia': 1,\n",
       " 'romana,': 1,\n",
       " 'nefasta,': 1,\n",
       " 'princesa': 1,\n",
       " 'trovadores,': 1,\n",
       " 'gentilíssima': 1,\n",
       " 'colorida,': 1,\n",
       " 'marquesa': 1,\n",
       " 'século': 1,\n",
       " 'dezoito,': 1,\n",
       " 'decotada': 1,\n",
       " 'longínqua,': 1,\n",
       " 'cocote': 1,\n",
       " 'célebre': 1,\n",
       " 'tempo': 1,\n",
       " 'nossos': 1,\n",
       " 'pais,': 1,\n",
       " 'quê': 2,\n",
       " 'moderno': 1,\n",
       " 'concebo': 1,\n",
       " 'bem': 1,\n",
       " 'seja': 1,\n",
       " 'for,': 1,\n",
       " 'sejas,': 1,\n",
       " 'inspirar': 1,\n",
       " 'inspire!': 1,\n",
       " 'coração': 1,\n",
       " 'balde': 1,\n",
       " 'despejado.': 1,\n",
       " 'invocam': 2,\n",
       " 'espíritos': 2,\n",
       " 'invoco': 1,\n",
       " 'encontro': 1,\n",
       " 'chego': 1,\n",
       " 'vejo': 6,\n",
       " 'nitidez': 1,\n",
       " 'absoluta.': 1,\n",
       " 'lojas,': 1,\n",
       " 'passeios,': 1,\n",
       " 'carros': 1,\n",
       " 'passam,': 1,\n",
       " 'entes': 1,\n",
       " 'vivos': 1,\n",
       " 'vestidos': 1,\n",
       " 'cruzam,': 1,\n",
       " 'cães': 1,\n",
       " 'também': 1,\n",
       " 'existem,': 1,\n",
       " 'isto': 4,\n",
       " 'pesa': 1,\n",
       " 'condenação': 1,\n",
       " 'degredo,': 1,\n",
       " 'estrangeiro,': 1,\n",
       " 'tudo.)': 1,\n",
       " 'vivi,': 1,\n",
       " 'estudei,': 1,\n",
       " 'amei,': 1,\n",
       " 'cri,': 1,\n",
       " 'mendigo': 1,\n",
       " 'inveje': 1,\n",
       " 'eu.': 1,\n",
       " 'olho': 1,\n",
       " 'cada': 1,\n",
       " 'andrajos': 1,\n",
       " 'chagas': 1,\n",
       " 'mentira,': 1,\n",
       " 'penso:': 1,\n",
       " 'vivesses': 1,\n",
       " 'estudasses': 1,\n",
       " 'amasses': 1,\n",
       " 'cresses': 1,\n",
       " '(porque': 1,\n",
       " 'possível': 1,\n",
       " 'fazer': 3,\n",
       " 'realidade': 2,\n",
       " 'nada': 1,\n",
       " 'disso);': 1,\n",
       " 'tenhas': 1,\n",
       " 'existido': 1,\n",
       " 'apenas,': 1,\n",
       " 'lagarto': 2,\n",
       " 'cortam': 1,\n",
       " 'rabo': 2,\n",
       " 'aquém': 1,\n",
       " 'remexidamente.': 1,\n",
       " 'soube,': 1,\n",
       " 'podia': 1,\n",
       " 'fiz.': 1,\n",
       " 'dominó': 2,\n",
       " 'vesti': 1,\n",
       " 'errado.': 1,\n",
       " 'conheceram-me': 1,\n",
       " 'logo': 1,\n",
       " 'desmenti,': 1,\n",
       " 'perdi-me.': 1,\n",
       " 'quis': 1,\n",
       " 'máscara,': 1,\n",
       " 'estava': 2,\n",
       " 'pegada': 1,\n",
       " 'cara.': 1,\n",
       " 'tirei': 1,\n",
       " 'vi': 1,\n",
       " 'espelho,': 1,\n",
       " 'já': 2,\n",
       " 'envelhecido.': 1,\n",
       " 'bêbado,': 1,\n",
       " 'sabia': 1,\n",
       " 'vestir': 1,\n",
       " 'tirado.': 1,\n",
       " 'deitei': 1,\n",
       " 'fora': 1,\n",
       " 'máscara': 1,\n",
       " 'dormi': 1,\n",
       " 'vestiário': 1,\n",
       " 'cão': 1,\n",
       " 'tolerado': 1,\n",
       " 'gerência': 1,\n",
       " 'inofensivo': 1,\n",
       " 'vou': 3,\n",
       " 'escrever': 2,\n",
       " 'provar': 1,\n",
       " 'sublime.': 1,\n",
       " 'essência': 1,\n",
       " 'musical': 1,\n",
       " 'versos': 4,\n",
       " 'inúteis,': 1,\n",
       " 'dera': 1,\n",
       " 'encontrar-te': 1,\n",
       " 'fizesse,': 1,\n",
       " 'ficasse': 1,\n",
       " 'defronte': 2,\n",
       " 'defronte,': 1,\n",
       " 'calcando': 1,\n",
       " 'aos': 1,\n",
       " 'pés': 1,\n",
       " 'consciência': 2,\n",
       " 'estar': 2,\n",
       " 'existindo,': 1,\n",
       " 'tapete': 1,\n",
       " 'bêbado': 1,\n",
       " 'tropeça': 1,\n",
       " 'capacho': 1,\n",
       " 'ciganos': 1,\n",
       " 'roubaram': 1,\n",
       " 'valia': 1,\n",
       " 'dono': 3,\n",
       " 'chegou': 2,\n",
       " 'ficou': 1,\n",
       " 'porta.': 1,\n",
       " 'olhou-o': 1,\n",
       " 'desconforto': 2,\n",
       " 'mal': 2,\n",
       " 'voltada': 1,\n",
       " 'alma': 1,\n",
       " 'mal-entendendo.': 1,\n",
       " 'morrerá': 4,\n",
       " 'morrerei.': 1,\n",
       " 'deixará': 1,\n",
       " 'tabuleta,': 2,\n",
       " 'deixarei': 1,\n",
       " 'versos.': 2,\n",
       " 'certa': 2,\n",
       " 'altura': 2,\n",
       " 'tabuleta': 1,\n",
       " 'também,': 1,\n",
       " 'também.': 1,\n",
       " 'depois': 3,\n",
       " 'onde': 1,\n",
       " 'esteve': 1,\n",
       " 'língua': 1,\n",
       " 'foram': 1,\n",
       " 'escritos': 1,\n",
       " 'planeta': 1,\n",
       " 'girante': 1,\n",
       " 'deu.': 1,\n",
       " 'outros': 2,\n",
       " 'satélites': 1,\n",
       " 'sistemas': 1,\n",
       " 'qualquer': 1,\n",
       " 'continuará': 1,\n",
       " 'fazendo': 1,\n",
       " 'vivendo': 1,\n",
       " 'tabuletas,': 1,\n",
       " 'outra,': 2,\n",
       " 'tão': 3,\n",
       " 'inútil': 1,\n",
       " 'impossível': 1,\n",
       " 'estúpido': 1,\n",
       " 'fundo': 1,\n",
       " 'sono': 1,\n",
       " 'superfície,': 1,\n",
       " 'outra': 1,\n",
       " 'homem': 2,\n",
       " 'entrou': 1,\n",
       " '(para': 1,\n",
       " 'comprar': 1,\n",
       " 'tabaco?),': 1,\n",
       " 'plausível': 1,\n",
       " 'cai': 1,\n",
       " 'repente': 1,\n",
       " 'cima': 1,\n",
       " 'semiergo-me': 1,\n",
       " 'enérgico,': 1,\n",
       " 'convencido,': 1,\n",
       " 'humano,': 1,\n",
       " 'tencionar': 1,\n",
       " 'estes': 1,\n",
       " 'digo': 1,\n",
       " 'contrário.': 1,\n",
       " 'acendo': 1,\n",
       " 'cigarro': 2,\n",
       " 'pensar': 1,\n",
       " 'escrevê-los': 1,\n",
       " 'saboreio': 1,\n",
       " 'libertação': 2,\n",
       " 'pensamentos.': 1,\n",
       " 'sigo': 1,\n",
       " 'fumo': 1,\n",
       " 'rota': 1,\n",
       " 'própria,': 1,\n",
       " 'gozo,': 1,\n",
       " 'sensitivo': 1,\n",
       " 'competente,': 1,\n",
       " 'especulações': 1,\n",
       " 'consequência': 1,\n",
       " 'disposto.': 1,\n",
       " 'deito-me': 1,\n",
       " 'trás': 1,\n",
       " 'cadeira': 1,\n",
       " 'continuo': 1,\n",
       " 'fumando.': 2,\n",
       " 'enquanto': 1,\n",
       " 'mo': 1,\n",
       " 'conceder,': 1,\n",
       " 'continuarei': 1,\n",
       " '(se': 1,\n",
       " 'casasse': 1,\n",
       " 'filha': 1,\n",
       " 'lavadeira': 1,\n",
       " 'feliz.)': 1,\n",
       " 'visto': 1,\n",
       " 'isto,': 1,\n",
       " 'levanto-me': 1,\n",
       " 'janela.': 1,\n",
       " 'saiu': 1,\n",
       " '(metendo': 1,\n",
       " 'troco': 1,\n",
       " 'algibeira': 1,\n",
       " 'calças?).': 1,\n",
       " 'ah,': 1,\n",
       " 'conheço-o:': 1,\n",
       " 'esteves': 2,\n",
       " 'metafísica.': 1,\n",
       " '(o': 1,\n",
       " 'porta.)': 1,\n",
       " 'instinto': 1,\n",
       " 'divino': 1,\n",
       " 'voltou-se': 1,\n",
       " 'viu-me.': 1,\n",
       " 'acenou-me': 1,\n",
       " 'adeus': 2,\n",
       " 'gritei-lhe': 1,\n",
       " 'ó': 1,\n",
       " 'esteves!,': 1,\n",
       " 'universo': 1,\n",
       " 'reconstruiu-se-me': 1,\n",
       " 'ideal': 1,\n",
       " 'esperança,': 1,\n",
       " 'sorriu.': 1}"
      ]
     },
     "execution_count": 68,
     "metadata": {},
     "output_type": "execute_result"
    }
   ],
   "source": [
    "bag_of_words"
   ]
  }
 ],
 "metadata": {
  "kernelspec": {
   "display_name": "Python 3",
   "language": "python",
   "name": "python3"
  },
  "language_info": {
   "codemirror_mode": {
    "name": "ipython",
    "version": 3
   },
   "file_extension": ".py",
   "mimetype": "text/x-python",
   "name": "python",
   "nbconvert_exporter": "python",
   "pygments_lexer": "ipython3",
   "version": "3.9.2"
  }
 },
 "nbformat": 4,
 "nbformat_minor": 4
}
