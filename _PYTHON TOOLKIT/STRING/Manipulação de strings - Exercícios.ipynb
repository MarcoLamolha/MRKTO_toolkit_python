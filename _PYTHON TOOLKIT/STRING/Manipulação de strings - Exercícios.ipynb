{
 "cells": [
  {
   "cell_type": "markdown",
   "id": "crucial-extreme",
   "metadata": {},
   "source": [
    "### Manipulação de strings - Exercícios"
   ]
  },
  {
   "cell_type": "markdown",
   "id": "alleged-westminster",
   "metadata": {},
   "source": [
    "#### Ex1"
   ]
  },
  {
   "cell_type": "markdown",
   "id": "large-bunny",
   "metadata": {},
   "source": [
    "Junte as palavras da lista abaixo em uma única string. As palavras devem estar separadas por um espaço em branco ' '. Ao final da string acrescente um ponto final."
   ]
  },
  {
   "cell_type": "code",
   "execution_count": 1,
   "id": "hairy-boston",
   "metadata": {},
   "outputs": [],
   "source": [
    "palavras = ['A', 'tecnologia', 'para', 'tornar', 'algo', 'invisível', 'é', 'tão', 'infinitamente', 'complexa', 'que', 'é', 'muito', 'mais', 'simples', 'e', 'eficaz', 'remover', 'a', 'coisa', 'e', 'esquecer', 'o', 'assunto']"
   ]
  },
  {
   "cell_type": "code",
   "execution_count": 2,
   "id": "hairy-observation",
   "metadata": {},
   "outputs": [
    {
     "data": {
      "text/plain": [
       "'A tecnologia para tornar algo invisível é tão infinitamente complexa que é muito mais simples e eficaz remover a coisa e esquecer o assunto.'"
      ]
     },
     "execution_count": 2,
     "metadata": {},
     "output_type": "execute_result"
    }
   ],
   "source": [
    "' '.join(palavras)+'.'"
   ]
  },
  {
   "cell_type": "markdown",
   "id": "operating-anniversary",
   "metadata": {},
   "source": [
    "#### Ex2"
   ]
  },
  {
   "cell_type": "markdown",
   "id": "unknown-pottery",
   "metadata": {},
   "source": [
    "Na célula abaixo, use a lista de strings para criar uma única string da lista de compras. Comece a lista com a string `Lista de compras:` e inclua uma vírgula e um espaço entre cada item, exceto o último. Inclua um ponto final no final. Inclua na lista apenas alimentos que comecem com a letra 'b' e certifique-se de que todos os alimentos estejam em minúsculas."
   ]
  },
  {
   "cell_type": "code",
   "execution_count": 6,
   "id": "decent-memorabilia",
   "metadata": {},
   "outputs": [],
   "source": [
    "lista_compras = ['Bananas', 'Chocolate', 'berinjela', 'fraldas', 'Sorvete', 'biscoito ou bolacha', 'brócolis']"
   ]
  },
  {
   "cell_type": "code",
   "execution_count": 52,
   "id": "mediterranean-survey",
   "metadata": {},
   "outputs": [
    {
     "data": {
      "text/plain": [
       "'Lista de compras: bananas, berinjela, biscoito ou bolacha, brócolis.'"
      ]
     },
     "execution_count": 52,
     "metadata": {},
     "output_type": "execute_result"
    }
   ],
   "source": [
    "nova = list()\n",
    "for item in lista_compras:\n",
    "    if item.lower()[0] == 'b':\n",
    "        nova.append(item.lower())\n",
    "        \n",
    "'Lista de compras: '+', '.join(nova)+'.'"
   ]
  },
  {
   "cell_type": "markdown",
   "id": "lightweight-opposition",
   "metadata": {},
   "source": [
    "#### Ex4"
   ]
  },
  {
   "cell_type": "markdown",
   "id": "viral-pierce",
   "metadata": {},
   "source": [
    "Substitua todas as ocorrências da palavra 'contrato' por 'carro' no texto abaixo:"
   ]
  },
  {
   "cell_type": "code",
   "execution_count": 53,
   "id": "occasional-lover",
   "metadata": {},
   "outputs": [],
   "source": [
    "texto = 'Vamos avaliar cada item do seu contrato. Faremos a manutenção e revisão para garantir que seu contrato te dê a segurança que você procura'"
   ]
  },
  {
   "cell_type": "code",
   "execution_count": 54,
   "id": "pregnant-guitar",
   "metadata": {
    "scrolled": true
   },
   "outputs": [
    {
     "data": {
      "text/plain": [
       "'Vamos avaliar cada item do seu carro. Faremos a manutenção e revisão para garantir que seu carro te dê a segurança que você procura'"
      ]
     },
     "execution_count": 54,
     "metadata": {},
     "output_type": "execute_result"
    }
   ],
   "source": [
    "texto.replace('contrato','carro')"
   ]
  },
  {
   "cell_type": "markdown",
   "id": "restricted-polish",
   "metadata": {},
   "source": [
    "#### Ex5"
   ]
  },
  {
   "cell_type": "markdown",
   "id": "vocal-possible",
   "metadata": {},
   "source": [
    "Vimos primeiro a combinação de strings em uma longa string. Existem situações - como na análise da descrição de startups - em que precisamos fazer o oposto do desafio 1 e dividir a string em componentes menores para análise posterior. \n",
    "\n",
    "Na célula abaixo, divida a string em uma lista de strings usando o delimitador de espaço. Conte a frequência de cada palavra da string em um dicionário. Retire os pontos finais (.), pontos-e-vírgulas(;), travessões (—),  quebras de linha (\\n) e vírgulas do texto (,). Certifique-se de remover strings vazias ('') de seu dicionário."
   ]
  },
  {
   "cell_type": "code",
   "execution_count": null,
   "id": "effective-retailer",
   "metadata": {},
   "outputs": [],
   "source": [
    "poema = \"\"\"Minha terra tem palmeiras,\n",
    "Onde canta o Sabiá;\n",
    "As aves, que aqui gorjeiam,\n",
    "Não gorjeiam como lá.\n",
    "\n",
    "Nosso céu tem mais estrelas,\n",
    "Nossas várzeas têm mais flores,\n",
    "Nossos bosques têm mais vida,\n",
    "Nossa vida mais amores.\n",
    "\n",
    "Em cismar, sozinho, à noite,\n",
    "Mais prazer encontro eu lá;\n",
    "Minha terra tem palmeiras,\n",
    "Onde canta o Sabiá.\n",
    "\n",
    "Minha terra tem primores,\n",
    "Que tais não encontro eu cá;\n",
    "Em cismar — sozinho, à noite —\n",
    "Mais prazer encontro eu lá;\n",
    "Minha terra tem palmeiras,\n",
    "Onde canta o Sabiá.\n",
    "\n",
    "Não permita Deus que eu morra,\n",
    "Sem que eu volte para lá;\n",
    "Sem que desfrute os primores\n",
    "Que não encontro por cá;\n",
    "Sem qu’inda aviste as palmeiras,\n",
    "Onde canta o Sabiá.\"\"\""
   ]
  },
  {
   "cell_type": "code",
   "execution_count": null,
   "id": "better-ballet",
   "metadata": {},
   "outputs": [],
   "source": [
    "block_list = ['.',';','—',',','\\n']"
   ]
  },
  {
   "cell_type": "code",
   "execution_count": null,
   "id": "trained-component",
   "metadata": {},
   "outputs": [],
   "source": []
  },
  {
   "cell_type": "code",
   "execution_count": null,
   "id": "advance-defendant",
   "metadata": {},
   "outputs": [],
   "source": []
  },
  {
   "cell_type": "code",
   "execution_count": null,
   "id": "incoming-experiment",
   "metadata": {},
   "outputs": [],
   "source": []
  },
  {
   "cell_type": "code",
   "execution_count": null,
   "id": "agreed-elephant",
   "metadata": {},
   "outputs": [],
   "source": []
  },
  {
   "cell_type": "code",
   "execution_count": null,
   "id": "dried-hollywood",
   "metadata": {},
   "outputs": [],
   "source": []
  }
 ],
 "metadata": {
  "kernelspec": {
   "display_name": "Python 3",
   "language": "python",
   "name": "python3"
  },
  "language_info": {
   "codemirror_mode": {
    "name": "ipython",
    "version": 3
   },
   "file_extension": ".py",
   "mimetype": "text/x-python",
   "name": "python",
   "nbconvert_exporter": "python",
   "pygments_lexer": "ipython3",
   "version": "3.9.2"
  }
 },
 "nbformat": 4,
 "nbformat_minor": 5
}
