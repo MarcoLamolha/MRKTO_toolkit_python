{
 "cells": [
  {
   "cell_type": "markdown",
   "metadata": {},
   "source": [
    "<h1 style=\"text-align: center;\">Dicionários</h1>"
   ]
  },
  {
   "cell_type": "markdown",
   "metadata": {},
   "source": [
    "<h2> Em Python, uma dicionário é uma coleção de chaves e valores</h2>\n",
    "\n",
    "<h3> dicionario_1 = {chave_1: valor_1, chave_2: valor2, ... }</h3> \n",
    "\n",
    "* Formato: um dicionário é uma coleção de chaves e valores contidos entre \\{\\}. Os dois pontos separam a chave do valor (chave:valor). E cada dupla de chave e valor é separada por vírgulas das demais duplas de chave e valor.  \n",
    "\n",
    "* Distinção importante: As duplas de chave e valor não têm uma ordem definida no dicionário. Então, diferentemente das listas, não acessamos as chaves e valores através de índices. \n",
    "\n",
    "* As chaves dos dicionários podem ser números, strings ou Booleanos. Já os valores podem conter diversos objetos, inclusive outras listas e dicionários.\n",
    "\n",
    "Exemplo:\n",
    "\n",
    "<code>setores = {'FinTech':'finanças', 'HealthTech':'saúde', 'MarTech':'marketing', 'RetailTech':'varejo'}</code>\n",
    "\n",
    "Exemplo 2:\n",
    "\n",
    "<code>coisas_aleatorias = {'fruta':'laranja', 0: 1, 'float': 3.4, 'condição':True, False:True}</code>\n",
    "\n",
    "Exemplo 3:\n",
    "\n",
    "<code>pessoa = {'idade':32, 'cpf':'999.999.999-99', 'escolaridade':'ensino superior', 'profissao': 'biólogo', 'instituicoes':['USP', 'FGV', 'Mackenzie']}</code>\n"
   ]
  },
  {
   "cell_type": "markdown",
   "metadata": {},
   "source": [
    "- As chaves são utilizadas para acessar os valores correspondentes:"
   ]
  },
  {
   "cell_type": "code",
   "execution_count": 8,
   "metadata": {},
   "outputs": [],
   "source": [
    "setores = {'D'}"
   ]
  },
  {
   "cell_type": "code",
   "execution_count": 9,
   "metadata": {},
   "outputs": [],
   "source": [
    "setores = {'FinTech':'finanças', 'HealthTech':'saúde', 'MarTech':'marketing', 'RetailTech':'varejo'}"
   ]
  },
  {
   "cell_type": "markdown",
   "metadata": {},
   "source": [
    "Exemplo: o valor associado à chave 'FinTech' é 'finanças':"
   ]
  },
  {
   "cell_type": "code",
   "execution_count": 10,
   "metadata": {},
   "outputs": [
    {
     "data": {
      "text/plain": [
       "'finanças'"
      ]
     },
     "execution_count": 10,
     "metadata": {},
     "output_type": "execute_result"
    }
   ],
   "source": [
    "setores['FinTech']"
   ]
  },
  {
   "cell_type": "code",
   "execution_count": 11,
   "metadata": {
    "scrolled": true
   },
   "outputs": [
    {
     "data": {
      "text/plain": [
       "'saúde'"
      ]
     },
     "execution_count": 11,
     "metadata": {},
     "output_type": "execute_result"
    }
   ],
   "source": [
    "setores['HealthTech']"
   ]
  },
  {
   "cell_type": "markdown",
   "metadata": {},
   "source": [
    "Ao tentar acessar uma chave inexistente surgirá o erro KeyError:"
   ]
  },
  {
   "cell_type": "code",
   "execution_count": 12,
   "metadata": {},
   "outputs": [
    {
     "ename": "KeyError",
     "evalue": "'outro_setor'",
     "output_type": "error",
     "traceback": [
      "\u001b[0;31m---------------------------------------------------------------------------\u001b[0m",
      "\u001b[0;31mKeyError\u001b[0m                                  Traceback (most recent call last)",
      "Cell \u001b[0;32mIn[12], line 1\u001b[0m\n\u001b[0;32m----> 1\u001b[0m \u001b[43msetores\u001b[49m\u001b[43m[\u001b[49m\u001b[38;5;124;43m'\u001b[39;49m\u001b[38;5;124;43moutro_setor\u001b[39;49m\u001b[38;5;124;43m'\u001b[39;49m\u001b[43m]\u001b[49m\n",
      "\u001b[0;31mKeyError\u001b[0m: 'outro_setor'"
     ]
    }
   ],
   "source": [
    "setores['outro_setor']"
   ]
  },
  {
   "cell_type": "markdown",
   "metadata": {},
   "source": [
    "Exemplo2:"
   ]
  },
  {
   "cell_type": "code",
   "execution_count": null,
   "metadata": {},
   "outputs": [],
   "source": [
    "pessoa = {'idade':32, 'cpf':'999.999.999-99', 'escolaridade':'ensino superior', 'profissao': 'biólogo', 'instituicoes':['USP', 'FGV', 'Mackenzie']}"
   ]
  },
  {
   "cell_type": "code",
   "execution_count": null,
   "metadata": {},
   "outputs": [
    {
     "data": {
      "text/plain": [
       "32"
      ]
     },
     "execution_count": 6,
     "metadata": {},
     "output_type": "execute_result"
    }
   ],
   "source": [
    "pessoa['idade']"
   ]
  },
  {
   "cell_type": "code",
   "execution_count": null,
   "metadata": {},
   "outputs": [
    {
     "data": {
      "text/plain": [
       "['USP', 'FGV', 'Mackenzie']"
      ]
     },
     "execution_count": 7,
     "metadata": {},
     "output_type": "execute_result"
    }
   ],
   "source": [
    "pessoa['instituicoes']"
   ]
  },
  {
   "cell_type": "code",
   "execution_count": null,
   "metadata": {},
   "outputs": [
    {
     "data": {
      "text/plain": [
       "'USP'"
      ]
     },
     "execution_count": 8,
     "metadata": {},
     "output_type": "execute_result"
    }
   ],
   "source": [
    "pessoa['instituicoes'][0] #Estamos acessando o índice 0 da lista"
   ]
  },
  {
   "cell_type": "markdown",
   "metadata": {},
   "source": [
    "##### Exercício:\n",
    "\n",
    "Crie um dicionário para os seguintes pares de chave e valor, relacionando autores a seus livros:\n",
    "\n",
    "- 'Joāo Guimarāes Rosa' -  'Grande Sertāo Veredas'\n",
    "- 'Machado de Assis' – 'Memórias Póstumas de Brás Cubas'\n",
    "- 'Leon Tolstoi' - 'Guerra e Paz'\n",
    "- 'O Retrato de Dorian Gray' - 'O Retrato de Dorian Gray'\n",
    "\n",
    "Atribua o novo dicionário a uma variável chamada autor_livro."
   ]
  },
  {
   "cell_type": "code",
   "execution_count": null,
   "metadata": {},
   "outputs": [],
   "source": [
    "autor_livro = {'Joāo Guimarāes Rosa' : ['Grande Sertāo Veredas',25],'Machado de Assis' : 'Memórias Póstumas de Brás Cubas','Leon Tolstoi' : 'Guerra e Paz','O Retrato de Dorian Gray' : 'O Retrato de Dorian Gray'}"
   ]
  },
  {
   "cell_type": "code",
   "execution_count": null,
   "metadata": {},
   "outputs": [
    {
     "data": {
      "text/plain": [
       "['Grande Sertāo Veredas']"
      ]
     },
     "execution_count": 10,
     "metadata": {},
     "output_type": "execute_result"
    }
   ],
   "source": [
    "autor_livro['Joāo Guimarāes Rosa']"
   ]
  },
  {
   "cell_type": "code",
   "execution_count": null,
   "metadata": {},
   "outputs": [
    {
     "data": {
      "text/plain": [
       "25"
      ]
     },
     "execution_count": 16,
     "metadata": {},
     "output_type": "execute_result"
    }
   ],
   "source": [
    "autor_livro['Joāo Guimarāes Rosa'][1]"
   ]
  },
  {
   "cell_type": "markdown",
   "metadata": {},
   "source": [
    "##### O que mais podemos fazer com dicionários?"
   ]
  },
  {
   "cell_type": "markdown",
   "metadata": {},
   "source": [
    "Entre outras coisas, podemos fazer associação de elementos que podem ser usados no tratamento de variáveis:"
   ]
  },
  {
   "cell_type": "code",
   "execution_count": null,
   "metadata": {},
   "outputs": [],
   "source": [
    "pontuacao = {'excelente':10, 'ótimo':9, 'bom':7, 'mediano':5,'ruim':3, 'péssimo':0}"
   ]
  },
  {
   "cell_type": "code",
   "execution_count": null,
   "metadata": {},
   "outputs": [],
   "source": [
    "avaliacao_semestral = ['excelente', 'ótimo', 'bom', 'bom', 'mediano', 'bom']"
   ]
  },
  {
   "cell_type": "code",
   "execution_count": null,
   "metadata": {},
   "outputs": [],
   "source": [
    "traducao = list()\n",
    "\n",
    "for item in avaliacao_semestral:\n",
    "    traducao.append(pontuacao[item])"
   ]
  },
  {
   "cell_type": "code",
   "execution_count": null,
   "metadata": {},
   "outputs": [
    {
     "data": {
      "text/plain": [
       "[10, 9, 7, 7, 5, 7]"
      ]
     },
     "execution_count": 12,
     "metadata": {},
     "output_type": "execute_result"
    }
   ],
   "source": [
    "traducao"
   ]
  },
  {
   "cell_type": "markdown",
   "metadata": {},
   "source": [
    "-----------------------------"
   ]
  },
  {
   "cell_type": "markdown",
   "metadata": {},
   "source": [
    "# Métodos de Dicionários:\n",
    "\n",
    "Métodos são \"funções\" próprias de certos objetos em Python.\n",
    "\n",
    "Os dicionários têm alguns métodos que nos ajudam a trabalhar com eles. Repare que eles têm o mesmo aspecto de uma função:\n",
    "\n",
    "<b>dicionario.metodo()</b>  \n",
    "\n",
    "* Acessamos um método do dicionário colocando um <b>ponto (.)</b> ao final do nome do dicionário e, em seguida, chamando o <b>nome do método</b> (por exemplo: <b>keys</b>), <b>abrindo e fechando parênteses ( )</b> e inserindo o argumento."
   ]
  },
  {
   "cell_type": "markdown",
   "metadata": {},
   "source": [
    "#### keys"
   ]
  },
  {
   "cell_type": "code",
   "execution_count": null,
   "metadata": {},
   "outputs": [
    {
     "data": {
      "text/plain": [
       "dict_keys(['excelente', 'ótimo', 'bom', 'mediano', 'ruim', 'péssimo'])"
      ]
     },
     "execution_count": 13,
     "metadata": {},
     "output_type": "execute_result"
    }
   ],
   "source": [
    "pontuacao.keys()"
   ]
  },
  {
   "cell_type": "markdown",
   "metadata": {},
   "source": [
    "#### items"
   ]
  },
  {
   "cell_type": "code",
   "execution_count": null,
   "metadata": {},
   "outputs": [
    {
     "data": {
      "text/plain": [
       "dict_items([('excelente', 10), ('ótimo', 9), ('bom', 7), ('mediano', 5), ('ruim', 3), ('péssimo', 0)])"
      ]
     },
     "execution_count": 19,
     "metadata": {},
     "output_type": "execute_result"
    }
   ],
   "source": [
    "pontuacao.items()"
   ]
  },
  {
   "cell_type": "markdown",
   "metadata": {},
   "source": [
    "#### values"
   ]
  },
  {
   "cell_type": "code",
   "execution_count": null,
   "metadata": {
    "scrolled": true
   },
   "outputs": [
    {
     "data": {
      "text/plain": [
       "dict_values([10, 9, 7, 5, 3, 0])"
      ]
     },
     "execution_count": 15,
     "metadata": {},
     "output_type": "execute_result"
    }
   ],
   "source": [
    "pontuacao.values()"
   ]
  },
  {
   "cell_type": "markdown",
   "metadata": {},
   "source": [
    "#### get"
   ]
  },
  {
   "cell_type": "code",
   "execution_count": null,
   "metadata": {
    "scrolled": true
   },
   "outputs": [
    {
     "data": {
      "text/plain": [
       "10"
      ]
     },
     "execution_count": 16,
     "metadata": {},
     "output_type": "execute_result"
    }
   ],
   "source": [
    "pontuacao.get('excelente')"
   ]
  },
  {
   "cell_type": "markdown",
   "metadata": {},
   "source": [
    "#### Quando tentamos acessar um valor de chave inexistente através de get, nenhum valor retorna e não ocorre mensagem de erro:"
   ]
  },
  {
   "cell_type": "code",
   "execution_count": null,
   "metadata": {},
   "outputs": [],
   "source": [
    "pontuacao.get('outro valor') "
   ]
  },
  {
   "cell_type": "markdown",
   "metadata": {},
   "source": [
    "#### Quando tentamos acessar um valor de chave inexistente através do índice, ocorre mensagem de erro:"
   ]
  },
  {
   "cell_type": "code",
   "execution_count": null,
   "metadata": {
    "scrolled": false
   },
   "outputs": [
    {
     "ename": "KeyError",
     "evalue": "'outro valor'",
     "output_type": "error",
     "traceback": [
      "\u001b[1;31m---------------------------------------------------------------------------\u001b[0m",
      "\u001b[1;31mKeyError\u001b[0m                                  Traceback (most recent call last)",
      "\u001b[1;32m<ipython-input-19-5e8aad05a414>\u001b[0m in \u001b[0;36m<module>\u001b[1;34m\u001b[0m\n\u001b[1;32m----> 1\u001b[1;33m \u001b[0mpontuacao\u001b[0m\u001b[1;33m[\u001b[0m\u001b[1;34m'outro valor'\u001b[0m\u001b[1;33m]\u001b[0m\u001b[1;33m\u001b[0m\u001b[1;33m\u001b[0m\u001b[0m\n\u001b[0m",
      "\u001b[1;31mKeyError\u001b[0m: 'outro valor'"
     ]
    }
   ],
   "source": [
    "pontuacao['outro valor']"
   ]
  },
  {
   "cell_type": "markdown",
   "metadata": {},
   "source": [
    "#### update: soma de dois dicionários:"
   ]
  },
  {
   "cell_type": "code",
   "execution_count": null,
   "metadata": {},
   "outputs": [],
   "source": [
    "itens_1 = {'sabonete':{'quantidade':5, 'preco':1.5}, 'shampoo':{'quantidade':1, 'preco':40}}"
   ]
  },
  {
   "cell_type": "code",
   "execution_count": null,
   "metadata": {},
   "outputs": [],
   "source": [
    "itens_2 = {'feijao':{'quantidade':2, 'preco':7.8}, 'arroz':{'quantidade':1, 'preco':6.5}}"
   ]
  },
  {
   "cell_type": "code",
   "execution_count": null,
   "metadata": {},
   "outputs": [],
   "source": [
    "itens_1.update(itens_2)"
   ]
  },
  {
   "cell_type": "code",
   "execution_count": null,
   "metadata": {
    "scrolled": true
   },
   "outputs": [
    {
     "data": {
      "text/plain": [
       "{'sabonete': {'quantidade': 5, 'preco': 1.5},\n",
       " 'shampoo': {'quantidade': 1, 'preco': 40},\n",
       " 'feijao': {'quantidade': 2, 'preco': 7.8},\n",
       " 'arroz': {'quantidade': 1, 'preco': 6.5}}"
      ]
     },
     "execution_count": 23,
     "metadata": {},
     "output_type": "execute_result"
    }
   ],
   "source": [
    "itens_1 #com o método update somamos o dicionário itens_2 ao dicionário itens_1"
   ]
  },
  {
   "cell_type": "markdown",
   "metadata": {},
   "source": [
    "_____________________"
   ]
  },
  {
   "cell_type": "markdown",
   "metadata": {},
   "source": [
    "# Uso de for para dicionários:"
   ]
  },
  {
   "cell_type": "code",
   "execution_count": null,
   "metadata": {
    "scrolled": true
   },
   "outputs": [
    {
     "name": "stdout",
     "output_type": "stream",
     "text": [
      "feijao\n",
      "arroz\n"
     ]
    }
   ],
   "source": [
    "for item in itens_2:\n",
    "    \n",
    "    print(item)"
   ]
  },
  {
   "cell_type": "code",
   "execution_count": null,
   "metadata": {},
   "outputs": [
    {
     "name": "stdout",
     "output_type": "stream",
     "text": [
      "feijao\n",
      "arroz\n"
     ]
    }
   ],
   "source": [
    "for item in itens_2.keys():\n",
    "    \n",
    "    print(item)"
   ]
  },
  {
   "cell_type": "code",
   "execution_count": null,
   "metadata": {},
   "outputs": [
    {
     "name": "stdout",
     "output_type": "stream",
     "text": [
      "{'quantidade': 2, 'preco': 7.8}\n",
      "{'quantidade': 1, 'preco': 6.5}\n"
     ]
    }
   ],
   "source": [
    "for item in itens_2.values():\n",
    "    \n",
    "    print(item)"
   ]
  },
  {
   "cell_type": "code",
   "execution_count": null,
   "metadata": {},
   "outputs": [
    {
     "name": "stdout",
     "output_type": "stream",
     "text": [
      "('feijao', {'quantidade': 2, 'preco': 7.8})\n",
      "('arroz', {'quantidade': 1, 'preco': 6.5})\n"
     ]
    }
   ],
   "source": [
    "for item in itens_2.items():\n",
    "    \n",
    "    print(item)"
   ]
  },
  {
   "cell_type": "code",
   "execution_count": null,
   "metadata": {
    "scrolled": true
   },
   "outputs": [
    {
     "name": "stdout",
     "output_type": "stream",
     "text": [
      "chave:  feijao\n",
      "valor:  {'quantidade': 2, 'preco': 7.8}\n",
      "\n",
      "\n",
      "chave:  arroz\n",
      "valor:  {'quantidade': 1, 'preco': 6.5}\n",
      "\n",
      "\n"
     ]
    }
   ],
   "source": [
    "for key, value in itens_2.items():\n",
    "    \n",
    "    print('chave: ',key)\n",
    "    print('valor: ',value)\n",
    "    print('\\n')"
   ]
  },
  {
   "cell_type": "code",
   "execution_count": null,
   "metadata": {},
   "outputs": [
    {
     "ename": "TypeError",
     "evalue": "cannot unpack non-iterable int object",
     "output_type": "error",
     "traceback": [
      "\u001b[1;31m---------------------------------------------------------------------------\u001b[0m",
      "\u001b[1;31mTypeError\u001b[0m                                 Traceback (most recent call last)",
      "\u001b[1;32m<ipython-input-29-3a641d008f09>\u001b[0m in \u001b[0;36m<module>\u001b[1;34m\u001b[0m\n\u001b[0;32m      1\u001b[0m \u001b[0mlista\u001b[0m \u001b[1;33m=\u001b[0m \u001b[1;33m[\u001b[0m\u001b[1;36m1\u001b[0m\u001b[1;33m,\u001b[0m\u001b[1;36m2\u001b[0m\u001b[1;33m,\u001b[0m\u001b[1;36m3\u001b[0m\u001b[1;33m]\u001b[0m\u001b[1;33m\u001b[0m\u001b[1;33m\u001b[0m\u001b[0m\n\u001b[0;32m      2\u001b[0m \u001b[1;33m\u001b[0m\u001b[0m\n\u001b[1;32m----> 3\u001b[1;33m \u001b[1;32mfor\u001b[0m \u001b[0mx\u001b[0m\u001b[1;33m,\u001b[0m\u001b[0my\u001b[0m\u001b[1;33m,\u001b[0m\u001b[0mz\u001b[0m \u001b[1;32min\u001b[0m \u001b[0mlista\u001b[0m\u001b[1;33m:\u001b[0m\u001b[1;33m\u001b[0m\u001b[1;33m\u001b[0m\u001b[0m\n\u001b[0m\u001b[0;32m      4\u001b[0m     \u001b[0mprint\u001b[0m\u001b[1;33m(\u001b[0m\u001b[0mx\u001b[0m\u001b[1;33m)\u001b[0m\u001b[1;33m\u001b[0m\u001b[1;33m\u001b[0m\u001b[0m\n",
      "\u001b[1;31mTypeError\u001b[0m: cannot unpack non-iterable int object"
     ]
    }
   ],
   "source": [
    "lista = [1,2,3]\n",
    "\n",
    "for x,y,z in lista:\n",
    "    print(x)\n"
   ]
  },
  {
   "cell_type": "markdown",
   "metadata": {},
   "source": [
    "-----------------"
   ]
  },
  {
   "cell_type": "markdown",
   "metadata": {},
   "source": [
    "### Prática"
   ]
  },
  {
   "cell_type": "markdown",
   "metadata": {},
   "source": [
    "Coletei do site https://pokemondb.net/move/generation/1 alguns golpes de Pokemons e suas respectivas potências:"
   ]
  },
  {
   "cell_type": "code",
   "execution_count": 18,
   "metadata": {},
   "outputs": [],
   "source": [
    "pokemon_move_power = {\n",
    "    'ice beam': 90, \n",
    "    'thunderbolt': 90, \n",
    "    'thunder punch': 75, \n",
    "    'blizzard': 110, \n",
    "    'buble':40\n",
    "    }"
   ]
  },
  {
   "cell_type": "markdown",
   "metadata": {},
   "source": [
    "Um pokemon deu a seguinte sequencia de golpes:"
   ]
  },
  {
   "cell_type": "code",
   "execution_count": 19,
   "metadata": {},
   "outputs": [],
   "source": [
    "golpes_dados = ['ice beam','blizzard','buble']"
   ]
  },
  {
   "cell_type": "markdown",
   "metadata": {},
   "source": [
    "Que tal traduzirmos os nomes dos golpes para a potência de cada golpe? Como podemos fazer isso usando o dicionário pokemon_move_power?"
   ]
  },
  {
   "cell_type": "code",
   "execution_count": 20,
   "metadata": {},
   "outputs": [
    {
     "name": "stdout",
     "output_type": "stream",
     "text": [
      "[90]\n",
      "[90, 110]\n",
      "[90, 110, 40]\n"
     ]
    }
   ],
   "source": [
    "golpes_potencias = list()\n",
    "\n",
    "for golpe in golpes_dados:\n",
    "    golpes_potencias.append(pokemon_move_power[golpe])\n",
    "    print(golpes_potencias)"
   ]
  },
  {
   "cell_type": "markdown",
   "metadata": {},
   "source": [
    "Outras referências:\n",
    "    \n",
    "<a href=https://www.w3schools.com/python/python_ref_dictionary.asp>w3schools - Dicionários <a>\n",
    "<p>\n",
    "<a href=https://realpython.com/python-dicts/>Real Python - Dicionários<a>\n",
    "<p>\n",
    "<a href=https://www.alura.com.br/artigos/trabalhando-com-o-dicionario-no-python>Alura - Trabalhando com Dicionários<a>    \n",
    "    "
   ]
  }
 ],
 "metadata": {
  "kernelspec": {
   "display_name": "Python 3",
   "language": "python",
   "name": "python3"
  },
  "language_info": {
   "codemirror_mode": {
    "name": "ipython",
    "version": 3
   },
   "file_extension": ".py",
   "mimetype": "text/x-python",
   "name": "python",
   "nbconvert_exporter": "python",
   "pygments_lexer": "ipython3",
   "version": "3.12.1"
  }
 },
 "nbformat": 4,
 "nbformat_minor": 4
}
