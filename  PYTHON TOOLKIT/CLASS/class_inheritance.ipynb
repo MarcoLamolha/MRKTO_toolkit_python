{
 "cells": [
  {
   "cell_type": "code",
   "execution_count": null,
   "metadata": {},
   "outputs": [],
   "source": [
    "class Animal:\n",
    "    def __init__(self, name, species):\n",
    "        self.name = name\n",
    "        self.species = species\n",
    "        \n",
    "    def make_sound(self):\n",
    "        pass\n",
    "\n",
    "class Dog(Animal):\n",
    "    def __init__(self, name, breed):\n",
    "        # Call the __init__() method of the parent class\n",
    "        super().__init__(name, species=\"Dog\") #super() is used to call the __init__() method of the parent class\n",
    "        self.breed = breed\n",
    "        \n",
    "    def make_sound(self):\n",
    "        return f\"{self.name} barks!\"\n",
    "\n",
    "class Cat(Animal):\n",
    "    def __init__(self, name, color):\n",
    "        super().__init__(name, species=\"Cat\")\n",
    "        self.color = color\n",
    "        \n",
    "    def make_sound(self):\n",
    "        return f\"{self.name} meows!\"\n",
    "\n",
    "# Using inheritance\n",
    "animal = Animal(\"Generic\", \"Animal\")\n",
    "dog = Dog(\"Rex\", \"German Shepherd\")\n",
    "cat = Cat(\"Whiskers\", \"Orange\")\n",
    "\n",
    "print(animal.make_sound()) # Output: None\n",
    "print(dog.make_sound())  # Output: Rex barks!\n",
    "print(cat.make_sound())  # Output: Whiskers meows!\n",
    "\n",
    "print(animal.breed) # AttributeError: 'Animal' object has no attribute 'breed'\n",
    "print(cat.color) # Output: Orange\n",
    "print(dog.breed) # Output: Dog\n",
    "print(cat.species) # Output: Cat\n"
   ]
  }
 ],
 "metadata": {
  "kernelspec": {
   "display_name": "Python 3",
   "language": "python",
   "name": "python3"
  },
  "language_info": {
   "codemirror_mode": {
    "name": "ipython",
    "version": 3
   },
   "file_extension": ".py",
   "mimetype": "text/x-python",
   "name": "python",
   "nbconvert_exporter": "python",
   "pygments_lexer": "ipython3",
   "version": "3.12.6"
  }
 },
 "nbformat": 4,
 "nbformat_minor": 2
}
