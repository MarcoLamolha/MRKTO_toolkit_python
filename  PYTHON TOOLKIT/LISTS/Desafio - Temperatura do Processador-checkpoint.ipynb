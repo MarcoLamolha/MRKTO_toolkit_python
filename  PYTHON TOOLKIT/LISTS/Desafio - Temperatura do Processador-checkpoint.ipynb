{
 "cells": [
  {
   "cell_type": "markdown",
   "id": "cosmetic-distance",
   "metadata": {},
   "source": [
    "## Temperatura do Processador\n",
    "\n",
    "Temos um sensor de temperatura no processador do servidor da nossa empresa. Queremos analisar os dados fornecidos para determinar se devemos trocar o sistema de refrigeração por um melhor. O sistema de refrigeração é caro e, como analistas de dados, não podemos tomar decisões sem base.\n",
    "\n",
    "Fornecemos as temperaturas medidas ao longo das 24 horas de um dia em uma estrutura de dados do tipo lista composta de 24 inteiros:\n",
    "\n"
   ]
  },
  {
   "cell_type": "code",
   "execution_count": 1,
   "id": "southeast-front",
   "metadata": {},
   "outputs": [],
   "source": [
    "temperaturas_C = [33,66,65,0,59,60,62,64,70,76,80,69,80,83,68,79,61,53,50,49,53,48,45,39]"
   ]
  },
  {
   "cell_type": "markdown",
   "id": "accredited-union",
   "metadata": {},
   "source": [
    "## Objetivos\n",
    "\n",
    "1. Tratamento de listas\n",
    "2. Uso de loop ou list comprenhention\n",
    "3. Cálculo da média, mínimo e máximo.\n",
    "4. Filtragem de listas.\n",
    "5. Interpolar um outlier.\n",
    "6. Operadores lógicos.\n",
    "7. Imprimir"
   ]
  },
  {
   "cell_type": "markdown",
   "id": "stylish-hollow",
   "metadata": {},
   "source": [
    "## Gráfico de temperatura\n",
    "Para facilitar a compreensão, o gráfico de temperatura é mostrado abaixo. Você não precisa fazer nada nesta seção. O teste começa em ** Problema **. "
   ]
  },
  {
   "cell_type": "code",
   "execution_count": null,
   "id": "ancient-glucose",
   "metadata": {},
   "outputs": [],
   "source": [
    "# Instalando a biblioteca gráfica matplotlib:"
   ]
  },
  {
   "cell_type": "code",
   "execution_count": 2,
   "id": "selected-basketball",
   "metadata": {},
   "outputs": [
    {
     "name": "stdout",
     "output_type": "stream",
     "text": [
      "Requirement already satisfied: matplotlib in c:\\users\\lucas\\appdata\\local\\programs\\python\\python39\\lib\\site-packages (3.3.4)\n",
      "Requirement already satisfied: python-dateutil>=2.1 in c:\\users\\lucas\\appdata\\local\\programs\\python\\python39\\lib\\site-packages (from matplotlib) (2.8.1)\n",
      "Requirement already satisfied: pillow>=6.2.0 in c:\\users\\lucas\\appdata\\local\\programs\\python\\python39\\lib\\site-packages (from matplotlib) (8.1.2)\n",
      "Requirement already satisfied: pyparsing!=2.0.4,!=2.1.2,!=2.1.6,>=2.0.3 in c:\\users\\lucas\\appdata\\local\\programs\\python\\python39\\lib\\site-packages (from matplotlib) (2.4.7)\n",
      "Requirement already satisfied: kiwisolver>=1.0.1 in c:\\users\\lucas\\appdata\\local\\programs\\python\\python39\\lib\\site-packages (from matplotlib) (1.3.1)\n",
      "Requirement already satisfied: cycler>=0.10 in c:\\users\\lucas\\appdata\\local\\programs\\python\\python39\\lib\\site-packages (from matplotlib) (0.10.0)\n",
      "Requirement already satisfied: numpy>=1.15 in c:\\users\\lucas\\appdata\\local\\programs\\python\\python39\\lib\\site-packages (from matplotlib) (1.20.1)\n",
      "Requirement already satisfied: six in c:\\users\\lucas\\appdata\\local\\programs\\python\\python39\\lib\\site-packages (from cycler>=0.10->matplotlib) (1.15.0)\n"
     ]
    }
   ],
   "source": [
    "!pip install matplotlib"
   ]
  },
  {
   "cell_type": "code",
   "execution_count": 3,
   "id": "polished-setting",
   "metadata": {},
   "outputs": [
    {
     "data": {
      "text/plain": [
       "Text(0.5, 1.0, 'Temperaturas do servidor ao longo do dia')"
      ]
     },
     "execution_count": 3,
     "metadata": {},
     "output_type": "execute_result"
    },
    {
     "data": {
      "image/png": "[encoded data removed]",
      "text/plain": [
       "<Figure size 432x288 with 1 Axes>"
      ]
     },
     "metadata": {
      "needs_background": "light"
     },
     "output_type": "display_data"
    }
   ],
   "source": [
    "# import\n",
    "import matplotlib.pyplot as plt\n",
    "%matplotlib inline\n",
    "\n",
    "# axis x, axis y\n",
    "y = [33,66,65,0,59,60,62,64,70,76,80,81,80,83,90,79,61,53,50,49,53,48,45,39]\n",
    "x = list(range(len(y)))\n",
    "\n",
    "# plot\n",
    "plt.plot(x, y)\n",
    "plt.axhline(y=70, linewidth=1, color='r')\n",
    "plt.xlabel('horas')\n",
    "plt.ylabel('Temperatura ºC')\n",
    "plt.title('Temperaturas do servidor ao longo do dia')"
   ]
  },
  {
   "cell_type": "markdown",
   "id": "arbitrary-logging",
   "metadata": {},
   "source": [
    "## Problema\n",
    "\n",
    "Se o sensor detectar mais de 4 horas com temperaturas maiores ou iguais a 70ºC ou qualquer temperatura acima de 80ºC ou a média ultrapassar 65ºC ao longo do dia, devemos dar ordem de troca do sistema de refrigeração para evitar danos ao processador.\n",
    "\n",
    "Iremos guiá-lo passo a passo para que possa tomar a decisão calculando algumas etapas intermediárias:\n",
    "\n",
    "1. Temperatura mínima\n",
    "2. Temperatura máxima\n",
    "3. Temperaturas iguais ou superiores a 70ºC\n",
    "4. Temperaturas médias ao longo do dia.\n",
    "5. Bônus 1: Se houvesse uma falha de sensor às 03:00 e não capturássemos os dados, como você estimaria o valor que nos falta? Corrija esse valor na lista de temperaturas. Dica: <a href=https://pt.wikipedia.org/wiki/Interpola%C3%A7%C3%A3o_linear> Interpolação Linear</a>\n",
    "6. Bônus 2: Nossa equipe de manutenção é dos Estados Unidos e não entende o sistema métrico internacional. Passe as temperaturas para graus Fahrenheit.\n",
    "\n",
    "Fórmula: F = 1,8 * C + 32\n",
    "\n",
    "web: https://en.wikipedia.org/wiki/Conversion_of_units_of_temperature"
   ]
  },
  {
   "cell_type": "code",
   "execution_count": null,
   "id": "progressive-bookmark",
   "metadata": {},
   "outputs": [],
   "source": []
  },
  {
   "cell_type": "code",
   "execution_count": null,
   "id": "concerned-collins",
   "metadata": {},
   "outputs": [],
   "source": []
  },
  {
   "cell_type": "code",
   "execution_count": null,
   "id": "allied-bryan",
   "metadata": {},
   "outputs": [],
   "source": []
  },
  {
   "cell_type": "markdown",
   "id": "corporate-payday",
   "metadata": {},
   "source": [
    "## Tome a decisão\n",
    "Lembre-se que se o sensor detectar mais de 4 horas com temperaturas maiores ou iguais a 70ºC ou qualquer temperatura maior que 80ºC ou a média foi maior que 65ºC ao longo do dia, devemos dar ordem de troca do sistema de refrigeração para evitar o perigo de danificar o equipamento:\n",
    "* mais de 4 horas com temperaturas maiores ou iguais a 70ºC\n",
    "* alguma temperatura superior a 80ºC\n",
    "* média foi superior a 65ºC ao longo do dia\n",
    "Se algum desses três for atendido, o sistema de resfriamento deve ser trocado."
   ]
  },
  {
   "cell_type": "code",
   "execution_count": null,
   "id": "arranged-disposal",
   "metadata": {},
   "outputs": [],
   "source": []
  },
  {
   "cell_type": "code",
   "execution_count": null,
   "id": "shaped-rachel",
   "metadata": {},
   "outputs": [],
   "source": []
  },
  {
   "cell_type": "code",
   "execution_count": null,
   "id": "reflected-israel",
   "metadata": {},
   "outputs": [],
   "source": []
  },
  {
   "cell_type": "code",
   "execution_count": null,
   "id": "decent-ordinary",
   "metadata": {},
   "outputs": [],
   "source": []
  },
  {
   "cell_type": "markdown",
   "id": "waiting-inspiration",
   "metadata": {},
   "source": [
    "## Melhorias futuras\n",
    "1. Queremos as horas (não as temperaturas) cuja temperatura exceda 70ºC\n",
    "2. Condicionar que essas horas sejam mais de 4 consecutivas, não simplesmente a soma de todo o conjunto. Esta condição é atendida?\n",
    "3. Média de cada uma das listas (ºC e ºF). Como eles se relacionam?\n",
    "4. Desvio padrão de cada uma das listas. Como eles se relacionam?"
   ]
  },
  {
   "cell_type": "code",
   "execution_count": null,
   "id": "tight-electron",
   "metadata": {},
   "outputs": [],
   "source": []
  }
 ],
 "metadata": {
  "kernelspec": {
   "display_name": "Python 3",
   "language": "python",
   "name": "python3"
  },
  "language_info": {
   "codemirror_mode": {
    "name": "ipython",
    "version": 3
   },
   "file_extension": ".py",
   "mimetype": "text/x-python",
   "name": "python",
   "nbconvert_exporter": "python",
   "pygments_lexer": "ipython3",
   "version": "3.9.2"
  }
 },
 "nbformat": 4,
 "nbformat_minor": 5
}
