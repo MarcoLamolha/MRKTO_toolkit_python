{
 "cells": [
  {
   "cell_type": "markdown",
   "id": "drawn-twist",
   "metadata": {},
   "source": [
    "# Listas - Exercícios"
   ]
  },
  {
   "cell_type": "markdown",
   "id": "gentle-hybrid",
   "metadata": {},
   "source": [
    "### Seleção de Elementos de uma lista"
   ]
  },
  {
   "cell_type": "markdown",
   "id": "earned-marsh",
   "metadata": {},
   "source": [
    "#### 1) Crie uma lista chamada \"skills\", com as seguintes habilidades coletadas do <a href=https://business.linkedin.com/talent-solutions/blog/trends-and-research/2020/most-in-demand-hard-and-soft-skills>LinkedIn</a>: \"Creativity\", \"Persuasion\", \"Collaboration\", \"Adaptability\", \"Emotional intelligence\", \"Blockchain\", \"Cloud computing\", \"Anaytical reasoning\", \"Artificial intelligence\", \"UX design\", \"Business analysis\", \"Affiliate marketing\", \"Sales\", \"Scientific computing\" e  \"Video production\"."
   ]
  },
  {
   "cell_type": "code",
   "execution_count": 2,
   "id": "upset-solomon",
   "metadata": {},
   "outputs": [],
   "source": [
    "skills = [\"Creativity\", \"Persuasion\", \"Collaboration\", \"Adaptability\", \"Emotional intelligence\", \"Blockchain\", \"Cloud computing\", \"Anaytical reasoning\", \"Artificial intelligence\", \"UX design\", \"Business analysis\", \"Affiliate marketing\", \"Sales\", \"Scientific computing\", \"Video production\"]"
   ]
  },
  {
   "cell_type": "markdown",
   "id": "experimental-finance",
   "metadata": {},
   "source": [
    "#### 2) Quantos elementos tem esta lista?"
   ]
  },
  {
   "cell_type": "code",
   "execution_count": 3,
   "id": "confidential-charles",
   "metadata": {
    "scrolled": false
   },
   "outputs": [
    {
     "data": {
      "text/plain": [
       "15"
      ]
     },
     "execution_count": 3,
     "metadata": {},
     "output_type": "execute_result"
    }
   ],
   "source": [
    "len(skills)"
   ]
  },
  {
   "cell_type": "markdown",
   "id": "smaller-sally",
   "metadata": {},
   "source": [
    "#### 3) Selecione o primeiro elemento da lista. Lembre que em Python os índices começam do 0."
   ]
  },
  {
   "cell_type": "code",
   "execution_count": 4,
   "id": "flush-meeting",
   "metadata": {},
   "outputs": [
    {
     "data": {
      "text/plain": [
       "'Creativity'"
      ]
     },
     "execution_count": 4,
     "metadata": {},
     "output_type": "execute_result"
    }
   ],
   "source": [
    "skills[0]"
   ]
  },
  {
   "cell_type": "markdown",
   "id": "partial-stereo",
   "metadata": {},
   "source": [
    "#### 4) Selecione o quinto elemento da lista. "
   ]
  },
  {
   "cell_type": "code",
   "execution_count": 5,
   "id": "retired-charleston",
   "metadata": {},
   "outputs": [
    {
     "data": {
      "text/plain": [
       "'Emotional intelligence'"
      ]
     },
     "execution_count": 5,
     "metadata": {},
     "output_type": "execute_result"
    }
   ],
   "source": [
    "skills[4] # Lembre que em Python o primeiro elemento da lista tem indice 0, portanto o quinto tem índice 4"
   ]
  },
  {
   "cell_type": "markdown",
   "id": "electrical-flavor",
   "metadata": {},
   "source": [
    "#### 5) Selecione o pedaço da lista que vai do terceiro elemento até o décimo elemento (inclusive)."
   ]
  },
  {
   "cell_type": "code",
   "execution_count": 6,
   "id": "advised-thompson",
   "metadata": {
    "scrolled": true
   },
   "outputs": [
    {
     "data": {
      "text/plain": [
       "['Collaboration',\n",
       " 'Adaptability',\n",
       " 'Emotional intelligence',\n",
       " 'Blockchain',\n",
       " 'Cloud computing',\n",
       " 'Anaytical reasoning',\n",
       " 'Artificial intelligence',\n",
       " 'UX design']"
      ]
     },
     "execution_count": 6,
     "metadata": {},
     "output_type": "execute_result"
    }
   ],
   "source": [
    "skills[2:10]"
   ]
  },
  {
   "cell_type": "markdown",
   "id": "saved-building",
   "metadata": {},
   "source": [
    "#### 6) Selecione o último elemento elemento da lista."
   ]
  },
  {
   "cell_type": "markdown",
   "id": "radical-reputation",
   "metadata": {},
   "source": [
    "Solução 1:"
   ]
  },
  {
   "cell_type": "code",
   "execution_count": 7,
   "id": "portuguese-ivory",
   "metadata": {},
   "outputs": [
    {
     "data": {
      "text/plain": [
       "'Video production'"
      ]
     },
     "execution_count": 7,
     "metadata": {},
     "output_type": "execute_result"
    }
   ],
   "source": [
    "skills[-1]"
   ]
  },
  {
   "cell_type": "markdown",
   "id": "obvious-district",
   "metadata": {},
   "source": [
    "Solução 2:"
   ]
  },
  {
   "cell_type": "code",
   "execution_count": 8,
   "id": "terminal-fiction",
   "metadata": {},
   "outputs": [
    {
     "data": {
      "text/plain": [
       "'Video production'"
      ]
     },
     "execution_count": 8,
     "metadata": {},
     "output_type": "execute_result"
    }
   ],
   "source": [
    "skills[len(skills)-1] # último índice = número de elementos de skill -1 (já que o primeiro índice é 0)"
   ]
  },
  {
   "cell_type": "markdown",
   "id": "knowing-feedback",
   "metadata": {},
   "source": [
    "### Métodos de Listas"
   ]
  },
  {
   "cell_type": "markdown",
   "id": "defined-aaron",
   "metadata": {},
   "source": [
    "#### 7) Usando o método append, acrescente as seguintes habilidades à lista skill: \"Python Programming\" e \"Data Analytics\"."
   ]
  },
  {
   "cell_type": "markdown",
   "id": "controlling-universal",
   "metadata": {},
   "source": [
    "#### Solução 1:"
   ]
  },
  {
   "cell_type": "code",
   "execution_count": 9,
   "id": "supposed-beaver",
   "metadata": {},
   "outputs": [],
   "source": [
    "skills.append(\"Python Programming\")\n",
    "skills.append(\"Data Analytics\")"
   ]
  },
  {
   "cell_type": "code",
   "execution_count": 10,
   "id": "equivalent-round",
   "metadata": {},
   "outputs": [
    {
     "data": {
      "text/plain": [
       "['Creativity',\n",
       " 'Persuasion',\n",
       " 'Collaboration',\n",
       " 'Adaptability',\n",
       " 'Emotional intelligence',\n",
       " 'Blockchain',\n",
       " 'Cloud computing',\n",
       " 'Anaytical reasoning',\n",
       " 'Artificial intelligence',\n",
       " 'UX design',\n",
       " 'Business analysis',\n",
       " 'Affiliate marketing',\n",
       " 'Sales',\n",
       " 'Scientific computing',\n",
       " 'Video production',\n",
       " 'Python Programming',\n",
       " 'Data Analytics']"
      ]
     },
     "execution_count": 10,
     "metadata": {},
     "output_type": "execute_result"
    }
   ],
   "source": [
    "skills"
   ]
  },
  {
   "cell_type": "markdown",
   "id": "outside-daughter",
   "metadata": {},
   "source": [
    "Agora vou voltar à forma original de skills para demonstrar outro jeito:"
   ]
  },
  {
   "cell_type": "code",
   "execution_count": 11,
   "id": "civic-botswana",
   "metadata": {},
   "outputs": [],
   "source": [
    "skills_original = [\"Creativity\", \"Persuasion\", \"Collaboration\", \"Adaptability\", \"Emotional intelligence\", \"Blockchain\", \"Cloud computing\", \"Anaytical reasoning\", \"Artificial intelligence\", \"UX design\", \"Business analysis\", \"Affiliate marketing\", \"Sales\", \"Scientific computing\", \"Video production\"]"
   ]
  },
  {
   "cell_type": "code",
   "execution_count": 12,
   "id": "minute-adaptation",
   "metadata": {},
   "outputs": [],
   "source": [
    "skills = skills_original.copy()"
   ]
  },
  {
   "cell_type": "markdown",
   "id": "professional-azerbaijan",
   "metadata": {},
   "source": [
    "####  Solução 2:"
   ]
  },
  {
   "cell_type": "code",
   "execution_count": 13,
   "id": "excited-crash",
   "metadata": {},
   "outputs": [],
   "source": [
    "skills.extend([\"Python Programming\",\"Data Analytics\"])"
   ]
  },
  {
   "cell_type": "code",
   "execution_count": 14,
   "id": "loving-combat",
   "metadata": {},
   "outputs": [
    {
     "data": {
      "text/plain": [
       "['Creativity',\n",
       " 'Persuasion',\n",
       " 'Collaboration',\n",
       " 'Adaptability',\n",
       " 'Emotional intelligence',\n",
       " 'Blockchain',\n",
       " 'Cloud computing',\n",
       " 'Anaytical reasoning',\n",
       " 'Artificial intelligence',\n",
       " 'UX design',\n",
       " 'Business analysis',\n",
       " 'Affiliate marketing',\n",
       " 'Sales',\n",
       " 'Scientific computing',\n",
       " 'Video production',\n",
       " 'Python Programming',\n",
       " 'Data Analytics']"
      ]
     },
     "execution_count": 14,
     "metadata": {},
     "output_type": "execute_result"
    }
   ],
   "source": [
    "skills"
   ]
  },
  {
   "cell_type": "code",
   "execution_count": 15,
   "id": "economic-flour",
   "metadata": {},
   "outputs": [],
   "source": [
    "skills = skills_original.copy() # Voltando mais uma vez para a formação original"
   ]
  },
  {
   "cell_type": "code",
   "execution_count": 16,
   "id": "mineral-psychology",
   "metadata": {},
   "outputs": [
    {
     "data": {
      "text/plain": [
       "['Creativity',\n",
       " 'Persuasion',\n",
       " 'Collaboration',\n",
       " 'Adaptability',\n",
       " 'Emotional intelligence',\n",
       " 'Blockchain',\n",
       " 'Cloud computing',\n",
       " 'Anaytical reasoning',\n",
       " 'Artificial intelligence',\n",
       " 'UX design',\n",
       " 'Business analysis',\n",
       " 'Affiliate marketing',\n",
       " 'Sales',\n",
       " 'Scientific computing',\n",
       " 'Video production']"
      ]
     },
     "execution_count": 16,
     "metadata": {},
     "output_type": "execute_result"
    }
   ],
   "source": [
    "skills"
   ]
  },
  {
   "cell_type": "markdown",
   "id": "weighted-player",
   "metadata": {},
   "source": [
    "#### Solução 3:"
   ]
  },
  {
   "cell_type": "code",
   "execution_count": 17,
   "id": "infectious-devil",
   "metadata": {},
   "outputs": [],
   "source": [
    "for item in [\"Python Programming\",\"Data Analytics\"]:\n",
    "    \n",
    "    skills.append(item)"
   ]
  },
  {
   "cell_type": "code",
   "execution_count": 18,
   "id": "cathedral-marina",
   "metadata": {},
   "outputs": [
    {
     "data": {
      "text/plain": [
       "['Creativity',\n",
       " 'Persuasion',\n",
       " 'Collaboration',\n",
       " 'Adaptability',\n",
       " 'Emotional intelligence',\n",
       " 'Blockchain',\n",
       " 'Cloud computing',\n",
       " 'Anaytical reasoning',\n",
       " 'Artificial intelligence',\n",
       " 'UX design',\n",
       " 'Business analysis',\n",
       " 'Affiliate marketing',\n",
       " 'Sales',\n",
       " 'Scientific computing',\n",
       " 'Video production',\n",
       " 'Python Programming',\n",
       " 'Data Analytics']"
      ]
     },
     "execution_count": 18,
     "metadata": {},
     "output_type": "execute_result"
    }
   ],
   "source": [
    "skills"
   ]
  },
  {
   "cell_type": "markdown",
   "id": "accomplished-security",
   "metadata": {},
   "source": [
    "#### 8) Através do método index, encontre o índice do item 'Blockchain':"
   ]
  },
  {
   "cell_type": "code",
   "execution_count": 19,
   "id": "restricted-cardiff",
   "metadata": {},
   "outputs": [
    {
     "data": {
      "text/plain": [
       "5"
      ]
     },
     "execution_count": 19,
     "metadata": {},
     "output_type": "execute_result"
    }
   ],
   "source": [
    "skills.index('Blockchain')"
   ]
  },
  {
   "cell_type": "markdown",
   "id": "residential-inquiry",
   "metadata": {},
   "source": [
    "#### 9) Troque o item do índice descoberto no ítem anterior pelo seguinte item: \"Data Science\""
   ]
  },
  {
   "cell_type": "code",
   "execution_count": 20,
   "id": "lasting-favorite",
   "metadata": {},
   "outputs": [],
   "source": [
    "skills[5] = 'Data Science'"
   ]
  },
  {
   "cell_type": "code",
   "execution_count": 21,
   "id": "silent-savannah",
   "metadata": {},
   "outputs": [
    {
     "data": {
      "text/plain": [
       "'Data Science'"
      ]
     },
     "execution_count": 21,
     "metadata": {},
     "output_type": "execute_result"
    }
   ],
   "source": [
    "skills[5]"
   ]
  },
  {
   "cell_type": "markdown",
   "id": "iraqi-nicholas",
   "metadata": {},
   "source": [
    "#### 10) Através do método pop, consiga o último valor da lista ao mesmo tempo em que este valor é removido da lista:"
   ]
  },
  {
   "cell_type": "code",
   "execution_count": 22,
   "id": "regional-numbers",
   "metadata": {},
   "outputs": [
    {
     "data": {
      "text/plain": [
       "'Data Analytics'"
      ]
     },
     "execution_count": 22,
     "metadata": {},
     "output_type": "execute_result"
    }
   ],
   "source": [
    "skills.pop()"
   ]
  },
  {
   "cell_type": "markdown",
   "id": "medieval-linux",
   "metadata": {},
   "source": [
    "#### 11) Explore outros métodos de listas: <a heref=https://www.w3schools.com/python/python_ref_list.asp> métodos de lista </a>\n",
    "\n",
    "É interessante saber que as listas têm diversos métodos e saber como encontrá-los caso seja necessário. Na prática poucos farão parte de seu dia a dia. Então, desde já, acostume-se a procurar informações no Google, Stack Overflow, fóruns e todos os lugares em que seja possível trocar informações sobre programação Python."
   ]
  },
  {
   "cell_type": "markdown",
   "id": "atomic-swaziland",
   "metadata": {},
   "source": [
    "### Iterar usando Listas"
   ]
  },
  {
   "cell_type": "markdown",
   "id": "referenced-greek",
   "metadata": {},
   "source": [
    "#### 12) Para cada elemento da lista skills imprima o elemento acrescido do texto \" é uma skill\". Em algum momento teríamos \"Vídeo production é uma skill\""
   ]
  },
  {
   "cell_type": "code",
   "execution_count": 30,
   "id": "important-effort",
   "metadata": {},
   "outputs": [
    {
     "name": "stdout",
     "output_type": "stream",
     "text": [
      "Creativity é uma skill\n",
      "Persuasion é uma skill\n",
      "Collaboration é uma skill\n",
      "Adaptability é uma skill\n",
      "Emotional intelligence é uma skill\n",
      "Data Science é uma skill\n",
      "Cloud computing é uma skill\n",
      "Anaytical reasoning é uma skill\n",
      "Artificial intelligence é uma skill\n",
      "UX design é uma skill\n",
      "Business analysis é uma skill\n",
      "Affiliate marketing é uma skill\n",
      "Sales é uma skill\n",
      "Scientific computing é uma skill\n",
      "Video production é uma skill\n",
      "Python Programming é uma skill\n"
     ]
    }
   ],
   "source": [
    "for item in skills:\n",
    "    print(item,'é uma skill')"
   ]
  },
  {
   "cell_type": "markdown",
   "id": "periodic-desire",
   "metadata": {},
   "source": [
    "### List Comprehension"
   ]
  },
  {
   "cell_type": "code",
   "execution_count": 24,
   "id": "crazy-stephen",
   "metadata": {},
   "outputs": [],
   "source": [
    "numeros = [10, 20, 3, 4, 7, 9, 11, 14, 13]"
   ]
  },
  {
   "cell_type": "markdown",
   "id": "executive-dealing",
   "metadata": {},
   "source": [
    "#### 13) Use List Comprehension para criar uma lista que tenha o triplo de cada elemento da lista numeros:"
   ]
  },
  {
   "cell_type": "code",
   "execution_count": 25,
   "id": "tough-advertiser",
   "metadata": {},
   "outputs": [
    {
     "data": {
      "text/plain": [
       "[30, 60, 9, 12, 21, 27, 33, 42, 39]"
      ]
     },
     "execution_count": 25,
     "metadata": {},
     "output_type": "execute_result"
    }
   ],
   "source": [
    "[item*3 for item in numeros]"
   ]
  },
  {
   "cell_type": "markdown",
   "id": "comprehensive-neighborhood",
   "metadata": {},
   "source": [
    "#### Desafio: "
   ]
  },
  {
   "cell_type": "markdown",
   "id": "tired-watson",
   "metadata": {},
   "source": [
    "#### 14) Usando List Comprehension, crie uma lista apenas com os elementos pares da lista numeros:"
   ]
  },
  {
   "cell_type": "code",
   "execution_count": 26,
   "id": "formal-colony",
   "metadata": {},
   "outputs": [
    {
     "data": {
      "text/plain": [
       "[10, 20, 4, 14]"
      ]
     },
     "execution_count": 26,
     "metadata": {},
     "output_type": "execute_result"
    }
   ],
   "source": [
    "[item for item in numeros if item%2==0]"
   ]
  },
  {
   "cell_type": "markdown",
   "id": "returning-patch",
   "metadata": {},
   "source": [
    "#### 15) Usando List Comprehension, crie uma lista apenas com os elementos ímpares da lista numeros:"
   ]
  },
  {
   "cell_type": "code",
   "execution_count": 27,
   "id": "dramatic-adapter",
   "metadata": {},
   "outputs": [
    {
     "data": {
      "text/plain": [
       "[3, 7, 9, 11, 13]"
      ]
     },
     "execution_count": 27,
     "metadata": {},
     "output_type": "execute_result"
    }
   ],
   "source": [
    "[item for item in numeros if item%2==1]"
   ]
  }
 ],
 "metadata": {
  "kernelspec": {
   "display_name": "Python 3",
   "language": "python",
   "name": "python3"
  },
  "language_info": {
   "codemirror_mode": {
    "name": "ipython",
    "version": 3
   },
   "file_extension": ".py",
   "mimetype": "text/x-python",
   "name": "python",
   "nbconvert_exporter": "python",
   "pygments_lexer": "ipython3",
   "version": "3.12.1"
  }
 },
 "nbformat": 4,
 "nbformat_minor": 5
}
