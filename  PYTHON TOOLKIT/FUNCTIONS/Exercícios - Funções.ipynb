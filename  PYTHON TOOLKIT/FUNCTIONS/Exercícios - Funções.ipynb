{
 "cells": [
  {
   "cell_type": "markdown",
   "id": "assumed-jacksonville",
   "metadata": {},
   "source": [
    "# Exercícios - Funções"
   ]
  },
  {
   "cell_type": "markdown",
   "id": "entitled-sailing",
   "metadata": {},
   "source": [
    "Qual o mínimo de parâmetros que uma função pode ter?"
   ]
  },
  {
   "cell_type": "code",
   "execution_count": null,
   "id": "executive-trade",
   "metadata": {},
   "outputs": [],
   "source": []
  },
  {
   "cell_type": "markdown",
   "id": "static-payroll",
   "metadata": {},
   "source": [
    "Qual o mínimo de retornos (outputs) que uma função pode ter?"
   ]
  },
  {
   "cell_type": "code",
   "execution_count": null,
   "id": "trying-scottish",
   "metadata": {},
   "outputs": [],
   "source": []
  },
  {
   "cell_type": "markdown",
   "id": "consecutive-cooling",
   "metadata": {},
   "source": [
    "O que são variáveis locais e globais?"
   ]
  },
  {
   "cell_type": "code",
   "execution_count": null,
   "id": "prepared-washington",
   "metadata": {},
   "outputs": [],
   "source": []
  },
  {
   "cell_type": "markdown",
   "id": "terminal-breathing",
   "metadata": {},
   "source": [
    "### Ex\n",
    "Crie uma função capaz de receber um texto e devolver uma nova versão deste texto, com todas as letras minúsculas, tendo substituído pontos ('.','?','!') e vírgulas (',') por espaço em branco ' '."
   ]
  },
  {
   "cell_type": "code",
   "execution_count": null,
   "id": "nonprofit-tours",
   "metadata": {},
   "outputs": [],
   "source": []
  },
  {
   "cell_type": "code",
   "execution_count": null,
   "id": "israeli-typing",
   "metadata": {},
   "outputs": [],
   "source": []
  },
  {
   "cell_type": "markdown",
   "id": "saved-pioneer",
   "metadata": {},
   "source": [
    "### Ex\n",
    "Crie uma função capaz de receber uma lista de números como seu argumento. A função devolverá de uma vez os valores máximo, mínimo e a soma de valores dos números da lista."
   ]
  },
  {
   "cell_type": "code",
   "execution_count": null,
   "id": "graduate-watch",
   "metadata": {},
   "outputs": [],
   "source": []
  },
  {
   "cell_type": "code",
   "execution_count": null,
   "id": "shaped-airfare",
   "metadata": {},
   "outputs": [],
   "source": []
  },
  {
   "cell_type": "markdown",
   "id": "sunrise-increase",
   "metadata": {},
   "source": [
    "### Ex\n",
    "Crie uma função que pergunte para o usuário seu nome, sobrenome e idade, armazene estas informações em um dicionário e retorne este dicionário."
   ]
  },
  {
   "cell_type": "code",
   "execution_count": 1,
   "id": "offensive-capitol",
   "metadata": {},
   "outputs": [],
   "source": []
  },
  {
   "cell_type": "code",
   "execution_count": null,
   "id": "brief-wages",
   "metadata": {},
   "outputs": [],
   "source": []
  },
  {
   "cell_type": "markdown",
   "id": "frozen-application",
   "metadata": {},
   "source": [
    "### Ex:\n",
    "Leia sobre a função <a href=https://wiki.portugal-a-programar.pt/dev_geral:python:map>map</a>. A partir da lista [0,3,5,4,9], usando o map, crie uma nova lista com o quadrado de cada valor original."
   ]
  },
  {
   "cell_type": "code",
   "execution_count": null,
   "id": "heard-terror",
   "metadata": {},
   "outputs": [],
   "source": []
  },
  {
   "cell_type": "code",
   "execution_count": null,
   "id": "metric-lobby",
   "metadata": {},
   "outputs": [],
   "source": []
  }
 ],
 "metadata": {
  "kernelspec": {
   "display_name": "Python 3",
   "language": "python",
   "name": "python3"
  },
  "language_info": {
   "codemirror_mode": {
    "name": "ipython",
    "version": 3
   },
   "file_extension": ".py",
   "mimetype": "text/x-python",
   "name": "python",
   "nbconvert_exporter": "python",
   "pygments_lexer": "ipython3",
   "version": "3.9.2"
  }
 },
 "nbformat": 4,
 "nbformat_minor": 5
}
