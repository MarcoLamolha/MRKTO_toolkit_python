{
 "cells": [
  {
   "cell_type": "code",
   "execution_count": 9,
   "metadata": {},
   "outputs": [
    {
     "name": "stdout",
     "output_type": "stream",
     "text": [
      "Buddy says woof!\n",
      "Miles says woof!\n",
      "Buddy is 15 years old\n",
      "Miles is 4 years old\n",
      "Buddy says Woof Woof\n",
      "Miles says Woof Woof\n",
      "Canis familiaris\n",
      "Canis familiaris\n",
      "Canis familiaris\n",
      "Buddy\n",
      "4\n"
     ]
    }
   ],
   "source": [
    "class Dog:\n",
    "    # Class variable shared by all instances\n",
    "    # Class variables are defined outside of any methods\n",
    "    species = \"Canis familiaris\"\n",
    "\n",
    "    # Initializer __init__ method\n",
    "    # Instance attributes are defined in the __init__ method \n",
    "    def __init__(self, name, age): # name and age are parameters\n",
    "        self.name = name    # Instance variable\n",
    "        self.age = age      # Instance variable\n",
    "\n",
    "   # Instance methods are defined as functions inside a class\n",
    "    def bark(self):\n",
    "        return f\"{self.name} says woof!\"\n",
    "    def howOld(self):\n",
    "        return f\"{self.name} is {self.age} years old\"\n",
    "    def speak(self, sound):\n",
    "        return f\"{self.name} says {sound}\" #sound is a parameter\n",
    "\n",
    "# Instantiating objects\n",
    "dog_1 = Dog(\"Buddy\", 15)\n",
    "dog_2 = Dog(\"Miles\", 4)\n",
    "\n",
    "# Accessing instance variables and methods\n",
    "print(dog_1.bark())  # Output: Buddy says woof!\n",
    "print(dog_2.bark())  # Output: Miles says woof!\n",
    "print(dog_1.howOld())  # Output: Buddy is 15 years old\n",
    "print(dog_2.howOld())  # Output: Miles is 4 years old\n",
    "print(dog_1.speak(\"Woof Woof\"))  # Output: Buddy says Woof Woof\n",
    "print(dog_2.speak(\"Woof Woof\"))  # Output: Miles says Woof Woof\n",
    "\n",
    "print(Dog.species)  # Output: Canis familiaris\n",
    "print(dog_1.species)  # Output: Canis familiaris\n",
    "print(dog_2.species)  # Output: Canis familiaris\n",
    "\n",
    "print(dog_1.name)  # Output: Buddy\n",
    "print(dog_2.age)  # Output: 4"
   ]
  },
  {
   "cell_type": "code",
   "execution_count": 10,
   "metadata": {},
   "outputs": [
    {
     "name": "stdout",
     "output_type": "stream",
     "text": [
      "Felis catus\n"
     ]
    }
   ],
   "source": [
    "# Changing the class variable\n",
    "Dog.species = \"Felis catus\"\n",
    "print(Dog.species)  # Output: Felis catus\n"
   ]
  },
  {
   "cell_type": "code",
   "execution_count": 11,
   "metadata": {},
   "outputs": [],
   "source": [
    "dog_3 = Dog('Tablito',3)"
   ]
  },
  {
   "cell_type": "code",
   "execution_count": 12,
   "metadata": {},
   "outputs": [
    {
     "name": "stdout",
     "output_type": "stream",
     "text": [
      "Felis catus\n",
      "Felis catus\n"
     ]
    }
   ],
   "source": [
    "print(dog_3.species)\n",
    "print(dog_2.species)"
   ]
  },
  {
   "cell_type": "code",
   "execution_count": null,
   "metadata": {},
   "outputs": [],
   "source": []
  }
 ],
 "metadata": {
  "kernelspec": {
   "display_name": "Python 3",
   "language": "python",
   "name": "python3"
  },
  "language_info": {
   "codemirror_mode": {
    "name": "ipython",
    "version": 3
   },
   "file_extension": ".py",
   "mimetype": "text/x-python",
   "name": "python",
   "nbconvert_exporter": "python",
   "pygments_lexer": "ipython3",
   "version": "3.12.6"
  }
 },
 "nbformat": 4,
 "nbformat_minor": 2
}
