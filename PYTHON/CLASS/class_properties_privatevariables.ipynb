{
 "cells": [
  {
   "cell_type": "code",
   "execution_count": 5,
   "metadata": {},
   "outputs": [
    {
     "name": "stdout",
     "output_type": "stream",
     "text": [
      "1000\n",
      "1500\n"
     ]
    }
   ],
   "source": [
    "class BankAccount:\n",
    "    def __init__(self, owner, balance=0):\n",
    "        self._owner = owner      # Protected variable (convention) # _ is used to make the variable protected\n",
    "        self.__balance = balance # Private variable # __ is used to make the variable private\n",
    "\n",
    "    # Getter and setter for the private variable\n",
    "    # This is a more advanced way to create a property\n",
    "    # It is not necessary to use this method\n",
    "    # It is just to show that it is possible to do it this way\n",
    "    # The property decorator is used to create a read-only property\n",
    "    # The setter method is used to create a write-only property\n",
    "    # The deleter method is used to create a delete-only property\n",
    "        \n",
    "    @property\n",
    "    def balance(self):\n",
    "        return self.__balance\n",
    "        \n",
    "    @property\n",
    "    def owner(self):\n",
    "        return self._owner\n",
    "        \n",
    "    def deposit(self, amount):\n",
    "        if amount > 0:\n",
    "            self.__balance += amount\n",
    "            return True\n",
    "        return False\n",
    "        \n",
    "    def withdraw(self, amount):\n",
    "        if 0 < amount <= self.__balance:\n",
    "            self.__balance -= amount\n",
    "            return True\n",
    "        return False\n",
    "\n",
    "# Using the advanced class\n",
    "account = BankAccount(\"John Doe\", 1000)\n",
    "print(account.balance)  # Output: 1000\n",
    "account.deposit(500)  # This will raise an AttributeError\n",
    "print(account._BankAccount__balance)  # Output: 1500 # This is how you can access a private variable"
   ]
  },
  {
   "cell_type": "code",
   "execution_count": null,
   "metadata": {},
   "outputs": [],
   "source": []
  }
 ],
 "metadata": {
  "kernelspec": {
   "display_name": "Python 3",
   "language": "python",
   "name": "python3"
  },
  "language_info": {
   "codemirror_mode": {
    "name": "ipython",
    "version": 3
   },
   "file_extension": ".py",
   "mimetype": "text/x-python",
   "name": "python",
   "nbconvert_exporter": "python",
   "pygments_lexer": "ipython3",
   "version": "3.12.6"
  }
 },
 "nbformat": 4,
 "nbformat_minor": 2
}
