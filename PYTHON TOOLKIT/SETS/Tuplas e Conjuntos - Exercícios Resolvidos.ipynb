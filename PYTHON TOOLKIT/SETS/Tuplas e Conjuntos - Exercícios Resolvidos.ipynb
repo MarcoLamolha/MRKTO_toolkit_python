{
 "cells": [
  {
   "cell_type": "markdown",
   "id": "protecting-jerusalem",
   "metadata": {},
   "source": [
    "## Tuplas e Conjuntos - Exercícios"
   ]
  },
  {
   "cell_type": "markdown",
   "id": "decreased-survival",
   "metadata": {},
   "source": [
    "Qual a diferença entre uma tupla e uma lista?"
   ]
  },
  {
   "cell_type": "code",
   "execution_count": null,
   "id": "activated-iceland",
   "metadata": {},
   "outputs": [],
   "source": [
    "# Ao contrário da lista, uma tupla não pode ter ser alterada: \n",
    "# - não pode ser expandida com novos elementos, \n",
    "# - não pode ser reduzida com a deleção de elementos,\n",
    "# - não pode ter o valor de seus elementos alterados.\n",
    "# Quanto à forma:a tupla é um conjunto de valores contidos em parênteses e a lista é um conjunto de valores contidos em brakets."
   ]
  },
  {
   "cell_type": "markdown",
   "id": "mighty-tumor",
   "metadata": {},
   "source": [
    "Quais as semelhanças entre uma tupla e uma lista?"
   ]
  },
  {
   "cell_type": "code",
   "execution_count": null,
   "id": "cleared-essence",
   "metadata": {},
   "outputs": [],
   "source": [
    "# Ambos são sequencias de objetos separados por vírgulas. A forma de acessar cada um destes objetos através de seus índices é similar. "
   ]
  },
  {
   "cell_type": "markdown",
   "id": "fresh-antibody",
   "metadata": {},
   "source": [
    "Acesse o segundo elemento da tupla abaixo:"
   ]
  },
  {
   "cell_type": "code",
   "execution_count": 1,
   "id": "ruled-revelation",
   "metadata": {},
   "outputs": [],
   "source": [
    "minha_tupla = (20, 4, 6, 10)"
   ]
  },
  {
   "cell_type": "code",
   "execution_count": 2,
   "id": "competitive-condition",
   "metadata": {},
   "outputs": [
    {
     "data": {
      "text/plain": [
       "4"
      ]
     },
     "execution_count": 2,
     "metadata": {},
     "output_type": "execute_result"
    }
   ],
   "source": [
    "minha_tupla[1]"
   ]
  },
  {
   "cell_type": "markdown",
   "id": "hairy-involvement",
   "metadata": {},
   "source": [
    "Acesse uma fatia de minha_tupla: do segundo ao último elemento"
   ]
  },
  {
   "cell_type": "code",
   "execution_count": 3,
   "id": "abandoned-sunglasses",
   "metadata": {},
   "outputs": [
    {
     "data": {
      "text/plain": [
       "(4, 6, 10)"
      ]
     },
     "execution_count": 3,
     "metadata": {},
     "output_type": "execute_result"
    }
   ],
   "source": [
    "minha_tupla[1:]"
   ]
  },
  {
   "cell_type": "markdown",
   "id": "objective-shower",
   "metadata": {},
   "source": [
    "Tente modificar o segundo elemento da tupla, substituindo o valor por 9. O que acontece?"
   ]
  },
  {
   "cell_type": "code",
   "execution_count": 4,
   "id": "obvious-swimming",
   "metadata": {},
   "outputs": [
    {
     "ename": "TypeError",
     "evalue": "'tuple' object does not support item assignment",
     "output_type": "error",
     "traceback": [
      "\u001b[1;31m---------------------------------------------------------------------------\u001b[0m",
      "\u001b[1;31mTypeError\u001b[0m                                 Traceback (most recent call last)",
      "\u001b[1;32m<ipython-input-4-c41d2154cf2c>\u001b[0m in \u001b[0;36m<module>\u001b[1;34m\u001b[0m\n\u001b[1;32m----> 1\u001b[1;33m \u001b[0mminha_tupla\u001b[0m\u001b[1;33m[\u001b[0m\u001b[1;36m1\u001b[0m\u001b[1;33m]\u001b[0m \u001b[1;33m=\u001b[0m \u001b[1;36m9\u001b[0m\u001b[1;33m\u001b[0m\u001b[1;33m\u001b[0m\u001b[0m\n\u001b[0m",
      "\u001b[1;31mTypeError\u001b[0m: 'tuple' object does not support item assignment"
     ]
    }
   ],
   "source": [
    "minha_tupla[1] = 9"
   ]
  },
  {
   "cell_type": "code",
   "execution_count": 5,
   "id": "serious-folder",
   "metadata": {},
   "outputs": [],
   "source": [
    "# Não é possível alterar os elementos de uma tupla."
   ]
  },
  {
   "cell_type": "markdown",
   "id": "suitable-latter",
   "metadata": {},
   "source": [
    "Digite na célula abaixo 1,2 e digite Enter. Como o Python interpreta esta expressão?"
   ]
  },
  {
   "cell_type": "code",
   "execution_count": 7,
   "id": "positive-bernard",
   "metadata": {},
   "outputs": [
    {
     "data": {
      "text/plain": [
       "(1, 2)"
      ]
     },
     "execution_count": 7,
     "metadata": {},
     "output_type": "execute_result"
    }
   ],
   "source": [
    "1,2"
   ]
  },
  {
   "cell_type": "code",
   "execution_count": null,
   "id": "impaired-fishing",
   "metadata": {},
   "outputs": [],
   "source": [
    "# Ele interpreta como uma tupla."
   ]
  },
  {
   "cell_type": "markdown",
   "id": "heard-independence",
   "metadata": {},
   "source": [
    "Rode na célula abaixo o seguinte código. Em seguida verifique os valores de a, b e c. O que aconteceu?}\n",
    "    \n",
    "<code> a,b,c = (1,5,10)</code>"
   ]
  },
  {
   "cell_type": "code",
   "execution_count": 9,
   "id": "colonial-testimony",
   "metadata": {},
   "outputs": [],
   "source": [
    "a,b,c = (1,5,10)"
   ]
  },
  {
   "cell_type": "code",
   "execution_count": 10,
   "id": "polish-improvement",
   "metadata": {},
   "outputs": [
    {
     "data": {
      "text/plain": [
       "1"
      ]
     },
     "execution_count": 10,
     "metadata": {},
     "output_type": "execute_result"
    }
   ],
   "source": [
    "a"
   ]
  },
  {
   "cell_type": "code",
   "execution_count": 11,
   "id": "pharmaceutical-thumbnail",
   "metadata": {},
   "outputs": [
    {
     "data": {
      "text/plain": [
       "5"
      ]
     },
     "execution_count": 11,
     "metadata": {},
     "output_type": "execute_result"
    }
   ],
   "source": [
    "b"
   ]
  },
  {
   "cell_type": "code",
   "execution_count": 12,
   "id": "bigger-panic",
   "metadata": {},
   "outputs": [
    {
     "data": {
      "text/plain": [
       "10"
      ]
     },
     "execution_count": 12,
     "metadata": {},
     "output_type": "execute_result"
    }
   ],
   "source": [
    "c"
   ]
  },
  {
   "cell_type": "code",
   "execution_count": 13,
   "id": "involved-convert",
   "metadata": {},
   "outputs": [],
   "source": [
    "# O nome disso é tuple unpacking ou \"desempacotamento de tupla\"\n",
    "# a, b e c assumiram os valores da tupla seguindo a ordem com que foram dispostos. \n",
    "# O 'a' foi o primeiro valor e assumiu o primeiro valor da tupla."
   ]
  },
  {
   "cell_type": "code",
   "execution_count": null,
   "id": "light-prevention",
   "metadata": {},
   "outputs": [],
   "source": []
  },
  {
   "cell_type": "markdown",
   "id": "mounted-hungarian",
   "metadata": {},
   "source": [
    "Queremos remover todos os itens repetidos da lista [10,31,3,4,12,3,2,5,6,3200,76,3,0,9,5,7,75,32,441,3,500] de forma que fique apenas um representante de cada item. Como poderemos fazer isto usando a estrutura de dados 'set'?"
   ]
  },
  {
   "cell_type": "code",
   "execution_count": 2,
   "id": "operational-memorial",
   "metadata": {},
   "outputs": [],
   "source": [
    "lista =  [10,31,3,4,12,3,2,5,6,3200,76,3,0,9,5,7,75,32,441,3,500]"
   ]
  },
  {
   "cell_type": "code",
   "execution_count": 3,
   "id": "defensive-sunday",
   "metadata": {},
   "outputs": [
    {
     "data": {
      "text/plain": [
       "[3200, 0, 2, 3, 4, 5, 6, 7, 32, 9, 10, 75, 12, 76, 500, 441, 31]"
      ]
     },
     "execution_count": 3,
     "metadata": {},
     "output_type": "execute_result"
    }
   ],
   "source": [
    "list(set([10,31,3,4,12,3,2,5,6,3200,76,3,0,9,5,7,75,32,441,3,500]))"
   ]
  },
  {
   "cell_type": "code",
   "execution_count": null,
   "id": "later-workshop",
   "metadata": {},
   "outputs": [],
   "source": []
  },
  {
   "cell_type": "code",
   "execution_count": null,
   "id": "nearby-savage",
   "metadata": {},
   "outputs": [],
   "source": []
  },
  {
   "cell_type": "markdown",
   "id": "italic-ready",
   "metadata": {},
   "source": [
    "Temos duas frases. Como poderemos saber que palavras estão contidas em ambas?"
   ]
  },
  {
   "cell_type": "code",
   "execution_count": 4,
   "id": "critical-ferry",
   "metadata": {},
   "outputs": [],
   "source": [
    "frase1 = \"Nubank is a leading financial technology company in Latin America. Its first product, launched in 2014, is a no-fee credit card that is fully managed by a mobile app. Almost 30 million people have requested the product since launch, and the company has passed the 12 million customer mark. In 2017, Nubank launched its proprietary loyalty rewards program (“Nubank Rewards”), as well as a digital account (“NuConta”) that is already used by 8 million people. This year, the company began testing its personal loan product and took its first steps in international expansion, opening offices in Mexico and Argentina. To date, Nubank has raised around US$ 820 million in seven equity investment rounds from TCV, Sequoia Capital, Kaszek Ventures, Tiger Global Management, QED, Founders Fund, DST Global, Redpoint Ventures, Ribbit Capital, Dragoneer Investment Group, Thrive Capital and Tencent. Recently, Nubank was elected as the most innovative company in Latin America and ranked no. 36 on Fast Company’s 50 Most Innovative Companies ranking. Interested in joining Nubank's revolution? All job openings are posted on http://sou.nu/vagas\"\n",
    "frase2 = \"Bank of America is one of the world's leading financial institutions, serving individual consumers, small and middle-market businesses and large corporations with a full range of banking, investing, asset management and other financial and risk management products and services.\""
   ]
  },
  {
   "cell_type": "code",
   "execution_count": 8,
   "id": "referenced-sheep",
   "metadata": {},
   "outputs": [
    {
     "data": {
      "text/plain": [
       "{'a', 'america', 'and', 'financial', 'is', 'leading', 'the'}"
      ]
     },
     "execution_count": 8,
     "metadata": {},
     "output_type": "execute_result"
    }
   ],
   "source": [
    "set(frase1.lower().split()).intersection(frase2.lower().split()) #melhoria futura: remover pontuação antes da análise"
   ]
  }
 ],
 "metadata": {
  "kernelspec": {
   "display_name": "Python 3",
   "language": "python",
   "name": "python3"
  },
  "language_info": {
   "codemirror_mode": {
    "name": "ipython",
    "version": 3
   },
   "file_extension": ".py",
   "mimetype": "text/x-python",
   "name": "python",
   "nbconvert_exporter": "python",
   "pygments_lexer": "ipython3",
   "version": "3.9.2"
  }
 },
 "nbformat": 4,
 "nbformat_minor": 5
}
