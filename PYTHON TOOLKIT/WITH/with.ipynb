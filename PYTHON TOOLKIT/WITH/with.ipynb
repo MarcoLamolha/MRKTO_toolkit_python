{
 "cells": [
  {
   "cell_type": "markdown",
   "metadata": {},
   "source": [
    "Leitura e escrita de um arquivo:"
   ]
  },
  {
   "cell_type": "code",
   "execution_count": 26,
   "metadata": {},
   "outputs": [
    {
     "name": "stdout",
     "output_type": "stream",
     "text": [
      "Learning 'with'\n",
      "Adicionando mais texto\n",
      "Adicionando ainda mais texto\n",
      "Adicionando ainda mais texto\n",
      "Adicionando ainda mais texto\n"
     ]
    }
   ],
   "source": [
    "\n",
    "with open('./other_file.txt', mode='r', encoding='utf-8') as f:\n",
    "    text = f.read()\n",
    "    print(text) # imprime o conteúdo de other_file.txt\n",
    "\n",
    "with open('./other_file.txt', mode='w', encoding='utf-8') as f:\n",
    "    f.write(text) # copia o conteúdo de with.txt para other_file.txt\n",
    "\n",
    "with open('./other_file.txt', mode='a', encoding='utf-8') as f:\n",
    "    f.write('\\nAdicionando ainda mais texto') # adiciona mais texto ao final do arquivo"
   ]
  },
  {
   "cell_type": "code",
   "execution_count": 27,
   "metadata": {},
   "outputs": [
    {
     "name": "stdout",
     "output_type": "stream",
     "text": [
      "Learning 'with'\n",
      "Adicionando mais texto\n",
      "Adicionando ainda mais texto\n",
      "Adicionando ainda mais texto\n",
      "Adicionando ainda mais texto\n",
      "Adicionando ainda mais texto"
     ]
    }
   ],
   "source": [
    "with open('./other_file.txt', mode='r', encoding='utf-8') as f:\n",
    "    for line in f:\n",
    "        print(line, end='') # imprime cada linha de other_file.txt\n"
   ]
  },
  {
   "cell_type": "code",
   "execution_count": 31,
   "metadata": {},
   "outputs": [
    {
     "name": "stdout",
     "output_type": "stream",
     "text": [
      "Learning 'with'\n",
      "\n"
     ]
    }
   ],
   "source": [
    "with open('./other_file.txt', mode='r', encoding='utf-8') as f:\n",
    "    line = f.readline()\n",
    "    print(line) # imprime a primeira linha de OutraCoisa.txt\n"
   ]
  },
  {
   "cell_type": "code",
   "execution_count": 30,
   "metadata": {},
   "outputs": [
    {
     "name": "stdout",
     "output_type": "stream",
     "text": [
      "[\"Learning 'with'\\n\", 'Adicionando mais texto\\n', 'Adicionando ainda mais texto\\n', 'Adicionando ainda mais texto\\n', 'Adicionando ainda mais texto\\n', 'Adicionando ainda mais texto']\n"
     ]
    }
   ],
   "source": [
    "with open('./other_file.txt', mode='r', encoding='utf-8') as f:\n",
    "    lines = f.readlines()\n",
    "    print(lines) # imprime o conteúdo de OutraCoisa.txt como uma lista de linhas\n",
    "\n"
   ]
  }
 ],
 "metadata": {
  "kernelspec": {
   "display_name": "Python 3",
   "language": "python",
   "name": "python3"
  },
  "language_info": {
   "codemirror_mode": {
    "name": "ipython",
    "version": 3
   },
   "file_extension": ".py",
   "mimetype": "text/x-python",
   "name": "python",
   "nbconvert_exporter": "python",
   "pygments_lexer": "ipython3",
   "version": "3.12.1"
  }
 },
 "nbformat": 4,
 "nbformat_minor": 4
}
