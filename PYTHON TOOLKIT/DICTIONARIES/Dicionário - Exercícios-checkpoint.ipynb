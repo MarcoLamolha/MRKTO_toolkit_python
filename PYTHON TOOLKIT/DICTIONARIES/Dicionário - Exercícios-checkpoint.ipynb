{
 "cells": [
  {
   "cell_type": "markdown",
   "id": "powered-cocktail",
   "metadata": {},
   "source": [
    "### Exercícios - Dicionário"
   ]
  },
  {
   "cell_type": "markdown",
   "id": "synthetic-antarctica",
   "metadata": {},
   "source": [
    "#### Registro"
   ]
  },
  {
   "cell_type": "markdown",
   "id": "equipped-oxide",
   "metadata": {},
   "source": [
    "Observe a estrutura do dicionário abaixo. Lembre-se da ideia de chaves e valores. Este é um dicionário simples e conseguimos ver todas as informações com facilidade. Mas teremos contatos com dicionários gigantescos e os métodos de manipulação de dicionário poderão nos ajudar muito."
   ]
  },
  {
   "cell_type": "code",
   "execution_count": 2,
   "id": "useful-packing",
   "metadata": {},
   "outputs": [],
   "source": [
    "dados_pessoais = {'nome':'Rodrigo', 'sobrenome':'Silva', 'idade':'45', 'esporte':'judô'}"
   ]
  },
  {
   "cell_type": "markdown",
   "id": "departmental-silicon",
   "metadata": {},
   "source": [
    "Imagine que este é o formato do registro do Rodrigo. Mas erraram seu sobrenome na hora do cadastro e precisaremos mudar de 'Silva' para 'Santos'. Como faremos?"
   ]
  },
  {
   "cell_type": "code",
   "execution_count": 3,
   "id": "allied-width",
   "metadata": {},
   "outputs": [
    {
     "data": {
      "text/plain": [
       "'Silva'"
      ]
     },
     "execution_count": 3,
     "metadata": {},
     "output_type": "execute_result"
    }
   ],
   "source": [
    "dados_pessoais['sobrenome']"
   ]
  },
  {
   "cell_type": "code",
   "execution_count": 4,
   "id": "orange-danish",
   "metadata": {},
   "outputs": [],
   "source": [
    "dados_pessoais['sobrenome'] = 'Santos'"
   ]
  },
  {
   "cell_type": "code",
   "execution_count": 5,
   "id": "generous-trinity",
   "metadata": {},
   "outputs": [
    {
     "data": {
      "text/plain": [
       "{'nome': 'Rodrigo', 'sobrenome': 'Santos', 'idade': '45', 'esporte': 'judô'}"
      ]
     },
     "execution_count": 5,
     "metadata": {},
     "output_type": "execute_result"
    }
   ],
   "source": [
    "dados_pessoais"
   ]
  },
  {
   "cell_type": "markdown",
   "id": "running-intro",
   "metadata": {},
   "source": [
    "Quais são todas as chaves deste dicionário? Use o método apropriado do dicionário para conseguir esta informação."
   ]
  },
  {
   "cell_type": "code",
   "execution_count": 19,
   "id": "paperback-mining",
   "metadata": {},
   "outputs": [
    {
     "data": {
      "text/plain": [
       "dict_keys(['nome', 'sobrenome', 'idade', 'esporte', 'profissão', 'estado civil', 'altura', 'status'])"
      ]
     },
     "execution_count": 19,
     "metadata": {},
     "output_type": "execute_result"
    }
   ],
   "source": [
    "dados_pessoais.keys()"
   ]
  },
  {
   "cell_type": "markdown",
   "id": "asian-lithuania",
   "metadata": {},
   "source": [
    "Quais são todos os valores deste dicionário? Use o método apropriado do dicionário para conseguir esta informação."
   ]
  },
  {
   "cell_type": "code",
   "execution_count": 7,
   "id": "close-europe",
   "metadata": {},
   "outputs": [
    {
     "data": {
      "text/plain": [
       "dict_values(['Rodrigo', 'Santos', '45', 'judô'])"
      ]
     },
     "execution_count": 7,
     "metadata": {},
     "output_type": "execute_result"
    }
   ],
   "source": [
    "dados_pessoais.values()"
   ]
  },
  {
   "cell_type": "markdown",
   "id": "speaking-notification",
   "metadata": {},
   "source": [
    "Quais são todos os itens (duplas de chave e valor) deste dicionário? Use o método apropriado do dicionário para conseguir esta informação."
   ]
  },
  {
   "cell_type": "code",
   "execution_count": 8,
   "id": "applied-newsletter",
   "metadata": {},
   "outputs": [
    {
     "data": {
      "text/plain": [
       "dict_items([('nome', 'Rodrigo'), ('sobrenome', 'Santos'), ('idade', '45'), ('esporte', 'judô')])"
      ]
     },
     "execution_count": 8,
     "metadata": {},
     "output_type": "execute_result"
    }
   ],
   "source": [
    "dados_pessoais.items()"
   ]
  },
  {
   "cell_type": "markdown",
   "id": "moving-cricket",
   "metadata": {},
   "source": [
    "Agora vamos acrescentar ao dicionário novas chaves e valores:"
   ]
  },
  {
   "cell_type": "markdown",
   "id": "pending-catalog",
   "metadata": {},
   "source": [
    "- 'profissão': 'Advogado'\n",
    "- 'estado civil': 'casado'\n",
    "- 'altura': 1.81\n",
    "- 'status': 'churn' "
   ]
  },
  {
   "cell_type": "markdown",
   "id": "domestic-reward",
   "metadata": {},
   "source": [
    "Obs: é possível fazer a atualização em bloco (várias de uma vez) ou item por item. Garanta que você se recorda dos dois métodos."
   ]
  },
  {
   "cell_type": "code",
   "execution_count": 20,
   "id": "binary-sellers",
   "metadata": {},
   "outputs": [],
   "source": [
    "dados_pessoais.update({\n",
    "    'profissão': 'Advogado',\n",
    "    'estado civil': 'casado',\n",
    "    'altura': 1.81,\n",
    "    'status': 'churn'\n",
    "    })"
   ]
  },
  {
   "cell_type": "code",
   "execution_count": 21,
   "id": "straight-thursday",
   "metadata": {},
   "outputs": [
    {
     "data": {
      "text/plain": [
       "{'nome': 'Rodrigo',\n",
       " 'sobrenome': 'Santos',\n",
       " 'idade': '45',\n",
       " 'esporte': 'judô',\n",
       " 'profissão': 'Advogado',\n",
       " 'estado civil': 'casado',\n",
       " 'altura': 1.81,\n",
       " 'status': 'churn'}"
      ]
     },
     "execution_count": 21,
     "metadata": {},
     "output_type": "execute_result"
    }
   ],
   "source": [
    "dados_pessoais"
   ]
  },
  {
   "cell_type": "markdown",
   "id": "unnecessary-shepherd",
   "metadata": {},
   "source": [
    "Substitua o valor da chave 'status' de 'churn' para 'ativo':"
   ]
  },
  {
   "cell_type": "code",
   "execution_count": 11,
   "id": "ethical-costume",
   "metadata": {},
   "outputs": [],
   "source": [
    "dados_pessoais['status'] = 'ativo'"
   ]
  },
  {
   "cell_type": "code",
   "execution_count": 12,
   "id": "intense-gospel",
   "metadata": {},
   "outputs": [
    {
     "data": {
      "text/plain": [
       "{'nome': 'Rodrigo',\n",
       " 'sobrenome': 'Santos',\n",
       " 'idade': '45',\n",
       " 'esporte': 'judô',\n",
       " 'profissão': 'Advogado',\n",
       " 'estado civil': 'casado',\n",
       " 'altura': 1.81,\n",
       " 'status': 'ativo'}"
      ]
     },
     "execution_count": 12,
     "metadata": {},
     "output_type": "execute_result"
    }
   ],
   "source": [
    "dados_pessoais"
   ]
  },
  {
   "cell_type": "markdown",
   "id": "rubber-gather",
   "metadata": {},
   "source": [
    "#### Crie um dicionário\n",
    "\n",
    "Vamos criar um dicionário chamado codigo_para_setor que associa cada número a um setor de startup:\n",
    "\n",
    "- 1 -> FinTech\n",
    "- 2 -> HealthTech\n",
    "- 3 -> RetailTech\n",
    "- 4 -> LogTech\n",
    "- 5 -> MarTech\n",
    "- 6 -> EdTech"
   ]
  },
  {
   "cell_type": "code",
   "execution_count": 13,
   "id": "arranged-finding",
   "metadata": {},
   "outputs": [],
   "source": [
    "# crie o dicionário aqui\n",
    "codigo_para_setor = {1:'FinTech',2:'HealthTech',3:'RetailTech',4:'LogTech',5:'MarTech',6:'EdTech'}"
   ]
  },
  {
   "cell_type": "markdown",
   "id": "varying-password",
   "metadata": {},
   "source": [
    "Temos a seguinte lista de setores de startups:"
   ]
  },
  {
   "cell_type": "code",
   "execution_count": 14,
   "id": "floating-lloyd",
   "metadata": {},
   "outputs": [],
   "source": [
    "startups = [1,2,1,1,1,2,3,4,5,2,3,1,2,6,5,6,6,4,2,1,5,1,6,3,2,5,2,4,6,1,1,1,2,1,4,5]"
   ]
  },
  {
   "cell_type": "markdown",
   "id": "stuck-offering",
   "metadata": {},
   "source": [
    "Usando o dicionário que acabamos de construir:\n",
    "\n",
    "- qual o código da startup de índice 16 nesta lista?\n",
    "\n",
    "- qual o setor da startup de indice 16 nesta lista?\n",
    "\n",
    "Use Python para conseguir estas respostas."
   ]
  },
  {
   "cell_type": "code",
   "execution_count": 15,
   "id": "rubber-occupation",
   "metadata": {},
   "outputs": [
    {
     "data": {
      "text/plain": [
       "6"
      ]
     },
     "execution_count": 15,
     "metadata": {},
     "output_type": "execute_result"
    }
   ],
   "source": [
    "startups[16]"
   ]
  },
  {
   "cell_type": "code",
   "execution_count": 16,
   "id": "bronze-sitting",
   "metadata": {},
   "outputs": [
    {
     "data": {
      "text/plain": [
       "'EdTech'"
      ]
     },
     "execution_count": 16,
     "metadata": {},
     "output_type": "execute_result"
    }
   ],
   "source": [
    "codigo_para_setor[6]"
   ]
  },
  {
   "cell_type": "markdown",
   "id": "alternate-third",
   "metadata": {},
   "source": [
    "Vamos criar um código para traduzir a lista startups de código para o nome de cada setor?"
   ]
  },
  {
   "cell_type": "markdown",
   "id": "electoral-consultancy",
   "metadata": {},
   "source": [
    "Uma das formas de se fazer isso é:\n",
    "\n",
    "- criar uma lista vazia chamada setor_nome.\n",
    "- percorrer cada elemento da lista startups.\n",
    "- para cada rodada do loop, usar o dicionario para traduzir código para nome de setor.\n",
    "- incluir o elemento traduzido na lista setor_nome"
   ]
  },
  {
   "cell_type": "code",
   "execution_count": null,
   "id": "prerequisite-spank",
   "metadata": {},
   "outputs": [
    {
     "name": "stdout",
     "output_type": "stream",
     "text": [
      "['FinTech', 'HealthTech', 'FinTech', 'FinTech', 'FinTech', 'HealthTech', 'RetailTech', 'LogTech', 'MarTech', 'HealthTech', 'RetailTech', 'FinTech', 'HealthTech', 'EdTech', 'MarTech', 'EdTech', 'EdTech', 'LogTech', 'HealthTech', 'FinTech', 'MarTech', 'FinTech', 'EdTech', 'RetailTech', 'HealthTech', 'MarTech', 'HealthTech', 'LogTech', 'EdTech', 'FinTech', 'FinTech', 'FinTech', 'HealthTech', 'FinTech', 'LogTech', 'MarTech']\n"
     ]
    }
   ],
   "source": [
    "setor_nome=[]\n",
    "\n",
    "for item in startups:\n",
    "    setor_nome.append(codigo_para_setor[item])\n",
    "print(setor_nome)"
   ]
  },
  {
   "cell_type": "markdown",
   "id": "altered-article",
   "metadata": {},
   "source": [
    "Deram a você um dicionário.\n",
    "\n",
    "dicionario = {0: 'jornada',\n",
    " 1: 'bolo',\n",
    " 2: 'interessante',\n",
    " 3: 'estes',\n",
    " 4: 'primeiros',\n",
    " 5: 'de',\n",
    " 6: 'estas',\n",
    " 7: 'divertida',\n",
    " 8: 'terceiros',\n",
    " 9: 'caminhar',\n",
    " 10: 'os',\n",
    " 11: 'passos',\n",
    " 12: 'bolhas',\n",
    " 13: 'uma',\n",
    " 14: 'postes',\n",
    " 15: 'ninguem',\n",
    " 16: 'são',\n",
    " 17: 'rica'}\n",
    "\n",
    "Algum tempo enviaram um conjunto de valores: \n",
    "[3, 16, 10, 4, 11, 5, 13, 0, 7]\n",
    "\n",
    "Use o Python para descobrir a mensagem cifrada:"
   ]
  },
  {
   "cell_type": "code",
   "execution_count": 24,
   "id": "excess-scale",
   "metadata": {},
   "outputs": [
    {
     "name": "stdout",
     "output_type": "stream",
     "text": [
      "estes\n",
      "são\n",
      "os\n",
      "primeiros\n",
      "passos\n",
      "de\n",
      "uma\n",
      "jornada\n",
      "divertida\n"
     ]
    }
   ],
   "source": [
    "dicionario = {0: 'jornada',\n",
    " 1: 'bolo',\n",
    " 2: 'interessante',\n",
    " 3: 'estes',\n",
    " 4: 'primeiros',\n",
    " 5: 'de',\n",
    " 6: 'estas',\n",
    " 7: 'divertida',\n",
    " 8: 'terceiros',\n",
    " 9: 'caminhar',\n",
    " 10: 'os',\n",
    " 11: 'passos',\n",
    " 12: 'bolhas',\n",
    " 13: 'uma',\n",
    " 14: 'postes',\n",
    " 15: 'ninguem',\n",
    " 16: 'são',\n",
    " 17: 'rica'}\n",
    "\n",
    "codigo = [3, 16, 10, 4, 11, 5, 13, 0, 7]\n",
    "\n",
    "for i in codigo:\n",
    "    print(dicionario[i])\n",
    "\n"
   ]
  }
 ],
 "metadata": {
  "kernelspec": {
   "display_name": "Python 3",
   "language": "python",
   "name": "python3"
  },
  "language_info": {
   "codemirror_mode": {
    "name": "ipython",
    "version": 3
   },
   "file_extension": ".py",
   "mimetype": "text/x-python",
   "name": "python",
   "nbconvert_exporter": "python",
   "pygments_lexer": "ipython3",
   "version": "3.12.1"
  }
 },
 "nbformat": 4,
 "nbformat_minor": 5
}
