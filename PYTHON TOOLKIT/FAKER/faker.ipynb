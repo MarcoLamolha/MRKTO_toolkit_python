{
 "cells": [
  {
   "cell_type": "markdown",
   "metadata": {},
   "source": [
    "MRKTO"
   ]
  },
  {
   "cell_type": "code",
   "execution_count": 6,
   "metadata": {},
   "outputs": [
    {
     "name": "stdout",
     "output_type": "stream",
     "text": [
      "Name: Roberto Hoffman\n",
      "Email: david63@example.net\n",
      "Address: 77659 Brown Gardens\n",
      "East Jim, UT 36248\n"
     ]
    }
   ],
   "source": [
    "from faker import Faker\n",
    "\n",
    "# Create Faker instance\n",
    "fake = Faker()\n",
    "\n",
    "# Generate some fake data\n",
    "print(f\"Name: {fake.name()}\")\n",
    "print(f\"Email: {fake.email()}\")\n",
    "print(f\"Address: {fake.address()}\")"
   ]
  },
  {
   "cell_type": "code",
   "execution_count": 8,
   "metadata": {},
   "outputs": [
    {
     "name": "stdout",
     "output_type": "stream",
     "text": [
      "Name: Carlos Joseph\n",
      "Job: Comptroller\n",
      "Email: nphillips@example.org\n",
      "Phone: (213)413-7661\n",
      "Address: 88443 Baker Center Suite 636\n",
      "South Cameronmouth, PA 19704\n",
      "City: Kelleyland\n",
      "Zipcode: 92671\n",
      "Username: qsuarez\n",
      "Password: ^hV64Csi8)\n",
      "URL: https://www.bradley.com/\n",
      "Company: Hill-Perez\n",
      "Company Email: wernerjames@nelson-taylor.info\n",
      "Date: 1977-05-06\n",
      "Time: 16:01:51\n",
      "Datetime: 2016-02-09 04:15:24\n"
     ]
    }
   ],
   "source": [
    "from faker import Faker\n",
    "\n",
    "fake = Faker()\n",
    "\n",
    "# Personal info\n",
    "print(f\"Name: {fake.name()}\")\n",
    "print(f\"Job: {fake.job()}\")\n",
    "print(f\"Email: {fake.email()}\")\n",
    "print(f\"Phone: {fake.phone_number()}\")\n",
    "\n",
    "# Address\n",
    "print(f\"Address: {fake.address()}\")\n",
    "print(f\"City: {fake.city()}\")\n",
    "print(f\"Zipcode: {fake.zipcode()}\")\n",
    "\n",
    "# Internet\n",
    "print(f\"Username: {fake.user_name()}\")\n",
    "print(f\"Password: {fake.password()}\")\n",
    "print(f\"URL: {fake.url()}\")\n",
    "\n",
    "# Company\n",
    "print(f\"Company: {fake.company()}\")\n",
    "print(f\"Company Email: {fake.company_email()}\")\n",
    "\n",
    "# Date/Time\n",
    "print(f\"Date: {fake.date()}\")\n",
    "print(f\"Time: {fake.time()}\")\n",
    "print(f\"Datetime: {fake.date_time()}\")"
   ]
  },
  {
   "cell_type": "code",
   "execution_count": 14,
   "metadata": {},
   "outputs": [
    {
     "name": "stdout",
     "output_type": "stream",
     "text": [
      "Product Code: PRD-35618\n",
      "Status: approved\n"
     ]
    }
   ],
   "source": [
    "from faker import Faker\n",
    "from faker.providers import BaseProvider\n",
    "\n",
    "# Create custom provider\n",
    "class CustomProvider(BaseProvider):\n",
    "    def product_code(self):\n",
    "        return f\"PRD-{self.random_number(digits=6)}\"\n",
    "    \n",
    "    def status(self):\n",
    "        statuses = ['pending', 'approved', 'rejected']\n",
    "        return self.random_element(statuses)\n",
    "\n",
    "# Initialize Faker and add provider\n",
    "fake = Faker()\n",
    "fake.add_provider(CustomProvider)\n",
    "\n",
    "# Use custom provider\n",
    "print(f\"Product Code: {fake.product_code()}\")\n",
    "print(f\"Status: {fake.status()}\")"
   ]
  }
 ],
 "metadata": {
  "kernelspec": {
   "display_name": "Python 3",
   "language": "python",
   "name": "python3"
  },
  "language_info": {
   "codemirror_mode": {
    "name": "ipython",
    "version": 3
   },
   "file_extension": ".py",
   "mimetype": "text/x-python",
   "name": "python",
   "nbconvert_exporter": "python",
   "pygments_lexer": "ipython3",
   "version": "3.12.6"
  }
 },
 "nbformat": 4,
 "nbformat_minor": 2
}
