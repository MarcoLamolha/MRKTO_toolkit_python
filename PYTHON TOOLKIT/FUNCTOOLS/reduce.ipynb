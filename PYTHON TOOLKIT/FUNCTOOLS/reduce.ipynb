{
 "cells": [
  {
   "cell_type": "code",
   "execution_count": null,
   "metadata": {},
   "outputs": [
    {
     "data": {
      "text/plain": [
       "Added: 68\n",
       "Multiplied: 264384\n",
       "Concatenated: Hello World from reduce\n",
       "Subtracted: -62\n"
      ]
     },
     "metadata": {},
     "output_type": "display_data"
    }
   ],
   "source": [
    "from functools import reduce\n",
    "\n",
    "numbers = [3, 4, 6, 9, 34, 12]\n",
    "words = ['Hello', 'World', 'from', 'reduce']\n",
    "\n",
    "# Use reduce with a lambda function to multiply the list\n",
    "added = reduce(lambda x, y: x + y, numbers)\n",
    "multiplied = reduce(lambda x, y: x * y, numbers)\n",
    "concatenated = reduce(lambda x, y: x + ' ' + y, words)\n",
    "subtracted = reduce(lambda x, y: x - y, numbers)\n",
    "\n",
    "print(f'Added: {added}')\n",
    "print(f'Multiplied: {multiplied}')\n",
    "print(f'Concatenated: {concatenated}')\n",
    "print(f'Subtracted: {subtracted}')\n",
    "\n",
    "# Output\n",
    "# Added: 68\n",
    "# Multiplied: 7344\n",
    "# Concatenated: Hello World from reduce\n",
    "# Subtracted: -62\n",
    "\n",
    "# The reduce function takes a function and a list and applies the function cumulatively to the list.\n",
    "# The lambda function takes two arguments and returns the result of the operation.\n",
    "\n",
    "\n",
    "\n"
   ]
  }
 ],
 "metadata": {
  "language_info": {
   "name": "python"
  }
 },
 "nbformat": 4,
 "nbformat_minor": 2
}
