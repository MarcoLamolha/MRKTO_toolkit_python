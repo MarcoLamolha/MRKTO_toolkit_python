{
 "cells": [
  {
   "cell_type": "markdown",
   "id": "assumed-jacksonville",
   "metadata": {},
   "source": [
    "# Exercícios - Funções"
   ]
  },
  {
   "cell_type": "markdown",
   "id": "entitled-sailing",
   "metadata": {},
   "source": [
    "Qual o mínimo de parâmetros que uma função pode ter?"
   ]
  },
  {
   "cell_type": "code",
   "execution_count": null,
   "id": "executive-trade",
   "metadata": {},
   "outputs": [],
   "source": []
  },
  {
   "cell_type": "markdown",
   "id": "static-payroll",
   "metadata": {},
   "source": [
    "Qual o mínimo de retornos (outputs) que uma função pode ter?"
   ]
  },
  {
   "cell_type": "code",
   "execution_count": null,
   "id": "trying-scottish",
   "metadata": {},
   "outputs": [],
   "source": []
  },
  {
   "cell_type": "markdown",
   "id": "consecutive-cooling",
   "metadata": {},
   "source": [
    "O que são variáveis locais e globais?"
   ]
  },
  {
   "cell_type": "code",
   "execution_count": null,
   "id": "prepared-washington",
   "metadata": {},
   "outputs": [],
   "source": []
  },
  {
   "cell_type": "markdown",
   "id": "terminal-breathing",
   "metadata": {},
   "source": [
    "### Ex\n",
    "Crie uma função capaz de receber um texto e devolver uma nova versão deste texto, com todas as letras minúsculas, tendo substituído pontos ('.','?','!') e vírgulas (',') por espaço em branco ' '."
   ]
  },
  {
   "cell_type": "code",
   "execution_count": 7,
   "id": "nonprofit-tours",
   "metadata": {},
   "outputs": [],
   "source": [
    "def trabalha_texto(texto):\n",
    "    \n",
    "    texto = texto.lower()\n",
    "    \n",
    "    for item in ['.','!','?',',']:\n",
    "    \n",
    "        texto = texto.replace(item, ' ')\n",
    "    \n",
    "    return texto"
   ]
  },
  {
   "cell_type": "code",
   "execution_count": 8,
   "id": "israeli-typing",
   "metadata": {},
   "outputs": [
    {
     "data": {
      "text/plain": [
       "'olá pessoa  como você está  conhece o lucas  o pedro e o elias '"
      ]
     },
     "execution_count": 8,
     "metadata": {},
     "output_type": "execute_result"
    }
   ],
   "source": [
    "trabalha_texto('Olá pessoa! Como você está? Conhece o Lucas, o Pedro e o Elias?')"
   ]
  },
  {
   "cell_type": "markdown",
   "id": "saved-pioneer",
   "metadata": {},
   "source": [
    "### Ex\n",
    "Crie uma função capaz de receber uma lista de números como seu argumento. A função devolverá de uma vez os valores máximo, mínimo e a soma de valores dos números da lista."
   ]
  },
  {
   "cell_type": "code",
   "execution_count": 3,
   "id": "graduate-watch",
   "metadata": {},
   "outputs": [],
   "source": [
    "def calculos(lista_de_valores):\n",
    "    \n",
    "    return max(lista_de_valores), min(lista_de_valores), sum(lista_de_valores)"
   ]
  },
  {
   "cell_type": "code",
   "execution_count": 4,
   "id": "shaped-airfare",
   "metadata": {},
   "outputs": [
    {
     "data": {
      "text/plain": [
       "(80, -9, 93)"
      ]
     },
     "execution_count": 4,
     "metadata": {},
     "output_type": "execute_result"
    }
   ],
   "source": [
    "calculos([13,2,3,-9,4,80])"
   ]
  },
  {
   "cell_type": "markdown",
   "id": "sunrise-increase",
   "metadata": {},
   "source": [
    "### Ex\n",
    "Crie uma função que pergunte para o usuário seu nome, sobrenome e idade, armazene estas informações em um dicionário e retorne este dicionário."
   ]
  },
  {
   "cell_type": "code",
   "execution_count": 1,
   "id": "offensive-capitol",
   "metadata": {},
   "outputs": [],
   "source": [
    "def cadastro():\n",
    "    \n",
    "    nome = input('Digite seu nome: ')\n",
    "    sobrenome = input('Digite seu sobrenome: ')\n",
    "    idade = input('Digite sua idade: ')\n",
    "    \n",
    "    dados = {\n",
    "        'nome':nome,\n",
    "        'sobrenome':sobrenome,\n",
    "        'idade':idade\n",
    "    }\n",
    "    \n",
    "    return dados"
   ]
  },
  {
   "cell_type": "code",
   "execution_count": 2,
   "id": "brief-wages",
   "metadata": {},
   "outputs": [
    {
     "name": "stdout",
     "output_type": "stream",
     "text": [
      "Digite seu nomeLucas\n",
      "Digite seu sobrenomeWhite Rossi\n",
      "Digite sua idade31\n"
     ]
    },
    {
     "data": {
      "text/plain": [
       "{'nome': 'Lucas', 'sobrenome': 'White Rossi', 'idade': '31'}"
      ]
     },
     "execution_count": 2,
     "metadata": {},
     "output_type": "execute_result"
    }
   ],
   "source": [
    "cadastro()"
   ]
  },
  {
   "cell_type": "markdown",
   "id": "frozen-application",
   "metadata": {},
   "source": [
    "### Ex:\n",
    "Leia sobre a função <a href=https://wiki.portugal-a-programar.pt/dev_geral:python:map>map</a>. A partir da lista [0,3,5,4,9], usando o map, crie uma nova lista com o quadrado de cada valor original."
   ]
  },
  {
   "cell_type": "code",
   "execution_count": null,
   "id": "heard-terror",
   "metadata": {},
   "outputs": [],
   "source": []
  },
  {
   "cell_type": "code",
   "execution_count": null,
   "id": "metric-lobby",
   "metadata": {},
   "outputs": [],
   "source": []
  }
 ],
 "metadata": {
  "kernelspec": {
   "display_name": "Python 3",
   "language": "python",
   "name": "python3"
  },
  "language_info": {
   "codemirror_mode": {
    "name": "ipython",
    "version": 3
   },
   "file_extension": ".py",
   "mimetype": "text/x-python",
   "name": "python",
   "nbconvert_exporter": "python",
   "pygments_lexer": "ipython3",
   "version": "3.9.2"
  }
 },
 "nbformat": 4,
 "nbformat_minor": 5
}
