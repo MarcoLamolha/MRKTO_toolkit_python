{
 "cells": [
  {
   "cell_type": "markdown",
   "id": "crucial-extreme",
   "metadata": {},
   "source": [
    "### Manipulação de strings - Exercícios"
   ]
  },
  {
   "cell_type": "markdown",
   "id": "alleged-westminster",
   "metadata": {},
   "source": [
    "#### Ex1"
   ]
  },
  {
   "cell_type": "markdown",
   "id": "large-bunny",
   "metadata": {},
   "source": [
    "Junte as palavras da lista abaixo em uma única string. As palavras devem estar separadas por um espaço em branco ' '. Ao final da string acrescente um ponto final."
   ]
  },
  {
   "cell_type": "code",
   "execution_count": 1,
   "id": "orange-profession",
   "metadata": {},
   "outputs": [],
   "source": [
    "palavras = ['A', 'tecnologia', 'para', 'tornar', 'algo', 'invisível', 'é', 'tão', 'infinitamente', 'complexa', 'que', 'é', 'muito', 'mais', 'simples', 'e', 'eficaz', 'remover', 'a', 'coisa', 'e', 'esquecer', 'o', 'assunto']"
   ]
  },
  {
   "cell_type": "code",
   "execution_count": 2,
   "id": "hairy-observation",
   "metadata": {},
   "outputs": [
    {
     "data": {
      "text/plain": [
       "'A tecnologia para tornar algo invisível é tão infinitamente complexa que é muito mais simples e eficaz remover a coisa e esquecer o assunto.'"
      ]
     },
     "execution_count": 2,
     "metadata": {},
     "output_type": "execute_result"
    }
   ],
   "source": [
    "' '.join(palavras) + '.'"
   ]
  },
  {
   "cell_type": "markdown",
   "id": "operating-anniversary",
   "metadata": {},
   "source": [
    "#### Ex2"
   ]
  },
  {
   "cell_type": "markdown",
   "id": "unknown-pottery",
   "metadata": {},
   "source": [
    "Na célula abaixo, use a lista de strings para criar uma única string da lista de compras. Comece a lista com a string `Lista de compras:` e inclua uma vírgula e um espaço entre cada item, exceto o último. Inclua um ponto final no final. Inclua na lista apenas alimentos que comecem com a letra 'b' e certifique-se de que todos os alimentos estejam em minúsculas."
   ]
  },
  {
   "cell_type": "code",
   "execution_count": 3,
   "id": "catholic-prayer",
   "metadata": {},
   "outputs": [],
   "source": [
    "lista_compras = ['Bananas', 'Chocolate', 'berinjela', 'fraldas', 'Sorvete', 'biscoito ou bolacha', 'brócolis']"
   ]
  },
  {
   "cell_type": "markdown",
   "id": "surgical-peninsula",
   "metadata": {},
   "source": [
    "Resolução 1:"
   ]
  },
  {
   "cell_type": "code",
   "execution_count": 4,
   "id": "alternative-paragraph",
   "metadata": {},
   "outputs": [],
   "source": [
    "nova_lista = []\n",
    "\n",
    "for item in lista_compras:\n",
    "    \n",
    "    if item.lower()[0] == 'b': # estamos verificando se a primeira letra da palavra (com letras minúsculas) é b.\n",
    "        \n",
    "        nova_lista.append(item.lower()) # estamos adicionando à nova_lista o item com letras minúsculas.\n",
    "        "
   ]
  },
  {
   "cell_type": "code",
   "execution_count": 5,
   "id": "intellectual-minutes",
   "metadata": {},
   "outputs": [
    {
     "data": {
      "text/plain": [
       "'Lista de compras:bananas, berinjela, biscoito ou bolacha, brócolis.'"
      ]
     },
     "execution_count": 5,
     "metadata": {},
     "output_type": "execute_result"
    }
   ],
   "source": [
    "'Lista de compras:' + ', '.join(nova_lista) + '.'"
   ]
  },
  {
   "cell_type": "markdown",
   "id": "acknowledged-scanner",
   "metadata": {},
   "source": [
    "Resolução 2:"
   ]
  },
  {
   "cell_type": "code",
   "execution_count": 6,
   "id": "specified-semester",
   "metadata": {},
   "outputs": [],
   "source": [
    "nova_lista = []\n",
    "\n",
    "for item in lista_compras:\n",
    "    \n",
    "    if item.lower().startswith('b'): # estamos verificando se a primeira letra da palavra (com letras minúsculas) é b.\n",
    "        \n",
    "        nova_lista.append(item.lower()) # estamos adicionando à nova_lista o item com letras minúsculas."
   ]
  },
  {
   "cell_type": "code",
   "execution_count": 7,
   "id": "ceramic-hampton",
   "metadata": {},
   "outputs": [
    {
     "data": {
      "text/plain": [
       "'Lista de compras:bananas, berinjela, biscoito ou bolacha, brócolis.'"
      ]
     },
     "execution_count": 7,
     "metadata": {},
     "output_type": "execute_result"
    }
   ],
   "source": [
    "'Lista de compras:' + ', '.join(nova_lista) + '.'"
   ]
  },
  {
   "cell_type": "markdown",
   "id": "allied-anniversary",
   "metadata": {},
   "source": [
    "Resolução 3:"
   ]
  },
  {
   "cell_type": "code",
   "execution_count": 8,
   "id": "mediterranean-survey",
   "metadata": {},
   "outputs": [],
   "source": [
    "nova_lista = [item.lower() for item in lista_compras if item.lower().startswith('b')]"
   ]
  },
  {
   "cell_type": "code",
   "execution_count": 9,
   "id": "sapphire-means",
   "metadata": {
    "scrolled": true
   },
   "outputs": [
    {
     "data": {
      "text/plain": [
       "'Lista de compras:bananas, berinjela, biscoito ou bolacha, brócolis.'"
      ]
     },
     "execution_count": 9,
     "metadata": {},
     "output_type": "execute_result"
    }
   ],
   "source": [
    "'Lista de compras:' + ', '.join(nova_lista) + '.'"
   ]
  },
  {
   "cell_type": "markdown",
   "id": "lightweight-opposition",
   "metadata": {},
   "source": [
    "#### Ex4"
   ]
  },
  {
   "cell_type": "markdown",
   "id": "viral-pierce",
   "metadata": {},
   "source": [
    "Substitua todas as ocorrências da palavra 'contrato' por 'carro'."
   ]
  },
  {
   "cell_type": "code",
   "execution_count": 10,
   "id": "tutorial-rabbit",
   "metadata": {},
   "outputs": [],
   "source": [
    "texto = 'Vamos avaliar cada item do seu contrato. Faremos a manutenção e revisão para garantir que seu contrato te dê a segurança que você procura'"
   ]
  },
  {
   "cell_type": "code",
   "execution_count": 11,
   "id": "pregnant-guitar",
   "metadata": {
    "scrolled": true
   },
   "outputs": [
    {
     "data": {
      "text/plain": [
       "'Vamos avaliar cada item do seu carro. Faremos a manutenção e revisão para garantir que seu carro te dê a segurança que você procura'"
      ]
     },
     "execution_count": 11,
     "metadata": {},
     "output_type": "execute_result"
    }
   ],
   "source": [
    "texto.replace('contrato','carro')"
   ]
  },
  {
   "cell_type": "markdown",
   "id": "restricted-polish",
   "metadata": {},
   "source": [
    "#### Ex5"
   ]
  },
  {
   "cell_type": "markdown",
   "id": "vocal-possible",
   "metadata": {},
   "source": [
    "Vimos primeiro a combinação de strings em uma longa string. Existem situações - como na análise da descrição de startups - em que precisamos fazer o oposto do desafio 1 e dividir a string em componentes menores para análise posterior. \n",
    "\n",
    "Na célula abaixo, divida a string em uma lista de strings usando o delimitador de espaço. Conte a frequência de cada palavra da string em um dicionário. Retire os pontos finais (.), pontos-e-vírgulas(;), travessões (—),  quebras de linha (\\n) e vírgulas do texto (,). Certifique-se de remover strings vazias ('') de seu dicionário."
   ]
  },
  {
   "cell_type": "code",
   "execution_count": 12,
   "id": "concrete-settlement",
   "metadata": {},
   "outputs": [],
   "source": [
    "poema = \"\"\"Minha terra tem palmeiras,\n",
    "Onde canta o Sabiá;\n",
    "As aves, que aqui gorjeiam,\n",
    "Não gorjeiam como lá.\n",
    "\n",
    "Nosso céu tem mais estrelas,\n",
    "Nossas várzeas têm mais flores,\n",
    "Nossos bosques têm mais vida,\n",
    "Nossa vida mais amores.\n",
    "\n",
    "Em cismar, sozinho, à noite,\n",
    "Mais prazer encontro eu lá;\n",
    "Minha terra tem palmeiras,\n",
    "Onde canta o Sabiá.\n",
    "\n",
    "Minha terra tem primores,\n",
    "Que tais não encontro eu cá;\n",
    "Em cismar — sozinho, à noite —\n",
    "Mais prazer encontro eu lá;\n",
    "Minha terra tem palmeiras,\n",
    "Onde canta o Sabiá.\n",
    "\n",
    "Não permita Deus que eu morra,\n",
    "Sem que eu volte para lá;\n",
    "Sem que desfrute os primores\n",
    "Que não encontro por cá;\n",
    "Sem qu’inda aviste as palmeiras,\n",
    "Onde canta o Sabiá.\"\"\""
   ]
  },
  {
   "cell_type": "code",
   "execution_count": 13,
   "id": "gentle-jurisdiction",
   "metadata": {},
   "outputs": [],
   "source": [
    "block_list = ['.',';','—',',','\\n']"
   ]
  },
  {
   "cell_type": "code",
   "execution_count": 14,
   "id": "trained-component",
   "metadata": {},
   "outputs": [],
   "source": [
    "for item in block_list:\n",
    "    poema = poema.replace(item,' ')"
   ]
  },
  {
   "cell_type": "code",
   "execution_count": 15,
   "id": "advance-defendant",
   "metadata": {},
   "outputs": [],
   "source": [
    "palavras = [item for item in poema.split() if item != '']"
   ]
  },
  {
   "cell_type": "code",
   "execution_count": 16,
   "id": "incoming-experiment",
   "metadata": {},
   "outputs": [],
   "source": [
    "freq = {}\n",
    "\n",
    "for palavra in palavras:\n",
    "    \n",
    "    if palavra not in freq.keys():\n",
    "        freq[palavra] = palavras.count(palavra)"
   ]
  },
  {
   "cell_type": "code",
   "execution_count": 17,
   "id": "agreed-elephant",
   "metadata": {},
   "outputs": [
    {
     "data": {
      "text/plain": [
       "{'Minha': 4,\n",
       " 'terra': 4,\n",
       " 'tem': 5,\n",
       " 'palmeiras': 4,\n",
       " 'Onde': 4,\n",
       " 'canta': 4,\n",
       " 'o': 4,\n",
       " 'Sabiá': 4,\n",
       " 'As': 1,\n",
       " 'aves': 1,\n",
       " 'que': 4,\n",
       " 'aqui': 1,\n",
       " 'gorjeiam': 2,\n",
       " 'Não': 2,\n",
       " 'como': 1,\n",
       " 'lá': 4,\n",
       " 'Nosso': 1,\n",
       " 'céu': 1,\n",
       " 'mais': 4,\n",
       " 'estrelas': 1,\n",
       " 'Nossas': 1,\n",
       " 'várzeas': 1,\n",
       " 'têm': 2,\n",
       " 'flores': 1,\n",
       " 'Nossos': 1,\n",
       " 'bosques': 1,\n",
       " 'vida': 2,\n",
       " 'Nossa': 1,\n",
       " 'amores': 1,\n",
       " 'Em': 2,\n",
       " 'cismar': 2,\n",
       " 'sozinho': 2,\n",
       " 'à': 2,\n",
       " 'noite': 2,\n",
       " 'Mais': 2,\n",
       " 'prazer': 2,\n",
       " 'encontro': 4,\n",
       " 'eu': 5,\n",
       " 'primores': 2,\n",
       " 'Que': 2,\n",
       " 'tais': 1,\n",
       " 'não': 2,\n",
       " 'cá': 2,\n",
       " 'permita': 1,\n",
       " 'Deus': 1,\n",
       " 'morra': 1,\n",
       " 'Sem': 3,\n",
       " 'volte': 1,\n",
       " 'para': 1,\n",
       " 'desfrute': 1,\n",
       " 'os': 1,\n",
       " 'por': 1,\n",
       " 'qu’inda': 1,\n",
       " 'aviste': 1,\n",
       " 'as': 1}"
      ]
     },
     "execution_count": 17,
     "metadata": {},
     "output_type": "execute_result"
    }
   ],
   "source": [
    "freq"
   ]
  }
 ],
 "metadata": {
  "kernelspec": {
   "display_name": "Python 3",
   "language": "python",
   "name": "python3"
  },
  "language_info": {
   "codemirror_mode": {
    "name": "ipython",
    "version": 3
   },
   "file_extension": ".py",
   "mimetype": "text/x-python",
   "name": "python",
   "nbconvert_exporter": "python",
   "pygments_lexer": "ipython3",
   "version": "3.9.2"
  }
 },
 "nbformat": 4,
 "nbformat_minor": 5
}
