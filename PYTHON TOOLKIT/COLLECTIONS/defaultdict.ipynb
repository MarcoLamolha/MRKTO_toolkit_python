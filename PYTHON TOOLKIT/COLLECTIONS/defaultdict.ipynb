{
 "cells": [
  {
   "cell_type": "code",
   "execution_count": null,
   "metadata": {},
   "outputs": [],
   "source": [
    "# defaultdict: dict subclass that calls a factory function to supply missing values\n",
    "from collections import defaultdict\n",
    "\n",
    "dd1 = defaultdict(int)\n",
    "dd2 = defaultdict(set)\n",
    "dd3 = defaultdict(list)\n",
    "dd4 = defaultdict(dict)\n",
    "dd5 = defaultdict(lambda: 'N/A')\n",
    "dd6 = defaultdict(lambda: defaultdict(int))"
   ]
  },
  {
   "cell_type": "code",
   "execution_count": null,
   "metadata": {},
   "outputs": [
    {
     "data": {
      "text/plain": [
       "defaultdict(<class 'int'>, {'apple': 3, 'banana': 2, 'orange': 1})\n"
      ]
     },
     "metadata": {},
     "output_type": "display_data"
    }
   ],
   "source": [
    "# Using defaultdict to count the occurrences of items in a list.\n",
    "\n",
    "from collections import defaultdict\n",
    "\n",
    "items = ['apple', 'banana', 'apple', 'orange', 'banana', 'apple']\n",
    "\n",
    "count = defaultdict(int)\n",
    "\n",
    "for item in items:\n",
    "    count[item] += 1\n",
    "\n",
    "print(count)  # Output: defaultdict(<class 'int'>, {'apple': 3, 'banana': 2, 'orange': 1})\n",
    "\n"
   ]
  },
  {
   "cell_type": "code",
   "execution_count": null,
   "metadata": {},
   "outputs": [
    {
     "data": {
      "text/plain": [
       "defaultdict(<class 'list'>, {'a': ['apple', 'apricot'], 'b': ['banana', 'blueberry'], 'c': ['cherry']})\n"
      ]
     },
     "metadata": {},
     "output_type": "display_data"
    }
   ],
   "source": [
    "# Group words by their first letter using defaultdict.\n",
    "\n",
    "from collections import defaultdict\n",
    "\n",
    "words = ['apple', 'banana', 'apricot', 'blueberry', 'cherry']\n",
    "\n",
    "grouped_words = defaultdict(list)\n",
    "\n",
    "for word in words:\n",
    "    grouped_words[word[0]].append(word)\n",
    "\n",
    "print(grouped_words)  # Output: defaultdict(<class 'list'>, {'a': ['apple', 'apricot'], 'b': ['banana', 'blueberry'], 'c': ['cherry']})"
   ]
  },
  {
   "cell_type": "code",
   "execution_count": null,
   "metadata": {},
   "outputs": [
    {
     "data": {
      "text/plain": [
       "MRKTO missing key\n",
       "defaultdict(<function <lambda> at 0x7e43d0040a40>, {'missing_key': 'MRKTO missing key', 'existing_key': 'MRKTO value'})\n"
      ]
     },
     "metadata": {},
     "output_type": "display_data"
    }
   ],
   "source": [
    "from collections import defaultdict\n",
    "\n",
    "# Create a defaultdict with a lambda function as the default_factory\n",
    "default_value_dict = defaultdict(lambda: 'MRKTO missing key')\n",
    "\n",
    "# Accessing a non-existent key\n",
    "print(default_value_dict['missing_key'])  # Output: default_value\n",
    "\n",
    "# Adding a key-value pair\n",
    "default_value_dict['existing_key'] = 'MRKTO value'\n",
    "\n",
    "print(default_value_dict)  # Output: defaultdict(<function <lambda> at 0x...>, {'missing_key': 'default_value', 'existing_key': 'value'})"
   ]
  },
  {
   "cell_type": "code",
   "execution_count": null,
   "metadata": {},
   "outputs": [
    {
     "data": {
      "text/plain": [
       "defaultdict(<function <lambda> at 0x7e43d0040680>, {'outer': defaultdict(<class 'int'>, {'inner': 1})})\n",
       "defaultdict(<class 'int'>, {'inner': 1})\n",
       "1\n",
       "0\n"
      ]
     },
     "metadata": {},
     "output_type": "display_data"
    }
   ],
   "source": [
    "from collections import defaultdict\n",
    "\n",
    "# Create a nested defaultdict\n",
    "nested_dict = defaultdict(lambda: defaultdict(int))\n",
    "\n",
    "# Accessing and modifying nested keys\n",
    "nested_dict['outer']['inner'] += 1\n",
    "\n",
    "print(nested_dict)  # Output: defaultdict(<function <lambda> at 0x...>, {'outer': defaultdict(<class 'int'>, {'inner': 1})})\n",
    "\n",
    "print(nested_dict['outer']) # Output: defaultdict(<class 'int'>, {'inner': 1})\n",
    "print(nested_dict['outer']['inner'])  # Output: 1\n",
    "print(nested_dict['non_existent_key']['inner'])  # Output: 0\n"
   ]
  },
  {
   "cell_type": "code",
   "execution_count": null,
   "metadata": {},
   "outputs": [],
   "source": []
  }
 ],
 "metadata": {
  "language_info": {
   "name": "python"
  }
 },
 "nbformat": 4,
 "nbformat_minor": 2
}
