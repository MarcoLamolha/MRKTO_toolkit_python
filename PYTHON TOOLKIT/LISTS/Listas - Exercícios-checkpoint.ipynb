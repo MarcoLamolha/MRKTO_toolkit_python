{
 "cells": [
  {
   "cell_type": "markdown",
   "id": "innocent-document",
   "metadata": {},
   "source": [
    "# Listas - Exercícios"
   ]
  },
  {
   "cell_type": "markdown",
   "id": "complimentary-transcript",
   "metadata": {},
   "source": [
    "### Seleção de Elementos de uma lista"
   ]
  },
  {
   "cell_type": "markdown",
   "id": "thermal-earthquake",
   "metadata": {},
   "source": [
    "#### 1) Crie uma lista chamada \"skills\", com as seguintes habilidades coletadas do <a href=https://business.linkedin.com/talent-solutions/blog/trends-and-research/2020/most-in-demand-hard-and-soft-skills>LinkedIn</a>:\n",
    "\"Creativity\", \"Persuasion\", \"Collaboration\", \"Adaptability\", \"Emotional intelligence\", \"Blockchain\", \"Cloud computing\", \"Anaytical reasoning\", \"Artificial intelligence\", \"UX design\", \"Business analysis\", \"Affiliate marketing\", \"Sales\", \"Scientific computing\" e  \"Video production\"."
   ]
  },
  {
   "cell_type": "code",
   "execution_count": null,
   "id": "scientific-engagement",
   "metadata": {},
   "outputs": [],
   "source": []
  },
  {
   "cell_type": "markdown",
   "id": "acoustic-diana",
   "metadata": {},
   "source": [
    "#### 2) Quantos elementos tem esta lista?"
   ]
  },
  {
   "cell_type": "code",
   "execution_count": null,
   "id": "nutritional-tuner",
   "metadata": {},
   "outputs": [],
   "source": []
  },
  {
   "cell_type": "markdown",
   "id": "smaller-roulette",
   "metadata": {},
   "source": [
    "#### 3) Selecione o primeiro elemento da lista. Lembre que em Python os índices começam do 0."
   ]
  },
  {
   "cell_type": "code",
   "execution_count": null,
   "id": "experienced-architect",
   "metadata": {},
   "outputs": [],
   "source": []
  },
  {
   "cell_type": "markdown",
   "id": "fitting-egyptian",
   "metadata": {},
   "source": [
    "#### 4) Selecione o quinto elemento da lista. \n",
    "(Temos inúmeras formas de responder, mas se precisar de ajuda: <a href='https://permita.me/busca/?q=tamanho+lista+python'>veja aqui</a>)"
   ]
  },
  {
   "cell_type": "code",
   "execution_count": null,
   "id": "aging-mercury",
   "metadata": {},
   "outputs": [],
   "source": []
  },
  {
   "cell_type": "markdown",
   "id": "immune-tampa",
   "metadata": {},
   "source": [
    "#### 5) Selecione o pedaço da lista que vai do terceiro elemento até o décimo elemento (inclusive)."
   ]
  },
  {
   "cell_type": "code",
   "execution_count": null,
   "id": "pretty-shirt",
   "metadata": {},
   "outputs": [],
   "source": []
  },
  {
   "cell_type": "markdown",
   "id": "affecting-classic",
   "metadata": {},
   "source": [
    "#### 6) Selecione o último elemento elemento da lista."
   ]
  },
  {
   "cell_type": "code",
   "execution_count": null,
   "id": "religious-interference",
   "metadata": {},
   "outputs": [],
   "source": []
  },
  {
   "cell_type": "markdown",
   "id": "pointed-reproduction",
   "metadata": {},
   "source": [
    "### Métodos de Listas"
   ]
  },
  {
   "cell_type": "markdown",
   "id": "deadly-parish",
   "metadata": {},
   "source": [
    "#### 7) Usando o método append, acrescente as seguintes habilidades à lista skill: \"Python Programming\" e \"Data Analytics\"."
   ]
  },
  {
   "cell_type": "code",
   "execution_count": null,
   "id": "plain-lottery",
   "metadata": {},
   "outputs": [],
   "source": []
  },
  {
   "cell_type": "markdown",
   "id": "artistic-ethics",
   "metadata": {},
   "source": [
    "#### 8) Através do método index, encontre o índice do item 'Blockchain':"
   ]
  },
  {
   "cell_type": "code",
   "execution_count": null,
   "id": "unlike-produce",
   "metadata": {},
   "outputs": [],
   "source": []
  },
  {
   "cell_type": "markdown",
   "id": "primary-complexity",
   "metadata": {},
   "source": [
    "#### 9) Troque o item do índice descoberto no ítem anterior pelo seguinte item: \"Data Science\""
   ]
  },
  {
   "cell_type": "code",
   "execution_count": null,
   "id": "ongoing-helicopter",
   "metadata": {},
   "outputs": [],
   "source": []
  },
  {
   "cell_type": "markdown",
   "id": "coated-elements",
   "metadata": {},
   "source": [
    "#### 10) Através do método pop, consiga o último valor da lista ao mesmo tempo em que este valor é removido da lista:"
   ]
  },
  {
   "cell_type": "code",
   "execution_count": null,
   "id": "awful-catering",
   "metadata": {},
   "outputs": [],
   "source": []
  },
  {
   "cell_type": "markdown",
   "id": "heated-planner",
   "metadata": {},
   "source": [
    "#### 11) Explore outros métodos de listas: <a heref=https://www.w3schools.com/python/python_ref_list.asp> métodos de lista </a>\n",
    "\n",
    "É interessante saber que as listas têm diversos métodos e saber como encontrá-los caso seja necessário. Na prática poucos farão parte de seu dia a dia. Então, desde já, acostume-se a procurar informações no Google, Stack Overflow, fóruns e todos os lugares em que seja possível trocar informações sobre programação Python."
   ]
  },
  {
   "cell_type": "code",
   "execution_count": null,
   "id": "searching-spirituality",
   "metadata": {},
   "outputs": [],
   "source": []
  },
  {
   "cell_type": "markdown",
   "id": "blond-contract",
   "metadata": {},
   "source": [
    "### Iterar usando Listas"
   ]
  },
  {
   "cell_type": "markdown",
   "id": "saving-level",
   "metadata": {},
   "source": [
    "#### 12) Para cada elemento da lista skills imprima o elemento acrescido do texto \" é uma skill\". Em algum momento teríamos \"Vídeo production é uma skill\""
   ]
  },
  {
   "cell_type": "code",
   "execution_count": null,
   "id": "listed-college",
   "metadata": {},
   "outputs": [],
   "source": []
  },
  {
   "cell_type": "markdown",
   "id": "elementary-literature",
   "metadata": {},
   "source": [
    "### List Comprehension"
   ]
  },
  {
   "cell_type": "code",
   "execution_count": 1,
   "id": "bigger-melissa",
   "metadata": {},
   "outputs": [],
   "source": [
    "numeros = [10, 20, 3, 4, 7, 9, 11, 14, 13]"
   ]
  },
  {
   "cell_type": "markdown",
   "id": "narrative-study",
   "metadata": {},
   "source": [
    "#### 13) Use List Comprehension para criar uma lista que tenha o triplo de cada elemento da lista numeros:"
   ]
  },
  {
   "cell_type": "code",
   "execution_count": null,
   "id": "academic-familiar",
   "metadata": {},
   "outputs": [],
   "source": []
  },
  {
   "cell_type": "markdown",
   "id": "every-intellectual",
   "metadata": {},
   "source": [
    "#### Desafio: "
   ]
  },
  {
   "cell_type": "markdown",
   "id": "identical-numbers",
   "metadata": {},
   "source": [
    "#### 14) Usando List Comprehension, crie uma lista apenas com os elementos pares da lista numeros:"
   ]
  },
  {
   "cell_type": "code",
   "execution_count": null,
   "id": "adjustable-ministry",
   "metadata": {},
   "outputs": [],
   "source": []
  },
  {
   "cell_type": "markdown",
   "id": "prescribed-pearl",
   "metadata": {},
   "source": [
    "#### 15) Usando List Comprehension, crie uma lista apenas com os elementos ímpares da lista numeros:"
   ]
  },
  {
   "cell_type": "code",
   "execution_count": null,
   "id": "helpful-taiwan",
   "metadata": {},
   "outputs": [],
   "source": []
  }
 ],
 "metadata": {
  "kernelspec": {
   "display_name": "Python 3",
   "language": "python",
   "name": "python3"
  },
  "language_info": {
   "codemirror_mode": {
    "name": "ipython",
    "version": 3
   },
   "file_extension": ".py",
   "mimetype": "text/x-python",
   "name": "python",
   "nbconvert_exporter": "python",
   "pygments_lexer": "ipython3",
   "version": "3.9.2"
  }
 },
 "nbformat": 4,
 "nbformat_minor": 5
}
